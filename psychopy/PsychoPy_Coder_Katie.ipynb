{
 "cells": [
  {
   "cell_type": "markdown",
   "metadata": {},
   "source": [
    "Please make sure that you do not run any of this within Jupyter; when we get to presenting stimuli, it will malfunction! Copy and paste all code directly into the python environment of your choice (my personal suggestion would be spyder)."
   ]
  },
  {
   "cell_type": "markdown",
   "metadata": {},
   "source": [
    "We should have already downloaded psychopy, but if you have not, please do so:"
   ]
  },
  {
   "cell_type": "code",
   "execution_count": 2,
   "metadata": {},
   "outputs": [
    {
     "name": "stdout",
     "output_type": "stream",
     "text": [
      "Collecting psychopy\n",
      "\u001b[?25l  Downloading https://files.pythonhosted.org/packages/7b/b9/244266b9842905522e3be59be257ce0818e9157e029a6900dd7f6136fe8b/PsychoPy-2020.1.2.zip (24.6MB)\n",
      "\u001b[K     |████████████████████████████████| 24.6MB 2.4MB/s eta 0:00:01\n",
      "\u001b[?25hRequirement already satisfied: requests[security] in /Users/tuj96493/opt/anaconda3/lib/python3.7/site-packages (from psychopy) (2.22.0)\n",
      "Requirement already satisfied: numpy in /Users/tuj96493/opt/anaconda3/lib/python3.7/site-packages (from psychopy) (1.17.2)\n",
      "Requirement already satisfied: scipy in /Users/tuj96493/opt/anaconda3/lib/python3.7/site-packages (from psychopy) (1.3.1)\n",
      "Requirement already satisfied: matplotlib in /Users/tuj96493/opt/anaconda3/lib/python3.7/site-packages (from psychopy) (3.0.3)\n",
      "Requirement already satisfied: pandas in /Users/tuj96493/opt/anaconda3/lib/python3.7/site-packages (from psychopy) (0.25.1)\n",
      "Requirement already satisfied: pillow in /Users/tuj96493/opt/anaconda3/lib/python3.7/site-packages (from psychopy) (6.2.0)\n",
      "Collecting glfw (from psychopy)\n",
      "\u001b[?25l  Downloading https://files.pythonhosted.org/packages/f7/d8/4e9ec9fb181280bdab2641cfbff3eae09b23cfebdfaba56592f29504fe2c/glfw-1.11.2-py2.py27.py3.py30.py31.py32.py33.py34.py35.py36.py37.py38-none-macosx_10_6_intel.whl (99kB)\n",
      "\u001b[K     |████████████████████████████████| 102kB 2.8MB/s ta 0:00:01\n",
      "\u001b[?25hCollecting pyopengl (from psychopy)\n",
      "\u001b[?25l  Downloading https://files.pythonhosted.org/packages/47/9a/8d9364533ebcaa13621994a63dcc6a6051e27671ae5e1715dac4af18cac2/PyOpenGL-3.1.5-py3-none-any.whl (2.4MB)\n",
      "\u001b[K     |████████████████████████████████| 2.4MB 130kB/s eta 0:00:01\n",
      "\u001b[?25hCollecting soundfile (from psychopy)\n",
      "\u001b[?25l  Downloading https://files.pythonhosted.org/packages/13/63/073fc76f2405af3ad1a2e667ac237a527fcdd81d4cbc7e2b721727687453/SoundFile-0.10.3.post1-py2.py3.cp26.cp27.cp32.cp33.cp34.cp35.cp36.pp27.pp32.pp33-none-macosx_10_5_x86_64.macosx_10_6_intel.macosx_10_9_intel.macosx_10_9_x86_64.whl (613kB)\n",
      "\u001b[K     |████████████████████████████████| 614kB 3.9MB/s eta 0:00:01\n",
      "\u001b[?25hCollecting sounddevice (from psychopy)\n",
      "\u001b[?25l  Downloading https://files.pythonhosted.org/packages/f0/3a/58fbd278c121536325fa6f9479a3cbc10ed49e18320a8ba83a500bf5dc08/sounddevice-0.3.15-py2.py3.cp26.cp27.cp32.cp33.cp34.cp35.cp36.cp37.cp38.cp39.pp27.pp32.pp33.pp34.pp35.pp36.pp37-none-macosx_10_6_x86_64.whl (77kB)\n",
      "\u001b[K     |████████████████████████████████| 81kB 5.2MB/s eta 0:00:01\n",
      "\u001b[?25hCollecting python-bidi (from psychopy)\n",
      "  Downloading https://files.pythonhosted.org/packages/33/b0/f942d146a2f457233baaafd6bdf624eba8e0f665045b4abd69d1b62d097d/python_bidi-0.4.2-py2.py3-none-any.whl\n",
      "Collecting arabic_reshaper (from psychopy)\n",
      "  Downloading https://files.pythonhosted.org/packages/1c/b8/9f87dc2fc6c2e087e448db9e7f66ca4d68c22e9d49a95e5aad22d77c74f1/arabic_reshaper-2.0.15-py3-none-any.whl\n",
      "Requirement already satisfied: future in /Users/tuj96493/opt/anaconda3/lib/python3.7/site-packages (from psychopy) (0.17.1)\n",
      "Collecting json_tricks (from psychopy)\n",
      "  Downloading https://files.pythonhosted.org/packages/5f/09/603c6d30babd527df4851696ebeddce4b6a0bc6468f143b39094c97cd830/json_tricks-3.15.2-py2.py3-none-any.whl\n",
      "Collecting pyosf (from psychopy)\n",
      "  Downloading https://files.pythonhosted.org/packages/d1/fa/091aea0dcd05cdc484b33d9556f648af966457882e38733b64a4c3728dd6/pyosf-1.0.5-py2.py3-none-any.whl\n",
      "Requirement already satisfied: xlrd in /Users/tuj96493/opt/anaconda3/lib/python3.7/site-packages (from psychopy) (1.2.0)\n",
      "Requirement already satisfied: openpyxl in /Users/tuj96493/opt/anaconda3/lib/python3.7/site-packages (from psychopy) (3.0.0)\n",
      "Collecting pyserial (from psychopy)\n",
      "\u001b[?25l  Downloading https://files.pythonhosted.org/packages/0d/e4/2a744dd9e3be04a0c0907414e2a01a7c88bb3915cbe3c8cc06e209f59c30/pyserial-3.4-py2.py3-none-any.whl (193kB)\n",
      "\u001b[K     |████████████████████████████████| 194kB 5.2MB/s eta 0:00:01\n",
      "\u001b[?25hRequirement already satisfied: pyyaml in /Users/tuj96493/opt/anaconda3/lib/python3.7/site-packages (from psychopy) (5.1.2)\n",
      "Requirement already satisfied: gevent in /Users/tuj96493/opt/anaconda3/lib/python3.7/site-packages (from psychopy) (1.4.0)\n",
      "Requirement already satisfied: msgpack in /Users/tuj96493/opt/anaconda3/lib/python3.7/site-packages (from psychopy) (0.6.1)\n",
      "Collecting msgpack-numpy (from psychopy)\n",
      "  Downloading https://files.pythonhosted.org/packages/46/96/5c56e589ac85b09ca08a9799e90244f9e08602c62915cba9e2abdfce73f7/msgpack_numpy-0.4.6.post0-py2.py3-none-any.whl\n",
      "Requirement already satisfied: psutil in /Users/tuj96493/opt/anaconda3/lib/python3.7/site-packages (from psychopy) (5.6.3)\n",
      "Requirement already satisfied: tables in /Users/tuj96493/opt/anaconda3/lib/python3.7/site-packages (from psychopy) (3.5.2)\n",
      "Requirement already satisfied: pyzmq in /Users/tuj96493/opt/anaconda3/lib/python3.7/site-packages (from psychopy) (18.1.0)\n",
      "Collecting moviepy (from psychopy)\n",
      "\u001b[?25l  Downloading https://files.pythonhosted.org/packages/18/54/01a8c4e35c75ca9724d19a7e4de9dc23f0ceb8769102c7de056113af61c3/moviepy-1.0.3.tar.gz (388kB)\n",
      "\u001b[K     |████████████████████████████████| 389kB 6.5MB/s eta 0:00:01\n",
      "\u001b[?25hCollecting python-gitlab (from psychopy)\n",
      "\u001b[?25l  Downloading https://files.pythonhosted.org/packages/2f/af/a7dc37012112d883034f77f2d9b3e4846d2694aeac74e4721af572cf8f12/python_gitlab-2.3.1-py3-none-any.whl (84kB)\n",
      "\u001b[K     |████████████████████████████████| 92kB 6.2MB/s eta 0:00:011\n",
      "\u001b[?25hRequirement already satisfied: gitpython in /Users/tuj96493/opt/anaconda3/lib/python3.7/site-packages (from psychopy) (3.1.2)\n",
      "Collecting astunparse (from psychopy)\n",
      "  Downloading https://files.pythonhosted.org/packages/2b/03/13dde6512ad7b4557eb792fbcf0c653af6076b81e5941d36ec61f7ce6028/astunparse-1.6.3-py2.py3-none-any.whl\n",
      "Collecting esprima (from psychopy)\n",
      "\u001b[?25l  Downloading https://files.pythonhosted.org/packages/cc/a1/50fccd68a12bcfc27adfc9969c090286670a9109a0259f3f70943390b721/esprima-4.0.1.tar.gz (47kB)\n",
      "\u001b[K     |████████████████████████████████| 51kB 3.6MB/s eta 0:00:01\n",
      "\u001b[?25hCollecting freetype-py (from psychopy)\n",
      "\u001b[?25l  Downloading https://files.pythonhosted.org/packages/02/c9/5414ba5fc8373a2c54e238f2e52c31b6b56b628449fcc114fc58c608d928/freetype_py-2.1.0.post1-py2.py3-none-macosx_10_6_intel.macosx_10_9_intel.macosx_10_9_x86_64.macosx_10_10_intel.macosx_10_10_x86_64.whl (1.6MB)\n",
      "\u001b[K     |████████████████████████████████| 1.6MB 2.7MB/s eta 0:00:01\n",
      "\u001b[?25hCollecting wxPython!=4.0.2,!=4.0.3 (from psychopy)\n",
      "\u001b[?25l  Downloading https://files.pythonhosted.org/packages/08/2d/0366306b56e002cb8218bd18e07542b8437ac9dc8568ebcb22731ef33f7e/wxPython-4.1.0-cp37-cp37m-macosx_10_9_x86_64.whl (18.1MB)\n",
      "\u001b[K     |████████████████████████████████| 18.1MB 2.4MB/s eta 0:00:01\n",
      "\u001b[?25hCollecting pyobjc-core (from psychopy)\n",
      "\u001b[?25l  Downloading https://files.pythonhosted.org/packages/fe/bc/f21b608d67e78d91bfd7a3d0342245d293fee91e13e2793e985486d5ca28/pyobjc_core-6.2.1-cp37-cp37m-macosx_10_9_x86_64.whl (293kB)\n",
      "\u001b[K     |████████████████████████████████| 296kB 4.8MB/s eta 0:00:01\n",
      "\u001b[?25hCollecting pyobjc-framework-Quartz (from psychopy)\n",
      "\u001b[?25l  Downloading https://files.pythonhosted.org/packages/c2/78/4ce670d41dc644a010af63b7f544c5aa623f296740fe3617b77026ad72ca/pyobjc_framework_Quartz-6.2.1-cp37-cp37m-macosx_10_9_x86_64.whl (138kB)\n",
      "\u001b[K     |████████████████████████████████| 143kB 1.1MB/s eta 0:00:01\n",
      "\u001b[?25hCollecting pyglet>=1.3 (from psychopy)\n",
      "\u001b[?25l  Downloading https://files.pythonhosted.org/packages/7a/f3/6d672ef78fd7ebb5843bd105b26da744d1a4c84eeda7ca3783788a33d4b0/pyglet-1.5.7-py3-none-any.whl (1.1MB)\n",
      "\u001b[K     |████████████████████████████████| 1.1MB 2.4MB/s eta 0:00:01\n",
      "\u001b[?25hRequirement already satisfied: imageio>=2.5 in /Users/tuj96493/opt/anaconda3/lib/python3.7/site-packages (from psychopy) (2.6.0)\n",
      "Collecting imageio-ffmpeg (from psychopy)\n",
      "\u001b[?25l  Downloading https://files.pythonhosted.org/packages/e8/59/19faebd9e08b1107895f31824da567da1b33a780f741edaa62f29cf47d5a/imageio_ffmpeg-0.4.2-py3-none-macosx_10_9_intel.macosx_10_9_x86_64.macosx_10_10_intel.macosx_10_10_x86_64.whl (22.5MB)\n",
      "\u001b[K     |████████████████████████████████| 22.5MB 7.3MB/s eta 0:00:01\n",
      "\u001b[?25hCollecting javascripthon (from psychopy)\n",
      "\u001b[?25l  Downloading https://files.pythonhosted.org/packages/b2/6d/e8339cae8487b8a226d9fcc25804697bcbcdf2c0b46f879f3de36d124887/javascripthon-0.11.tar.gz (540kB)\n"
     ]
    },
    {
     "name": "stdout",
     "output_type": "stream",
     "text": [
      "\u001b[K     |████████████████████████████████| 542kB 4.8MB/s eta 0:00:01\n",
      "\u001b[?25hCollecting questplus>=2019.3 (from psychopy)\n",
      "  Downloading https://files.pythonhosted.org/packages/ab/79/52620b42990384f817bb27f6c700f4c11ad9cdbb3364b72a2307f2b35c01/questplus-2019.4.tar.gz\n",
      "Requirement already satisfied: idna<2.9,>=2.5 in /Users/tuj96493/opt/anaconda3/lib/python3.7/site-packages (from requests[security]->psychopy) (2.8)\n",
      "Requirement already satisfied: chardet<3.1.0,>=3.0.2 in /Users/tuj96493/opt/anaconda3/lib/python3.7/site-packages (from requests[security]->psychopy) (3.0.4)\n",
      "Requirement already satisfied: certifi>=2017.4.17 in /Users/tuj96493/opt/anaconda3/lib/python3.7/site-packages (from requests[security]->psychopy) (2019.9.11)\n",
      "Requirement already satisfied: urllib3!=1.25.0,!=1.25.1,<1.26,>=1.21.1 in /Users/tuj96493/opt/anaconda3/lib/python3.7/site-packages (from requests[security]->psychopy) (1.24.2)\n",
      "Requirement already satisfied: cryptography>=1.3.4; extra == \"security\" in /Users/tuj96493/opt/anaconda3/lib/python3.7/site-packages (from requests[security]->psychopy) (2.7)\n",
      "Requirement already satisfied: pyOpenSSL>=0.14; extra == \"security\" in /Users/tuj96493/opt/anaconda3/lib/python3.7/site-packages (from requests[security]->psychopy) (19.0.0)\n",
      "Requirement already satisfied: cycler>=0.10 in /Users/tuj96493/opt/anaconda3/lib/python3.7/site-packages (from matplotlib->psychopy) (0.10.0)\n",
      "Requirement already satisfied: kiwisolver>=1.0.1 in /Users/tuj96493/opt/anaconda3/lib/python3.7/site-packages (from matplotlib->psychopy) (1.1.0)\n",
      "Requirement already satisfied: pyparsing!=2.0.4,!=2.1.2,!=2.1.6,>=2.0.1 in /Users/tuj96493/opt/anaconda3/lib/python3.7/site-packages (from matplotlib->psychopy) (2.4.2)\n",
      "Requirement already satisfied: python-dateutil>=2.1 in /Users/tuj96493/opt/anaconda3/lib/python3.7/site-packages (from matplotlib->psychopy) (2.8.0)\n",
      "Requirement already satisfied: pytz>=2017.2 in /Users/tuj96493/opt/anaconda3/lib/python3.7/site-packages (from pandas->psychopy) (2019.3)\n",
      "Requirement already satisfied: cffi>=1.0 in /Users/tuj96493/opt/anaconda3/lib/python3.7/site-packages (from soundfile->psychopy) (1.12.3)\n",
      "Requirement already satisfied: six in /Users/tuj96493/opt/anaconda3/lib/python3.7/site-packages (from python-bidi->psychopy) (1.12.0)\n",
      "Requirement already satisfied: setuptools in /Users/tuj96493/opt/anaconda3/lib/python3.7/site-packages (from arabic_reshaper->psychopy) (41.4.0)\n",
      "Requirement already satisfied: et-xmlfile in /Users/tuj96493/opt/anaconda3/lib/python3.7/site-packages (from openpyxl->psychopy) (1.0.1)\n",
      "Requirement already satisfied: jdcal in /Users/tuj96493/opt/anaconda3/lib/python3.7/site-packages (from openpyxl->psychopy) (1.4.1)\n",
      "Requirement already satisfied: greenlet>=0.4.14 in /Users/tuj96493/opt/anaconda3/lib/python3.7/site-packages (from gevent->psychopy) (0.4.15)\n",
      "Requirement already satisfied: numexpr>=2.6.2 in /Users/tuj96493/opt/anaconda3/lib/python3.7/site-packages (from tables->psychopy) (2.7.0)\n",
      "Requirement already satisfied: mock>=2.0 in /Users/tuj96493/opt/anaconda3/lib/python3.7/site-packages (from tables->psychopy) (3.0.5)\n",
      "Requirement already satisfied: decorator<5.0,>=4.0.2 in /Users/tuj96493/opt/anaconda3/lib/python3.7/site-packages (from moviepy->psychopy) (4.4.0)\n",
      "Requirement already satisfied: tqdm<5.0,>=4.11.2 in /Users/tuj96493/opt/anaconda3/lib/python3.7/site-packages (from moviepy->psychopy) (4.36.1)\n",
      "Collecting proglog<=1.0.0 (from moviepy->psychopy)\n",
      "  Downloading https://files.pythonhosted.org/packages/fe/ab/4cb19b578e1364c0b2d6efd6521a8b4b4e5c4ae6528041d31a2a951dd991/proglog-0.1.9.tar.gz\n",
      "Requirement already satisfied: gitdb<5,>=4.0.1 in /Users/tuj96493/opt/anaconda3/lib/python3.7/site-packages (from gitpython->psychopy) (4.0.5)\n",
      "Requirement already satisfied: wheel<1.0,>=0.23.0 in /Users/tuj96493/opt/anaconda3/lib/python3.7/site-packages (from astunparse->psychopy) (0.33.6)\n",
      "Collecting pyobjc-framework-Cocoa>=6.2.1 (from pyobjc-framework-Quartz->psychopy)\n",
      "\u001b[?25l  Downloading https://files.pythonhosted.org/packages/73/44/3093891929cc2fcbbdae067f7ea9773e157dfc55d3b33a4a78535f3eb876/pyobjc_framework_Cocoa-6.2.1-cp37-cp37m-macosx_10_9_x86_64.whl (276kB)\n",
      "\u001b[K     |████████████████████████████████| 286kB 9.4MB/s eta 0:00:01\n",
      "\u001b[?25hCollecting dukpy (from javascripthon->psychopy)\n",
      "\u001b[?25l  Downloading https://files.pythonhosted.org/packages/17/0e/e9c0c4d86142c529a62996d290e2f7d15cc4f214acf5386adc102191af94/dukpy-0.2.3.tar.gz (1.9MB)\n",
      "\u001b[K     |████████████████████████████████| 1.9MB 8.2MB/s eta 0:00:01\n",
      "\u001b[?25hCollecting macropy3==1.1.0b2 (from javascripthon->psychopy)\n",
      "\u001b[?25l  Downloading https://files.pythonhosted.org/packages/8c/b7/a61f9d9bd7de80ca51ef362db5bb6434ea21484c907d2a5f396d97b0274c/macropy3-1.1.0b2.tar.gz (44kB)\n",
      "\u001b[K     |████████████████████████████████| 51kB 14.8MB/s eta 0:00:01\n",
      "\u001b[?25hCollecting xarray (from questplus>=2019.3->psychopy)\n",
      "\u001b[?25l  Downloading https://files.pythonhosted.org/packages/ee/11/fb2a8a6015e3de4ff19a4870bb0d11f48ebdd997062557d24cd076b3088f/xarray-0.15.1-py3-none-any.whl (668kB)\n",
      "\u001b[K     |████████████████████████████████| 675kB 14.6MB/s eta 0:00:01\n",
      "\u001b[?25hRequirement already satisfied: asn1crypto>=0.21.0 in /Users/tuj96493/opt/anaconda3/lib/python3.7/site-packages (from cryptography>=1.3.4; extra == \"security\"->requests[security]->psychopy) (1.0.1)\n",
      "Requirement already satisfied: pycparser in /Users/tuj96493/opt/anaconda3/lib/python3.7/site-packages (from cffi>=1.0->soundfile->psychopy) (2.19)\n",
      "Requirement already satisfied: smmap<4,>=3.0.1 in /Users/tuj96493/opt/anaconda3/lib/python3.7/site-packages (from gitdb<5,>=4.0.1->gitpython->psychopy) (3.0.4)\n",
      "Building wheels for collected packages: psychopy, moviepy, esprima, javascripthon, questplus, proglog, dukpy, macropy3\n",
      "  Building wheel for psychopy (setup.py) ... \u001b[?25ldone\n",
      "\u001b[?25h  Created wheel for psychopy: filename=PsychoPy-2020.1.2-py2.py3-none-any.whl size=11344391 sha256=eaa6c2cbb6273839b08537a4c9662dd33d3ee0977b972247fc81215a89ce6c01\n",
      "  Stored in directory: /Users/tuj96493/Library/Caches/pip/wheels/8a/b8/93/9705c18b78a2db50631d8acbe4c2c4a55594e69f59bbda776d\n",
      "  Building wheel for moviepy (setup.py) ... \u001b[?25ldone\n",
      "\u001b[?25h  Created wheel for moviepy: filename=moviepy-1.0.3-cp37-none-any.whl size=110727 sha256=637bbc7edc2c046510d83f292f655d69c21f9b5a477fb64e16b52efbf383c116\n",
      "  Stored in directory: /Users/tuj96493/Library/Caches/pip/wheels/e0/fe/1c/f4e6dca9e828d4b979c04e461d7fcc5b8e7bd35f947e665b65\n",
      "  Building wheel for esprima (setup.py) ... \u001b[?25ldone\n",
      "\u001b[?25h  Created wheel for esprima: filename=esprima-4.0.1-cp37-none-any.whl size=62262 sha256=98908f04bf6aa9e9109cd93b8a0bcad964f8c7411ee928495ef46b8545a4a425\n",
      "  Stored in directory: /Users/tuj96493/Library/Caches/pip/wheels/63/aa/c8/3fbb4a3f263a33d0f89439d173d2b835426e4399a99f0c8e14\n",
      "  Building wheel for javascripthon (setup.py) ... \u001b[?25ldone\n",
      "\u001b[?25h  Created wheel for javascripthon: filename=javascripthon-0.11-cp37-none-any.whl size=526625 sha256=0c6939331f192f8cf74fd5d2177ec367a5ce7e09aba65a685c002f1e2ceb717f\n",
      "  Stored in directory: /Users/tuj96493/Library/Caches/pip/wheels/31/18/7e/bd39eb1de4f3128eba5c0d8bfd8bbc2fd07f6c715b6406c30a\n",
      "  Building wheel for questplus (setup.py) ... \u001b[?25ldone\n",
      "\u001b[?25h  Created wheel for questplus: filename=questplus-2019.4-py2.py3-none-any.whl size=25390 sha256=881e6d7d583b791d630b07ee93c803bd4bd4e63856c6fd3bd12b0edc5586116b\n",
      "  Stored in directory: /Users/tuj96493/Library/Caches/pip/wheels/13/a1/ac/31f5d4dfc48b149ddaed4a66ad1cacb8672d881b4ca3afb4e7\n",
      "  Building wheel for proglog (setup.py) ... \u001b[?25ldone\n",
      "\u001b[?25h  Created wheel for proglog: filename=proglog-0.1.9-cp37-none-any.whl size=6150 sha256=2b52bf104b622009223ca33be383241ca332178ff9b3dc75ab3b36624f4bba4c\n",
      "  Stored in directory: /Users/tuj96493/Library/Caches/pip/wheels/65/56/60/1d0306a8d90b188af393c1812ddb502a8821b70917f82dcc00\n",
      "  Building wheel for dukpy (setup.py) ... \u001b[?25ldone\n",
      "\u001b[?25h  Created wheel for dukpy: filename=dukpy-0.2.3-cp37-cp37m-macosx_10_9_x86_64.whl size=1318685 sha256=80691b68c97319a30f229ba2bec6988497076ed5423ed7d99b6e0dc90544800b\n",
      "  Stored in directory: /Users/tuj96493/Library/Caches/pip/wheels/2c/2d/4d/9b4407ae54905cad736535c0dae8d5cbde77b4fe575925a4a9\n",
      "  Building wheel for macropy3 (setup.py) ... \u001b[?25ldone\n",
      "\u001b[?25h  Created wheel for macropy3: filename=macropy3-1.1.0b2-cp37-none-any.whl size=50108 sha256=041bfa3d13b0a327a2a8897f5e3559a85985d349e2a2f8ccb9d9e15ead83da92\n",
      "  Stored in directory: /Users/tuj96493/Library/Caches/pip/wheels/ef/ea/95/65744a6a720d5b0b57779da564c68a3e1b221ea998542a78b3\n",
      "Successfully built psychopy moviepy esprima javascripthon questplus proglog dukpy macropy3\n",
      "\u001b[31mERROR: moviepy 1.0.3 has requirement numpy>=1.17.3; python_version != \"2.7\", but you'll have numpy 1.17.2 which is incompatible.\u001b[0m\n",
      "Installing collected packages: glfw, pyopengl, soundfile, sounddevice, python-bidi, arabic-reshaper, json-tricks, pyosf, pyserial, msgpack-numpy, proglog, imageio-ffmpeg, moviepy, python-gitlab, astunparse, esprima, freetype-py, wxPython, pyobjc-core, pyobjc-framework-Cocoa, pyobjc-framework-Quartz, pyglet, dukpy, macropy3, javascripthon, xarray, questplus, psychopy\n",
      "Successfully installed arabic-reshaper-2.0.15 astunparse-1.6.3 dukpy-0.2.3 esprima-4.0.1 freetype-py-2.1.0.post1 glfw-1.11.2 imageio-ffmpeg-0.4.2 javascripthon-0.11 json-tricks-3.15.2 macropy3-1.1.0b2 moviepy-1.0.3 msgpack-numpy-0.4.6.post0 proglog-0.1.9 psychopy-2020.1.2 pyglet-1.5.7 pyobjc-core-6.2.1 pyobjc-framework-Cocoa-6.2.1 pyobjc-framework-Quartz-6.2.1 pyopengl-3.1.5 pyosf-1.0.5 pyserial-3.4 python-bidi-0.4.2 python-gitlab-2.3.1 questplus-2019.4 sounddevice-0.3.15 soundfile-0.10.3.post1 wxPython-4.1.0 xarray-0.15.1\n",
      "Note: you may need to restart the kernel to use updated packages.\n"
     ]
    }
   ],
   "source": [
    "pip install psychopy"
   ]
  },
  {
   "cell_type": "markdown",
   "metadata": {},
   "source": [
    "Once psychopy is installed, download the necessary packages for creating an experiment:"
   ]
  },
  {
   "cell_type": "code",
   "execution_count": 2,
   "metadata": {},
   "outputs": [],
   "source": [
    "import random, os\n",
    "from psychopy import core, visual, event, gui\n",
    "from PIL import Image\n",
    "import pandas as pd"
   ]
  },
  {
   "cell_type": "markdown",
   "metadata": {},
   "source": [
    "Next, we are going to set our directory variable so that we don't have to type out where our stimuli are all of the time:"
   ]
  },
  {
   "cell_type": "code",
   "execution_count": null,
   "metadata": {},
   "outputs": [],
   "source": [
    "#make sure you change this to the directory where you downloaded the stim folder!\n",
    "dir = '/Users/tuj96493/Downloads/stim/'"
   ]
  },
  {
   "cell_type": "markdown",
   "metadata": {},
   "source": [
    "The first thing I like to do when running an experiment is record the subject number and any other pertinent information about the session. This can be done with a dialogue box."
   ]
  },
  {
   "cell_type": "code",
   "execution_count": 6,
   "metadata": {},
   "outputs": [
    {
     "data": {
      "text/plain": [
       "['2']"
      ]
     },
     "execution_count": 6,
     "metadata": {},
     "output_type": "execute_result"
    }
   ],
   "source": [
    "myDlg = gui.Dlg()\n",
    "myDlg.addField('Subject Number:')\n",
    "myDlg.show()"
   ]
  },
  {
   "cell_type": "markdown",
   "metadata": {},
   "source": [
    "To record the participant's response, you have to input that information into a variable for later use. "
   ]
  },
  {
   "cell_type": "code",
   "execution_count": 7,
   "metadata": {},
   "outputs": [
    {
     "name": "stdout",
     "output_type": "stream",
     "text": [
      "2\n"
     ]
    }
   ],
   "source": [
    "subj_num = int(myDlg.data[0])\n",
    "print(subj_num)"
   ]
  },
  {
   "cell_type": "markdown",
   "metadata": {},
   "source": [
    "Now that you have all of the information that you need about your participant, you want to present stimuli. PsychoPy can present both visual and audio stimulus. This next step is important for presenting any type of stimulus.\n",
    "\n",
    "This next step will open a new window, but because we are not presenting stimuli yet it will be blank."
   ]
  },
  {
   "cell_type": "code",
   "execution_count": null,
   "metadata": {},
   "outputs": [],
   "source": [
    "#This step is important because the 'win' variable will be used a lot going forward.\n",
    "#This creates a small pop-out window rather than full screen. \n",
    "win = visual.Window(size= (800,  600),fullscr=None)"
   ]
  },
  {
   "cell_type": "markdown",
   "metadata": {},
   "source": [
    "I recommend using the above command and not the next one for the rest of the tutorial."
   ]
  },
  {
   "cell_type": "markdown",
   "metadata": {},
   "source": [
    "This is a simple way to do full screen:"
   ]
  },
  {
   "cell_type": "code",
   "execution_count": 3,
   "metadata": {},
   "outputs": [],
   "source": [
    " win = visual.Window(monitor=\"testMonitor\", fullscr=True)"
   ]
  },
  {
   "cell_type": "markdown",
   "metadata": {},
   "source": [
    "How to present a text stimulus:"
   ]
  },
  {
   "cell_type": "code",
   "execution_count": null,
   "metadata": {},
   "outputs": [],
   "source": [
    "#this creates a variable \"intro\" to be presented on the screen.\n",
    "intro = visual.TextStim(win, text=\"You can easily present text instructions to your particpant.\")\n",
    "intro.draw()\n",
    "win.flip()\n",
    "#this command tells the program to wait one second before moving on\n",
    "core.wait(1.0)\n",
    "#Text can be typed out, as above, or you can create a varible to present text. We will get to that later."
   ]
  },
  {
   "cell_type": "markdown",
   "metadata": {},
   "source": [
    "How to present an image:"
   ]
  },
  {
   "cell_type": "code",
   "execution_count": null,
   "metadata": {},
   "outputs": [],
   "source": [
    "image_stim = Image.open(dir+'polarbear.jpg')\n",
    "stim_size = (0.4, 0.5)\n",
    "pic_draw = visual.ImageStim(win, image_stim, size = (stim_size))\n",
    "pic_draw.draw()\n",
    "win.update()\n",
    "#this line below tells the program to wait until the space bar is pressed to exit the screen and move on\n",
    "event.waitKeys(keyList=[\"space\"])"
   ]
  },
  {
   "cell_type": "markdown",
   "metadata": {},
   "source": [
    "How to present audio:"
   ]
  },
  {
   "cell_type": "code",
   "execution_count": null,
   "metadata": {},
   "outputs": [],
   "source": [
    "sound_play = sound.Sound(dir+'polarbear.aiff')\n",
    "sound_play.play()\n",
    "win.update()\n",
    "core.wait(5.0)"
   ]
  },
  {
   "cell_type": "markdown",
   "metadata": {},
   "source": [
    "Now we have the basics down, I will show you how to import data and create a loop to present multiple stimuli."
   ]
  },
  {
   "cell_type": "code",
   "execution_count": null,
   "metadata": {},
   "outputs": [],
   "source": [
    "data = pd.read_csv(dir+'semepistim.csv')"
   ]
  },
  {
   "cell_type": "code",
   "execution_count": null,
   "metadata": {},
   "outputs": [],
   "source": [
    "#once the full dataset is imported, you can create a list of each stimuli\n",
    "pic = data['animalimage']\n",
    "audio = data['questionaudio']\n",
    "question = data['question']\n",
    "q_a = data['choicea']\n",
    "q_b = data['choiceb']\n",
    "answer = data['correctanswer']"
   ]
  },
  {
   "cell_type": "code",
   "execution_count": null,
   "metadata": {},
   "outputs": [],
   "source": [
    "print(pic)"
   ]
  },
  {
   "cell_type": "markdown",
   "metadata": {},
   "source": [
    "I prefer to use a while loop for experiments. You can only do this if you know how many iterations you will have. In our case, it is 4."
   ]
  },
  {
   "cell_type": "code",
   "execution_count": null,
   "metadata": {},
   "outputs": [],
   "source": [
    "n = 0\n",
    "while n != 1:"
   ]
  },
  {
   "cell_type": "code",
   "execution_count": null,
   "metadata": {},
   "outputs": [],
   "source": [
    "#the variable new_pic is used because now we have multiple pictures that need to be opened\n",
    "#pic[n] tells the program to take one of the variables inside of pic and turn it into the new variable, new_pic\n",
    "    new_pic = pic[n]\n",
    "    image_stim = Image.open(dir+new_pic)\n",
    "    pic_draw = visual.ImageStim(win, image_stim, size = (stim_size))\n",
    "\n",
    "#present audio\n",
    "    new_sound = audio[n]\n",
    "    sound_play = sound.Sound(dir+new_sound)\n",
    "    pic_draw.draw()\n",
    "    sound_play.play()\n",
    "    #this should show the image and play the audio at the same time\n",
    "    win.update()\n",
    "    event.waitKeys(keyList=[\"space\"])\n",
    "    #this increases n by 1 and allows the while loop to continue until n = 4\n",
    "    n = n +1"
   ]
  },
  {
   "cell_type": "markdown",
   "metadata": {},
   "source": [
    "Now that participants have completed the encoding portion, they can move on to the recall portion, which includes presenting images and text, but no audio."
   ]
  },
  {
   "cell_type": "code",
   "execution_count": null,
   "metadata": {},
   "outputs": [],
   "source": [
    "n = 0\n",
    "while n != 1:\n",
    "\n",
    "    new_pic = pic[n]\n",
    "    image_stim = Image.open(dir+new_pic)\n",
    "    #this sets up the text questions that accompany the image\n",
    "    q = text[n]\n",
    "    a1 = q_a[n]\n",
    "    a2 = q_b[n]\n",
    "    #this prepares the text to be put on the screen - definitely play around with postioning, etc\n",
    "    question = visual.TextStim(win, text=q)\n",
    "    question.pos = (0, -0.2)\n",
    "    question.draw()\n",
    "    answers1 = visual.TextStim(win, text=\"a.\"+a1)\n",
    "    answers1.pos = (0, -0.5)\n",
    "    answers1.draw()\n",
    "    answers2 = visual.TextStim(win, text=\"b.\"+a2)\n",
    "    answers2.pos = (0, -0.7)\n",
    "    answers2.draw()\n",
    "    win.update()\n",
    "    keys = event.waitKeys(keyList=['a', 'b', 'escape'])\n",
    "    \n",
    "    n = n + 1"
   ]
  },
  {
   "cell_type": "markdown",
   "metadata": {},
   "source": [
    "If you want to include recording responses it would look something like this:"
   ]
  },
  {
   "cell_type": "code",
   "execution_count": null,
   "metadata": {},
   "outputs": [],
   "source": [
    "output = pd.DataFrame(columns = (['Subject', 'Stim', 'Correct Answer', 'Subject Answer', 'Accuracy']))\n",
    "output.loc[0, 'Subject'] = subj_num"
   ]
  },
  {
   "cell_type": "markdown",
   "metadata": {},
   "source": [
    "Here is an example of how to use that to record data in our while loop:"
   ]
  },
  {
   "cell_type": "code",
   "execution_count": null,
   "metadata": {},
   "outputs": [],
   "source": [
    "#this if statement takes input from the participant response, compares it to what it should be, and provides feedback\n",
    "    if 'a' in keys:\n",
    "        if 'a' == answer[n]:\n",
    "            output.loc[n, 'Stim'] = new_pic\n",
    "            output.loc[n, 'Correct Answer'] = answer[n]\n",
    "            output.loc[n, 'Subject Answer'] = keys\n",
    "            output.loc[n, 'Accuracy'] = 1\n",
    "            message = visual.TextStim(win, text=\"That is correct!\")\n",
    "            message.draw()\n",
    "            win.update()\n",
    "            core.wait(1.0)\n",
    "        if 'a' != answer[n]:\n",
    "            output.loc[n, 'Stim'] = new_pic\n",
    "            output.loc[n, 'Correct Answer'] = answer[n]\n",
    "            output.loc[n, 'Subject Answer'] = keys\n",
    "            output.loc[n, 'Accuracy'] = 0\n",
    "            message = visual.TextStim(win, text=\"That is incorrect!\")\n",
    "            message.draw()\n",
    "            win.update()\n",
    "            core.wait(1.0)\n",
    "    if 'b' in keys:\n",
    "        if 'b' == answer[n]:\n",
    "            output.loc[n, 'Stim'] = new_pic\n",
    "            output.loc[n, 'Correct Answer'] = answer[n]\n",
    "            output.loc[n, 'Subject Answer'] = keys\n",
    "            output.loc[n, 'Accuracy'] = 1\n",
    "            message = visual.TextStim(win, text=\"That is correct!\")\n",
    "            message.draw()\n",
    "            win.update()\n",
    "            core.wait(1.0)\n",
    "        if 'b' != answer[n]:\n",
    "            output.loc[n, 'Stim'] = new_pic\n",
    "            output.loc[n, 'Correct Answer'] = answer[n]\n",
    "            output.loc[n, 'Subject Answer'] = keys\n",
    "            output.loc[n, 'Accuracy'] = 0\n",
    "            message = visual.TextStim(win, text=\"That is incorrect!\")\n",
    "            message.draw()\n",
    "            win.update()\n",
    "            core.wait(1.0)"
   ]
  },
  {
   "cell_type": "markdown",
   "metadata": {},
   "source": [
    "Make sure if you use the if statements above, you insert it above our 'n = n + 1' function, so it will be included in our while loop.\n",
    "\n",
    "If you would like to see the participant's answers, you can either print it directly after the experiment:"
   ]
  },
  {
   "cell_type": "code",
   "execution_count": null,
   "metadata": {},
   "outputs": [],
   "source": [
    "print(output)"
   ]
  },
  {
   "cell_type": "code",
   "execution_count": null,
   "metadata": {},
   "outputs": [],
   "source": [
    "Or there are ways to export your data into an excel sheet."
   ]
  }
 ],
 "metadata": {
  "kernelspec": {
   "display_name": "Python 3",
   "language": "python",
   "name": "python3"
  },
  "language_info": {
   "codemirror_mode": {
    "name": "ipython",
    "version": 3
   },
   "file_extension": ".py",
   "mimetype": "text/x-python",
   "name": "python",
   "nbconvert_exporter": "python",
   "pygments_lexer": "ipython3",
   "version": "3.7.6"
  }
 },
 "nbformat": 4,
 "nbformat_minor": 2
}
