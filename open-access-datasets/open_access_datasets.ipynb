{
 "cells": [
  {
   "cell_type": "markdown",
   "metadata": {
    "toc": true
   },
   "source": [
    "<h1>Table of Contents<span class=\"tocSkip\"></span></h1>\n",
    "<div class=\"toc\"><ul class=\"toc-item\"><li><span><a href=\"#General-Information\" data-toc-modified-id=\"General-Information-1\"><span class=\"toc-item-num\">1&nbsp;&nbsp;</span>General Information</a></span><ul class=\"toc-item\"><li><span><a href=\"#What-are-open-access-datasets?\" data-toc-modified-id=\"What-are-open-access-datasets?-1.1\"><span class=\"toc-item-num\">1.1&nbsp;&nbsp;</span>What are open access datasets?</a></span></li><li><span><a href=\"#Why-would-I-want-to-use-an-open-access-dataset?\" data-toc-modified-id=\"Why-would-I-want-to-use-an-open-access-dataset?-1.2\"><span class=\"toc-item-num\">1.2&nbsp;&nbsp;</span>Why would I want to use an open access dataset?</a></span></li><li><span><a href=\"#Where-can-I-find-them?\" data-toc-modified-id=\"Where-can-I-find-them?-1.3\"><span class=\"toc-item-num\">1.3&nbsp;&nbsp;</span>Where can I find them?</a></span></li><li><span><a href=\"#Gaining-access\" data-toc-modified-id=\"Gaining-access-1.4\"><span class=\"toc-item-num\">1.4&nbsp;&nbsp;</span>Gaining access</a></span></li><li><span><a href=\"#Logistical-issues\" data-toc-modified-id=\"Logistical-issues-1.5\"><span class=\"toc-item-num\">1.5&nbsp;&nbsp;</span>Logistical issues</a></span><ul class=\"toc-item\"><li><span><a href=\"#Hosting-the-data\" data-toc-modified-id=\"Hosting-the-data-1.5.1\"><span class=\"toc-item-num\">1.5.1&nbsp;&nbsp;</span>Hosting the data</a></span></li><li><span><a href=\"#Learning-the-data\" data-toc-modified-id=\"Learning-the-data-1.5.2\"><span class=\"toc-item-num\">1.5.2&nbsp;&nbsp;</span>Learning the data</a></span></li></ul></li></ul></li><li><span><a href=\"#HCP-Young-Adult-Behavioral-Data\" data-toc-modified-id=\"HCP-Young-Adult-Behavioral-Data-2\"><span class=\"toc-item-num\">2&nbsp;&nbsp;</span>HCP Young Adult Behavioral Data</a></span><ul class=\"toc-item\"><li><span><a href=\"#Data-Dictionary\" data-toc-modified-id=\"Data-Dictionary-2.1\"><span class=\"toc-item-num\">2.1&nbsp;&nbsp;</span>Data Dictionary</a></span><ul class=\"toc-item\"><li><span><a href=\"#Import-data-dictionary\" data-toc-modified-id=\"Import-data-dictionary-2.1.1\"><span class=\"toc-item-num\">2.1.1&nbsp;&nbsp;</span>Import data dictionary</a></span></li><li><span><a href=\"#Filtering-a-dataframe\" data-toc-modified-id=\"Filtering-a-dataframe-2.1.2\"><span class=\"toc-item-num\">2.1.2&nbsp;&nbsp;</span>Filtering a dataframe</a></span></li><li><span><a href=\"#Combine-dataframes\" data-toc-modified-id=\"Combine-dataframes-2.1.3\"><span class=\"toc-item-num\">2.1.3&nbsp;&nbsp;</span>Combine dataframes</a></span></li><li><span><a href=\"#Run-Stats\" data-toc-modified-id=\"Run-Stats-2.1.4\"><span class=\"toc-item-num\">2.1.4&nbsp;&nbsp;</span>Run Stats</a></span></li></ul></li></ul></li><li><span><a href=\"#HCP-Freesurfer-Structural-Data\" data-toc-modified-id=\"HCP-Freesurfer-Structural-Data-3\"><span class=\"toc-item-num\">3&nbsp;&nbsp;</span>HCP Freesurfer Structural Data</a></span><ul class=\"toc-item\"><li><ul class=\"toc-item\"><li><span><a href=\"#Filter-dataframe\" data-toc-modified-id=\"Filter-dataframe-3.0.1\"><span class=\"toc-item-num\">3.0.1&nbsp;&nbsp;</span>Filter dataframe</a></span></li><li><span><a href=\"#Combine-behavioral-and-neural-dataframes\" data-toc-modified-id=\"Combine-behavioral-and-neural-dataframes-3.0.2\"><span class=\"toc-item-num\">3.0.2&nbsp;&nbsp;</span>Combine behavioral and neural dataframes</a></span></li><li><span><a href=\"#Run-Stats\" data-toc-modified-id=\"Run-Stats-3.0.3\"><span class=\"toc-item-num\">3.0.3&nbsp;&nbsp;</span>Run Stats</a></span></li></ul></li></ul></li></ul></div>"
   ]
  },
  {
   "cell_type": "markdown",
   "metadata": {},
   "source": [
    "# General Information\n",
    "\n",
    "## What are open access datasets?\n",
    "Open access datasets are datasets that are free and accessible to \"anyone\". These datasets have been collected by a group of researchers who have decided to share their data with the scientific community in order to promote openness, reproducibility, and more research by allowing their datasets to be reused instead of being locked away on some hard drive. Typically, one must register to a website which hosts the data and create an account where they agree to the dataset's term of use. There may be an approval process that you need to go through before you receive access. <br>\n",
    "\n",
    "There are two types of open access datasets: large multi-site projects and datasets that are from a single group/study.\n",
    "\n",
    "## Why would I want to use an open access dataset?\n",
    "* Pros\n",
    "    * Large sample sizes - Open access datasets typically have very large sample sizes, as they are often multi-site studies.\n",
    "    * Free data collection\n",
    "    * Data can be very high quality, which many researchers might not be able to acquire themselves\n",
    "    * Data can come preprocessed\n",
    "    * Data (especially behavioral data) is usually clean\n",
    "* Cons\n",
    "    * Might not be able to test your specific hypotheses\n",
    "    * Some multi-side studies can be very troublesome\n",
    "    * Data can come preprocessed\n",
    "    * [Dataset decay](https://elifesciences.org/articles/53498) - overusing open access datasets may increase error rates\n",
    "\n",
    "\n",
    "## Where can I find them?\n",
    "* [OpenNeuro](https://openneuro.org/)\n",
    "    * Database of publically available single-study datasets\n",
    "* [Brain Genomics Superstruct Project (GSP)](https://dataverse.harvard.edu/dataverse/GSP)<img src=images/gsp.jpg />\n",
    "    * A collection of neuroimaing, behavior, cognitive, and personality data for over 1,500 human participants\n",
    "    * This dataset was used in [Yeo et al., 2011](https://journals.physiology.org/doi/full/10.1152/jn.00338.2011) to create the widely used Yeo 7-network atlas\n",
    "* [Adolescent Brain Cognitive Development (ABCD)](https://nda.nih.gov/abcd)\n",
    "    * Longitudinal study of brain development and child health from 21 sites\n",
    "    * Measured social, emotional, cognitive development, as well as health and environmental outcomes\n",
    "    * This dataset is somewhat notorious for its various issues\n",
    "        * The imaging data is very troublesome, as it is from different sites, with different scanners, scanner software, head-coils, etc.\n",
    "* [Human Connectome Project (HCP)](https://www.humanconnectome.org/study/hcp-young-adult)<img src=images/hcp_mmp.png />\n",
    "    * The HCP young adult dataset was collected on the same MRI scanner model across three different sites\n",
    "    * It is very high quality considering the multi-site nature of the dataset and the large sample size (1200)\n",
    "        * The researchers took careful consideration of the issues with multi-site studies and ensured that all studies were using the same type of scanner, scanner software, head-coil, and protocol\n",
    "    * Includes multi-modal data from fMRI tasks, fMRI resting state, DWI, and high resolution T1 structural scans, along with behavioral and cognitive data\n",
    "    * Most of the data is available fully preprocessed via their [Minimal Preprocessing Pipeline](https://pubmed.ncbi.nlm.nih.gov/23668970/)\n",
    "    * Additional HCP datasets\n",
    "        * [HCP Development](https://www.humanconnectome.org/study/hcp-lifespan-development)\n",
    "        * [HCP Aging](https://www.humanconnectome.org/study/hcp-lifespan-aging)\n",
    "        * Human disease (Alzheimer's, anxiety and depression, etc.) datasets to come\n",
    "    \n",
    "* [Autism Brain Imaging Data Exchange (ABIDE)](http://fcon_1000.projects.nitrc.org/indi/abide/abide_I.html)\n",
    "* [Open Access Series of Imaging Studies (OASIS)](https://www.oasis-brains.org/)\n",
    "* [Alzheimer's Disease Neuroimaing Initiative (ADNI)](http://adni.loni.usc.edu/)\n",
    "\n",
    "\n",
    "\n",
    "## Gaining access\n",
    "It turns out that \"open access\" is not as accessible as you would think. Typically, researchers will have to apply to gain access to a dataset. This can be just signing up and creating an account for the dataset, or submitting an pseudo application in which you will have to say who you are and what you intend to use the data for. <br>\n",
    "\n",
    "For this workshop, we will focus on the young adult (original) HCP dataset. The following steps will help you gain access to this dataset:\n",
    "\n",
    "1. Create an account on [ConnectomeDB](https://db.humanconnectome.org/app/template/Login.vm;jsessionid=5629BEC4DD00C13DB36AAD1C07677226).\n",
    "<br>\n",
    "\n",
    "2. Login with your connectomeDB account\n",
    "<br>\n",
    "\n",
    "3. Install the Aspera Connect plugin <img src=images/aspera_connect.png height=100 width=700 />\n",
    "<br>\n",
    "\n",
    "4. Log back into [ConnectomeDB](https://db.humanconnectome.org/app/template/Login.vm;jsessionid=5629BEC4DD00C13DB36AAD1C07677226) and accept the usage terms.\n",
    "<br>\n",
    "\n",
    "5. Download the behavioral and Freesurfer structural data <img height=400 width=500 src=images/hcp_download.png />\n",
    "<br>\n",
    "\n",
    "\n",
    "\n",
    "\n",
    "## Logistical issues\n",
    "\n",
    "### Hosting the data\n",
    "Some datasets, like neuroimaging data, can be very, VERY large. For example, a single subject's MRI data from the young adult HCP is over 40GB. Multiple that by 1200 (or slighly less) subjects, and you get 48TB of data, which is impossible for a single computer to host. In addition, it would be inefficient to have multiple researchers in a lab all have the same (large) dataset on their personal computers. Instead, there are two options: 1) Find a server to host the data for you in a common space that is accessible to everyone, or 2) only download a subset of the data. For the young adult HCP data, our lab has gone with option 1 and has teamed up with the computer science high performance cluster people at Temple to host the data on Owlsnest. \n",
    "\n",
    "### Learning the data\n",
    "Open access datasets may have variables that you are unfamiliar with, or that are named/abbreviated a specific way. To find out what variables are and what they aim to measure, refer to the dataset's data dictionary. Datasets may also come with documentation that describe what the dataset is, how it was acquired, how the data is structed and named. For imaging datasets, this is particularly important as the documentation will help you navigate directory structures to find the data you are interested in.\n",
    "\n",
    "\n",
    "***\n",
    "# HCP Young Adult Behavioral Data\n",
    "For this workshop, we will explore the behavioral and Freesurfer structural data from the young adult HCP data. Once these have been downloaded, place them somewhere where you can access them via the command line."
   ]
  },
  {
   "cell_type": "code",
   "execution_count": 7,
   "metadata": {
    "ExecuteTime": {
     "end_time": "2020-06-18T16:55:59.336134Z",
     "start_time": "2020-06-18T16:55:57.215Z"
    }
   },
   "outputs": [
    {
     "name": "stderr",
     "output_type": "stream",
     "text": [
      "Warning message:\n",
      "\"package 'dplyr' was built under R version 3.6.2\"\n",
      "Attaching package: 'dplyr'\n",
      "\n",
      "The following objects are masked from 'package:stats':\n",
      "\n",
      "    filter, lag\n",
      "\n",
      "The following objects are masked from 'package:base':\n",
      "\n",
      "    intersect, setdiff, setequal, union\n",
      "\n"
     ]
    }
   ],
   "source": [
    "library(dplyr)"
   ]
  },
  {
   "cell_type": "markdown",
   "metadata": {},
   "source": [
    "## Data Dictionary\n",
    "When we open the  behavioral data spreadsheet, we can see that variables are named as acronyms that might be unfamiliar. A data dictionary is a file (usually a csv of excel file) that acts as a sort of key to tell you what variables are, how they are named, and what they measure. "
   ]
  },
  {
   "cell_type": "code",
   "execution_count": 108,
   "metadata": {
    "ExecuteTime": {
     "end_time": "2020-06-18T18:44:48.475488Z",
     "start_time": "2020-06-18T18:44:48.079Z"
    }
   },
   "outputs": [
    {
     "data": {
      "text/html": [
       "<table>\n",
       "<thead><tr><th scope=col>Subject</th><th scope=col>Release</th><th scope=col>Acquisition</th><th scope=col>Gender</th><th scope=col>Age</th><th scope=col>X3T_Full_MR_Compl</th><th scope=col>T1_Count</th><th scope=col>T2_Count</th><th scope=col>X3T_RS.fMRI_Count</th><th scope=col>X3T_RS.fMRI_PctCompl</th><th scope=col>...</th><th scope=col>Noise_Comp</th><th scope=col>Odor_Unadj</th><th scope=col>Odor_AgeAdj</th><th scope=col>PainIntens_RawScore</th><th scope=col>PainInterf_Tscore</th><th scope=col>Taste_Unadj</th><th scope=col>Taste_AgeAdj</th><th scope=col>Mars_Log_Score</th><th scope=col>Mars_Errs</th><th scope=col>Mars_Final</th></tr></thead>\n",
       "<tbody>\n",
       "\t<tr><td>100004</td><td>S900  </td><td>Q06   </td><td>M     </td><td>22-25 </td><td>false </td><td>0     </td><td>0     </td><td>0     </td><td>  0   </td><td>...   </td><td>5.2   </td><td>101.12</td><td> 86.45</td><td>2     </td><td>45.9  </td><td>107.17</td><td>105.31</td><td>1.80  </td><td>0     </td><td>1.80  </td></tr>\n",
       "\t<tr><td>100206</td><td>S900  </td><td>Q11   </td><td>M     </td><td>26-30 </td><td>true  </td><td>1     </td><td>1     </td><td>4     </td><td>100   </td><td>...   </td><td>6.0   </td><td>108.79</td><td> 97.19</td><td>1     </td><td>49.7  </td><td> 72.63</td><td> 72.03</td><td>1.84  </td><td>0     </td><td>1.84  </td></tr>\n",
       "\t<tr><td>100307</td><td>Q1    </td><td>Q01   </td><td>F     </td><td>26-30 </td><td>true  </td><td>1     </td><td>1     </td><td>4     </td><td>100   </td><td>...   </td><td>3.6   </td><td>101.12</td><td> 86.45</td><td>0     </td><td>38.6  </td><td> 71.69</td><td> 71.76</td><td>1.76  </td><td>0     </td><td>1.76  </td></tr>\n",
       "\t<tr><td>100408</td><td>Q3    </td><td>Q03   </td><td>M     </td><td>31-35 </td><td>true  </td><td>1     </td><td>1     </td><td>4     </td><td>100   </td><td>...   </td><td>2.0   </td><td>108.79</td><td> 98.04</td><td>2     </td><td>52.6  </td><td>114.01</td><td>113.59</td><td>1.76  </td><td>2     </td><td>1.68  </td></tr>\n",
       "\t<tr><td>100610</td><td>S900  </td><td>Q08   </td><td>M     </td><td>26-30 </td><td>true  </td><td>2     </td><td>1     </td><td>4     </td><td>100   </td><td>...   </td><td>2.0   </td><td>122.25</td><td>110.45</td><td>0     </td><td>38.6  </td><td> 84.84</td><td> 85.31</td><td>1.92  </td><td>1     </td><td>1.88  </td></tr>\n",
       "\t<tr><td>101006</td><td>S500  </td><td>Q06   </td><td>F     </td><td>31-35 </td><td>true  </td><td>2     </td><td>2     </td><td>4     </td><td>100   </td><td>...   </td><td>6.0   </td><td>122.25</td><td>111.41</td><td>0     </td><td>38.6  </td><td>123.80</td><td>123.31</td><td>1.80  </td><td>0     </td><td>1.80  </td></tr>\n",
       "</tbody>\n",
       "</table>\n"
      ],
      "text/latex": [
       "\\begin{tabular}{r|llllllllllllllllllllllllllllllllllllllllllllllllllllllllllllllllllllllllllllllllllllllllllllllllllllllllllllllllllllllllllllllllllllllllllllllllllllllllllllllllllllllllllllllllllllllllllllllllllllllllllllllllllllllllllllllllllllllllllllllllllllllllllllllllllllllllllllllllllllllllllllllllllllllllllllllllllllllllllllllllllllllllllllllllllllllllllllllllllllllllllllllllllllllllllllllllllllllllllllllllllllllllllllllllllllllllllllllllllllllllllllllllllllllllllllllllllllllllllllllllllllllllllllllllllllllllllllllllllllllllllllllllllllllllllllllllllllllllllllllllllllllllllllllllllllll}\n",
       " Subject & Release & Acquisition & Gender & Age & X3T\\_Full\\_MR\\_Compl & T1\\_Count & T2\\_Count & X3T\\_RS.fMRI\\_Count & X3T\\_RS.fMRI\\_PctCompl & ... & Noise\\_Comp & Odor\\_Unadj & Odor\\_AgeAdj & PainIntens\\_RawScore & PainInterf\\_Tscore & Taste\\_Unadj & Taste\\_AgeAdj & Mars\\_Log\\_Score & Mars\\_Errs & Mars\\_Final\\\\\n",
       "\\hline\n",
       "\t 100004 & S900   & Q06    & M      & 22-25  & false  & 0      & 0      & 0      &   0    & ...    & 5.2    & 101.12 &  86.45 & 2      & 45.9   & 107.17 & 105.31 & 1.80   & 0      & 1.80  \\\\\n",
       "\t 100206 & S900   & Q11    & M      & 26-30  & true   & 1      & 1      & 4      & 100    & ...    & 6.0    & 108.79 &  97.19 & 1      & 49.7   &  72.63 &  72.03 & 1.84   & 0      & 1.84  \\\\\n",
       "\t 100307 & Q1     & Q01    & F      & 26-30  & true   & 1      & 1      & 4      & 100    & ...    & 3.6    & 101.12 &  86.45 & 0      & 38.6   &  71.69 &  71.76 & 1.76   & 0      & 1.76  \\\\\n",
       "\t 100408 & Q3     & Q03    & M      & 31-35  & true   & 1      & 1      & 4      & 100    & ...    & 2.0    & 108.79 &  98.04 & 2      & 52.6   & 114.01 & 113.59 & 1.76   & 2      & 1.68  \\\\\n",
       "\t 100610 & S900   & Q08    & M      & 26-30  & true   & 2      & 1      & 4      & 100    & ...    & 2.0    & 122.25 & 110.45 & 0      & 38.6   &  84.84 &  85.31 & 1.92   & 1      & 1.88  \\\\\n",
       "\t 101006 & S500   & Q06    & F      & 31-35  & true   & 2      & 2      & 4      & 100    & ...    & 6.0    & 122.25 & 111.41 & 0      & 38.6   & 123.80 & 123.31 & 1.80   & 0      & 1.80  \\\\\n",
       "\\end{tabular}\n"
      ],
      "text/markdown": [
       "\n",
       "| Subject | Release | Acquisition | Gender | Age | X3T_Full_MR_Compl | T1_Count | T2_Count | X3T_RS.fMRI_Count | X3T_RS.fMRI_PctCompl | ... | Noise_Comp | Odor_Unadj | Odor_AgeAdj | PainIntens_RawScore | PainInterf_Tscore | Taste_Unadj | Taste_AgeAdj | Mars_Log_Score | Mars_Errs | Mars_Final |\n",
       "|---|---|---|---|---|---|---|---|---|---|---|---|---|---|---|---|---|---|---|---|---|\n",
       "| 100004 | S900   | Q06    | M      | 22-25  | false  | 0      | 0      | 0      |   0    | ...    | 5.2    | 101.12 |  86.45 | 2      | 45.9   | 107.17 | 105.31 | 1.80   | 0      | 1.80   |\n",
       "| 100206 | S900   | Q11    | M      | 26-30  | true   | 1      | 1      | 4      | 100    | ...    | 6.0    | 108.79 |  97.19 | 1      | 49.7   |  72.63 |  72.03 | 1.84   | 0      | 1.84   |\n",
       "| 100307 | Q1     | Q01    | F      | 26-30  | true   | 1      | 1      | 4      | 100    | ...    | 3.6    | 101.12 |  86.45 | 0      | 38.6   |  71.69 |  71.76 | 1.76   | 0      | 1.76   |\n",
       "| 100408 | Q3     | Q03    | M      | 31-35  | true   | 1      | 1      | 4      | 100    | ...    | 2.0    | 108.79 |  98.04 | 2      | 52.6   | 114.01 | 113.59 | 1.76   | 2      | 1.68   |\n",
       "| 100610 | S900   | Q08    | M      | 26-30  | true   | 2      | 1      | 4      | 100    | ...    | 2.0    | 122.25 | 110.45 | 0      | 38.6   |  84.84 |  85.31 | 1.92   | 1      | 1.88   |\n",
       "| 101006 | S500   | Q06    | F      | 31-35  | true   | 2      | 2      | 4      | 100    | ...    | 6.0    | 122.25 | 111.41 | 0      | 38.6   | 123.80 | 123.31 | 1.80   | 0      | 1.80   |\n",
       "\n"
      ],
      "text/plain": [
       "  Subject Release Acquisition Gender Age   X3T_Full_MR_Compl T1_Count T2_Count\n",
       "1 100004  S900    Q06         M      22-25 false             0        0       \n",
       "2 100206  S900    Q11         M      26-30 true              1        1       \n",
       "3 100307  Q1      Q01         F      26-30 true              1        1       \n",
       "4 100408  Q3      Q03         M      31-35 true              1        1       \n",
       "5 100610  S900    Q08         M      26-30 true              2        1       \n",
       "6 101006  S500    Q06         F      31-35 true              2        2       \n",
       "  X3T_RS.fMRI_Count X3T_RS.fMRI_PctCompl ... Noise_Comp Odor_Unadj Odor_AgeAdj\n",
       "1 0                   0                  ... 5.2        101.12      86.45     \n",
       "2 4                 100                  ... 6.0        108.79      97.19     \n",
       "3 4                 100                  ... 3.6        101.12      86.45     \n",
       "4 4                 100                  ... 2.0        108.79      98.04     \n",
       "5 4                 100                  ... 2.0        122.25     110.45     \n",
       "6 4                 100                  ... 6.0        122.25     111.41     \n",
       "  PainIntens_RawScore PainInterf_Tscore Taste_Unadj Taste_AgeAdj Mars_Log_Score\n",
       "1 2                   45.9              107.17      105.31       1.80          \n",
       "2 1                   49.7               72.63       72.03       1.84          \n",
       "3 0                   38.6               71.69       71.76       1.76          \n",
       "4 2                   52.6              114.01      113.59       1.76          \n",
       "5 0                   38.6               84.84       85.31       1.92          \n",
       "6 0                   38.6              123.80      123.31       1.80          \n",
       "  Mars_Errs Mars_Final\n",
       "1 0         1.80      \n",
       "2 0         1.84      \n",
       "3 0         1.76      \n",
       "4 2         1.68      \n",
       "5 1         1.88      \n",
       "6 0         1.80      "
      ]
     },
     "metadata": {},
     "output_type": "display_data"
    }
   ],
   "source": [
    "behav_data <- read.csv('/Users/Administrator/Downloads/unrestricted_hspopal_6_17_2020_13_26_49.csv')\n",
    "head(behav_data)"
   ]
  },
  {
   "cell_type": "markdown",
   "metadata": {},
   "source": [
    "### Import data dictionary"
   ]
  },
  {
   "cell_type": "code",
   "execution_count": 109,
   "metadata": {
    "ExecuteTime": {
     "end_time": "2020-06-18T18:45:07.258325Z",
     "start_time": "2020-06-18T18:45:07.181Z"
    }
   },
   "outputs": [
    {
     "data": {
      "text/html": [
       "<table>\n",
       "<thead><tr><th scope=col>fullDisplayName</th><th scope=col>category</th><th scope=col>assessment</th><th scope=col>columnHeader</th><th scope=col>description</th></tr></thead>\n",
       "<tbody>\n",
       "\t<tr><td>Subject                                                                                                                                                                                                                                                                                </td><td>Subject Information                                                                                                                                                                                                                                                                    </td><td>Demographics                                                                                                                                                                                                                                                                           </td><td>Subject                                                                                                                                                                                                                                                                                </td><td>HCP Subject ID                                                                                                                                                                                                                                                                         </td></tr>\n",
       "\t<tr><td>Quarter Released                                                                                                                                                                                                                                                                       </td><td>Subject Information                                                                                                                                                                                                                                                                    </td><td>Demographics                                                                                                                                                                                                                                                                           </td><td>Release                                                                                                                                                                                                                                                                                </td><td>HCP data release in which this subject's data was initially published to ConnectomeDB.   Note: 'Release' does not indicate the version of the pipelines used to process subject data. Check the release-notes distributed with each processed dataset for pipeline version information.</td></tr>\n",
       "\t<tr><td>Acquisition Quarter                                                                                                                                                                                                                                                                    </td><td>Subject Information                                                                                                                                                                                                                                                                    </td><td>Demographics                                                                                                                                                                                                                                                                           </td><td>Acquisition                                                                                                                                                                                                                                                                            </td><td>Quarter in which this subject's data was initially acquired.                                                                                                                                                                                                                           </td></tr>\n",
       "\t<tr><td>Gender                                                                                                                                                                                                                                                                                 </td><td>Subject Information                                                                                                                                                                                                                                                                    </td><td>Demographics                                                                                                                                                                                                                                                                           </td><td>Gender                                                                                                                                                                                                                                                                                 </td><td>Gender of Subject                                                                                                                                                                                                                                                                      </td></tr>\n",
       "\t<tr><td>Age Range                                                                                                                                                                                                                                                                              </td><td>Subject Information                                                                                                                                                                                                                                                                    </td><td>Demographics                                                                                                                                                                                                                                                                           </td><td>Age                                                                                                                                                                                                                                                                                    </td><td>Age group of Participant, banded in five-year increments.                                                                                                                                                                                                                              </td></tr>\n",
       "\t<tr><td>Age Range                                                                                                                                                                                                                                                                              </td><td>Subject Information                                                                                                                                                                                                                                                                    </td><td>Demographics                                                                                                                                                                                                                                                                           </td><td>Age                                                                                                                                                                                                                                                                                    </td><td>Age group of Participant.                                                                                                                                                                                                                                                              </td></tr>\n",
       "</tbody>\n",
       "</table>\n"
      ],
      "text/latex": [
       "\\begin{tabular}{r|lllll}\n",
       " fullDisplayName & category & assessment & columnHeader & description\\\\\n",
       "\\hline\n",
       "\t Subject                                                                                                                                                                                                                                                                                 & Subject Information                                                                                                                                                                                                                                                                     & Demographics                                                                                                                                                                                                                                                                            & Subject                                                                                                                                                                                                                                                                                 & HCP Subject ID                                                                                                                                                                                                                                                                         \\\\\n",
       "\t Quarter Released                                                                                                                                                                                                                                                                        & Subject Information                                                                                                                                                                                                                                                                     & Demographics                                                                                                                                                                                                                                                                            & Release                                                                                                                                                                                                                                                                                 & HCP data release in which this subject's data was initially published to ConnectomeDB.   Note: 'Release' does not indicate the version of the pipelines used to process subject data. Check the release-notes distributed with each processed dataset for pipeline version information.\\\\\n",
       "\t Acquisition Quarter                                                                                                                                                                                                                                                                     & Subject Information                                                                                                                                                                                                                                                                     & Demographics                                                                                                                                                                                                                                                                            & Acquisition                                                                                                                                                                                                                                                                             & Quarter in which this subject's data was initially acquired.                                                                                                                                                                                                                           \\\\\n",
       "\t Gender                                                                                                                                                                                                                                                                                  & Subject Information                                                                                                                                                                                                                                                                     & Demographics                                                                                                                                                                                                                                                                            & Gender                                                                                                                                                                                                                                                                                  & Gender of Subject                                                                                                                                                                                                                                                                      \\\\\n",
       "\t Age Range                                                                                                                                                                                                                                                                               & Subject Information                                                                                                                                                                                                                                                                     & Demographics                                                                                                                                                                                                                                                                            & Age                                                                                                                                                                                                                                                                                     & Age group of Participant, banded in five-year increments.                                                                                                                                                                                                                              \\\\\n",
       "\t Age Range                                                                                                                                                                                                                                                                               & Subject Information                                                                                                                                                                                                                                                                     & Demographics                                                                                                                                                                                                                                                                            & Age                                                                                                                                                                                                                                                                                     & Age group of Participant.                                                                                                                                                                                                                                                              \\\\\n",
       "\\end{tabular}\n"
      ],
      "text/markdown": [
       "\n",
       "| fullDisplayName | category | assessment | columnHeader | description |\n",
       "|---|---|---|---|---|\n",
       "| Subject                                                                                                                                                                                                                                                                                 | Subject Information                                                                                                                                                                                                                                                                     | Demographics                                                                                                                                                                                                                                                                            | Subject                                                                                                                                                                                                                                                                                 | HCP Subject ID                                                                                                                                                                                                                                                                          |\n",
       "| Quarter Released                                                                                                                                                                                                                                                                        | Subject Information                                                                                                                                                                                                                                                                     | Demographics                                                                                                                                                                                                                                                                            | Release                                                                                                                                                                                                                                                                                 | HCP data release in which this subject's data was initially published to ConnectomeDB.   Note: 'Release' does not indicate the version of the pipelines used to process subject data. Check the release-notes distributed with each processed dataset for pipeline version information. |\n",
       "| Acquisition Quarter                                                                                                                                                                                                                                                                     | Subject Information                                                                                                                                                                                                                                                                     | Demographics                                                                                                                                                                                                                                                                            | Acquisition                                                                                                                                                                                                                                                                             | Quarter in which this subject's data was initially acquired.                                                                                                                                                                                                                            |\n",
       "| Gender                                                                                                                                                                                                                                                                                  | Subject Information                                                                                                                                                                                                                                                                     | Demographics                                                                                                                                                                                                                                                                            | Gender                                                                                                                                                                                                                                                                                  | Gender of Subject                                                                                                                                                                                                                                                                       |\n",
       "| Age Range                                                                                                                                                                                                                                                                               | Subject Information                                                                                                                                                                                                                                                                     | Demographics                                                                                                                                                                                                                                                                            | Age                                                                                                                                                                                                                                                                                     | Age group of Participant, banded in five-year increments.                                                                                                                                                                                                                               |\n",
       "| Age Range                                                                                                                                                                                                                                                                               | Subject Information                                                                                                                                                                                                                                                                     | Demographics                                                                                                                                                                                                                                                                            | Age                                                                                                                                                                                                                                                                                     | Age group of Participant.                                                                                                                                                                                                                                                               |\n",
       "\n"
      ],
      "text/plain": [
       "  fullDisplayName     category            assessment   columnHeader\n",
       "1 Subject             Subject Information Demographics Subject     \n",
       "2 Quarter Released    Subject Information Demographics Release     \n",
       "3 Acquisition Quarter Subject Information Demographics Acquisition \n",
       "4 Gender              Subject Information Demographics Gender      \n",
       "5 Age Range           Subject Information Demographics Age         \n",
       "6 Age Range           Subject Information Demographics Age         \n",
       "  description                                                                                                                                                                                                                                                                            \n",
       "1 HCP Subject ID                                                                                                                                                                                                                                                                         \n",
       "2 HCP data release in which this subject's data was initially published to ConnectomeDB.   Note: 'Release' does not indicate the version of the pipelines used to process subject data. Check the release-notes distributed with each processed dataset for pipeline version information.\n",
       "3 Quarter in which this subject's data was initially acquired.                                                                                                                                                                                                                           \n",
       "4 Gender of Subject                                                                                                                                                                                                                                                                      \n",
       "5 Age group of Participant, banded in five-year increments.                                                                                                                                                                                                                              \n",
       "6 Age group of Participant.                                                                                                                                                                                                                                                              "
      ]
     },
     "metadata": {},
     "output_type": "display_data"
    }
   ],
   "source": [
    "data_dict <- read.csv('/Users/Administrator/Downloads/HCP_S1200_DataDictionary_April_20_2018.csv')\n",
    "head(data_dict)"
   ]
  },
  {
   "cell_type": "markdown",
   "metadata": {},
   "source": [
    "Find revelant information about a variable in the data dictionary"
   ]
  },
  {
   "cell_type": "code",
   "execution_count": 112,
   "metadata": {
    "ExecuteTime": {
     "end_time": "2020-06-18T18:45:38.670048Z",
     "start_time": "2020-06-18T18:45:38.637Z"
    },
    "scrolled": true
   },
   "outputs": [
    {
     "data": {
      "text/html": [
       "<table>\n",
       "<thead><tr><th></th><th scope=col>fullDisplayName</th><th scope=col>category</th><th scope=col>assessment</th><th scope=col>columnHeader</th><th scope=col>description</th></tr></thead>\n",
       "<tbody>\n",
       "\t<tr><th scope=row>178</th><td>5c. Sleep Trouble - Get up to use bathroom                                                                                                                                                                                          </td><td>Alertness                                                                                                                                                                                                                           </td><td>Sleep (Pittsburgh Sleep Questionnaire)                                                                                                                                                                                              </td><td>PSQI_Bathroom                                                                                                                                                                                                                       </td><td>PSQI 5.During the past month, how often have you had trouble sleeping because you...  (c) Have to get up to use the bathroom; 0=Not during the past month, 1=Less than once a week, 2=Once or twice a week, 3=3 or more times a week</td></tr>\n",
       "</tbody>\n",
       "</table>\n"
      ],
      "text/latex": [
       "\\begin{tabular}{r|lllll}\n",
       "  & fullDisplayName & category & assessment & columnHeader & description\\\\\n",
       "\\hline\n",
       "\t178 & 5c. Sleep Trouble - Get up to use bathroom                                                                                                                                                                                           & Alertness                                                                                                                                                                                                                            & Sleep (Pittsburgh Sleep Questionnaire)                                                                                                                                                                                               & PSQI\\_Bathroom                                                                                                                                                                                                                      & PSQI 5.During the past month, how often have you had trouble sleeping because you...  (c) Have to get up to use the bathroom; 0=Not during the past month, 1=Less than once a week, 2=Once or twice a week, 3=3 or more times a week\\\\\n",
       "\\end{tabular}\n"
      ],
      "text/markdown": [
       "\n",
       "| <!--/--> | fullDisplayName | category | assessment | columnHeader | description |\n",
       "|---|---|---|---|---|---|\n",
       "| 178 | 5c. Sleep Trouble - Get up to use bathroom                                                                                                                                                                                           | Alertness                                                                                                                                                                                                                            | Sleep (Pittsburgh Sleep Questionnaire)                                                                                                                                                                                               | PSQI_Bathroom                                                                                                                                                                                                                        | PSQI 5.During the past month, how often have you had trouble sleeping because you...  (c) Have to get up to use the bathroom; 0=Not during the past month, 1=Less than once a week, 2=Once or twice a week, 3=3 or more times a week |\n",
       "\n"
      ],
      "text/plain": [
       "    fullDisplayName                            category \n",
       "178 5c. Sleep Trouble - Get up to use bathroom Alertness\n",
       "    assessment                             columnHeader \n",
       "178 Sleep (Pittsburgh Sleep Questionnaire) PSQI_Bathroom\n",
       "    description                                                                                                                                                                                                                         \n",
       "178 PSQI 5.During the past month, how often have you had trouble sleeping because you...  (c) Have to get up to use the bathroom; 0=Not during the past month, 1=Less than once a week, 2=Once or twice a week, 3=3 or more times a week"
      ]
     },
     "metadata": {},
     "output_type": "display_data"
    }
   ],
   "source": [
    "data_dict[data_dict$columnHeader == 'PSQI_Bathroom',]"
   ]
  },
  {
   "cell_type": "code",
   "execution_count": 113,
   "metadata": {
    "ExecuteTime": {
     "end_time": "2020-06-18T18:45:40.661816Z",
     "start_time": "2020-06-18T18:45:40.595Z"
    }
   },
   "outputs": [
    {
     "data": {
      "text/html": [
       "<table>\n",
       "<thead><tr><th scope=col>fullDisplayName</th><th scope=col>category</th><th scope=col>assessment</th><th scope=col>columnHeader</th><th scope=col>description</th></tr></thead>\n",
       "<tbody>\n",
       "\t<tr><td>Pittsburgh Sleep Quality Index (PSQI) Completed                                                                                                                                                                                                      </td><td>Study Completion                                                                                                                                                                                                                                     </td><td>Study Completion: Behavior                                                                                                                                                                                                                           </td><td>PSQI_Compl                                                                                                                                                                                                                                           </td><td>Pittsburgh Sleep Quality Index (PSQI) was completed (True or False)                                                                                                                                                                                  </td></tr>\n",
       "\t<tr><td>Sleep (Pittsburgh Sleep Questionnaire) Total Score                                                                                                                                                                                                   </td><td>Alertness                                                                                                                                                                                                                                            </td><td>Sleep (Pittsburgh Sleep Questionnaire)                                                                                                                                                                                                               </td><td>PSQI_Score                                                                                                                                                                                                                                           </td><td>The total score across all items on the Pittsburgh Sleep Quality Index (PSQI) (Buysse et al., 1989).                                                                                                                                                 </td></tr>\n",
       "\t<tr><td>Sleep (Pittsburgh Sleep Questionnaire) Component 1 Score                                                                                                                                                                                             </td><td>Alertness                                                                                                                                                                                                                                            </td><td>Sleep (Pittsburgh Sleep Questionnaire)                                                                                                                                                                                                               </td><td>PSQI_Comp1                                                                                                                                                                                                                                           </td><td>The Pittsburgh Sleep Quality Index (PSQI) Component 1 (Subjective sleep quality) score (Buysse et al., 1989).                                                                                                                                        </td></tr>\n",
       "\t<tr><td>Sleep (Pittsburgh Sleep Questionnaire) Component 2 Score                                                                                                                                                                                             </td><td>Alertness                                                                                                                                                                                                                                            </td><td>Sleep (Pittsburgh Sleep Questionnaire)                                                                                                                                                                                                               </td><td>PSQI_Comp2                                                                                                                                                                                                                                           </td><td>The Pittsburgh Sleep Quality Index (PSQI) Component 2 (Sleep latency) score (Buysse et al., 1989).                                                                                                                                                   </td></tr>\n",
       "\t<tr><td>Sleep (Pittsburgh Sleep Questionnaire) Component 3 Score                                                                                                                                                                                             </td><td>Alertness                                                                                                                                                                                                                                            </td><td>Sleep (Pittsburgh Sleep Questionnaire)                                                                                                                                                                                                               </td><td>PSQI_Comp3                                                                                                                                                                                                                                           </td><td>The Pittsburgh Sleep Quality Index (PSQI) Component 3 (Subjective sleep quality) score (Buysse et al., 1989).                                                                                                                                        </td></tr>\n",
       "\t<tr><td>Sleep (Pittsburgh Sleep Questionnaire) Component 4 Score                                                                                                                                                                                             </td><td>Alertness                                                                                                                                                                                                                                            </td><td>Sleep (Pittsburgh Sleep Questionnaire)                                                                                                                                                                                                               </td><td>PSQI_Comp4                                                                                                                                                                                                                                           </td><td>The Pittsburgh Sleep Quality Index (PSQI) Component 4 (Sleep duration) score (Buysse et al., 1989).                                                                                                                                                  </td></tr>\n",
       "\t<tr><td>Sleep (Pittsburgh Sleep Questionnaire) Component 5 Score                                                                                                                                                                                             </td><td>Alertness                                                                                                                                                                                                                                            </td><td>Sleep (Pittsburgh Sleep Questionnaire)                                                                                                                                                                                                               </td><td>PSQI_Comp5                                                                                                                                                                                                                                           </td><td>The Pittsburgh Sleep Quality Index (PSQI) Component 5 (Sleep disturbance) score (Buysse et al., 1989).                                                                                                                                               </td></tr>\n",
       "\t<tr><td>Sleep (Pittsburgh Sleep Questionnaire) Component 6 Score                                                                                                                                                                                             </td><td>Alertness                                                                                                                                                                                                                                            </td><td>Sleep (Pittsburgh Sleep Questionnaire)                                                                                                                                                                                                               </td><td>PSQI_Comp6                                                                                                                                                                                                                                           </td><td>The Pittsburgh Sleep Quality Index (PSQI) Component 6 (Use of sleep meds) score (Buysse et al., 1989).                                                                                                                                               </td></tr>\n",
       "\t<tr><td>Sleep (Pittsburgh Sleep Questionnaire) Component 7 Score                                                                                                                                                                                             </td><td>Alertness                                                                                                                                                                                                                                            </td><td>Sleep (Pittsburgh Sleep Questionnaire)                                                                                                                                                                                                               </td><td>PSQI_Comp7                                                                                                                                                                                                                                           </td><td>The Pittsburgh Sleep Quality Index (PSQI) Component 7 (Daytime dysfunction) score (Buysse et al., 1989).                                                                                                                                             </td></tr>\n",
       "\t<tr><td>1. Usual bed time (past month)                                                                                                                                                                                                                       </td><td>Alertness                                                                                                                                                                                                                                            </td><td>Sleep (Pittsburgh Sleep Questionnaire)                                                                                                                                                                                                               </td><td>PSQI_BedTime                                                                                                                                                                                                                                         </td><td>PSQI 1. During the past month, when have you usually gone to bed at night?  Time in 24h:00min.                                                                                                                                                       </td></tr>\n",
       "\t<tr><td>2. Minutes to fall asleep (past month)                                                                                                                                                                                                               </td><td>Alertness                                                                                                                                                                                                                                            </td><td>Sleep (Pittsburgh Sleep Questionnaire)                                                                                                                                                                                                               </td><td>PSQI_Min2Asleep                                                                                                                                                                                                                                      </td><td>PSQI 2. During the past month, how long has it usually taken you to fall asleep each night (# of minutes).                                                                                                                                           </td></tr>\n",
       "\t<tr><td>3. Time get up in morning (past month)                                                                                                                                                                                                               </td><td>Alertness                                                                                                                                                                                                                                            </td><td>Sleep (Pittsburgh Sleep Questionnaire)                                                                                                                                                                                                               </td><td>PSQI_GetUpTime                                                                                                                                                                                                                                       </td><td>PSQI 3. During the past month, when have you usually gotten up in the morning? Time in 24h:00min.                                                                                                                                                    </td></tr>\n",
       "\t<tr><td>4. Hours of sleep per night (past month)                                                                                                                                                                                                             </td><td>Alertness                                                                                                                                                                                                                                            </td><td>Sleep (Pittsburgh Sleep Questionnaire)                                                                                                                                                                                                               </td><td>PSQI_AmtSleep                                                                                                                                                                                                                                        </td><td>PSQI 4. During the past month, how many hours of actual sleep did you get at night? (This may be different than the number of hours you spend in bed.)                                                                                               </td></tr>\n",
       "\t<tr><td>5a. Sleep Trouble - Can't get to sleep within 30 minutes                                                                                                                                                                                             </td><td>Alertness                                                                                                                                                                                                                                            </td><td>Sleep (Pittsburgh Sleep Questionnaire)                                                                                                                                                                                                               </td><td>PSQI_Latency30Min                                                                                                                                                                                                                                    </td><td>PSQI 5.During the past month, how often have you had trouble sleeping because you...  (a) Cannot get to sleep within 30 minutes; 0=Not during the past month, 1=Less than once a week, 2=Once or twice a week, 3=3 or more times a week              </td></tr>\n",
       "\t<tr><td>5b. Sleep Trouble - Wake up in middle of night or early morning                                                                                                                                                                                      </td><td>Alertness                                                                                                                                                                                                                                            </td><td>Sleep (Pittsburgh Sleep Questionnaire)                                                                                                                                                                                                               </td><td>PSQI_WakeUp                                                                                                                                                                                                                                          </td><td>PSQI 5.During the past month, how often have you had trouble sleeping because you...  (b) Wake up in the middle of the night or early morning; 0=Not during the past month, 1=Less than once a week, 2=Once or twice a week, 3=3 or more times a week</td></tr>\n",
       "\t<tr><td>5c. Sleep Trouble - Get up to use bathroom                                                                                                                                                                                                           </td><td>Alertness                                                                                                                                                                                                                                            </td><td>Sleep (Pittsburgh Sleep Questionnaire)                                                                                                                                                                                                               </td><td>PSQI_Bathroom                                                                                                                                                                                                                                        </td><td>PSQI 5.During the past month, how often have you had trouble sleeping because you...  (c) Have to get up to use the bathroom; 0=Not during the past month, 1=Less than once a week, 2=Once or twice a week, 3=3 or more times a week                 </td></tr>\n",
       "\t<tr><td>5d. Sleep Trouble - Can't breathe comfortably                                                                                                                                                                                                        </td><td>Alertness                                                                                                                                                                                                                                            </td><td>Sleep (Pittsburgh Sleep Questionnaire)                                                                                                                                                                                                               </td><td>PSQI_Breathe                                                                                                                                                                                                                                         </td><td>PSQI 5.During the past month, how often have you had trouble sleeping because you...  (d) Cannot breathe comfortably; 0=Not during the past month, 1=Less than once a week, 2=Once or twice a week, 3=3 or more times a week                         </td></tr>\n",
       "\t<tr><td>5e. Sleep Trouble - Cough or snore loudly                                                                                                                                                                                                            </td><td>Alertness                                                                                                                                                                                                                                            </td><td>Sleep (Pittsburgh Sleep Questionnaire)                                                                                                                                                                                                               </td><td>PSQI_Snore                                                                                                                                                                                                                                           </td><td>PSQI 5.During the past month, how often have you had trouble sleeping because you...  (e) Cough or snore loudly; 0=Not during the past month, 1=Less than once a week, 2=Once or twice a week, 3=3 or more times a week                              </td></tr>\n",
       "\t<tr><td>5f. Sleep Trouble - Feel too cold                                                                                                                                                                                                                    </td><td>Alertness                                                                                                                                                                                                                                            </td><td>Sleep (Pittsburgh Sleep Questionnaire)                                                                                                                                                                                                               </td><td>PSQI_TooCold                                                                                                                                                                                                                                         </td><td>PSQI 5.During the past month, how often have you had trouble sleeping because you...  (f) Feel too cold; 0=Not during the past month, 1=Less than once a week, 2=Once or twice a week, 3=3 or more times a week                                      </td></tr>\n",
       "\t<tr><td>5g. Sleep Trouble - Feel too hot                                                                                                                                                                                                                     </td><td>Alertness                                                                                                                                                                                                                                            </td><td>Sleep (Pittsburgh Sleep Questionnaire)                                                                                                                                                                                                               </td><td>PSQI_TooHot                                                                                                                                                                                                                                          </td><td>PSQI 5.During the past month, how often have you had trouble sleeping because you...  (g) Feel too hot; 0=Not during the past month, 1=Less than once a week, 2=Once or twice a week, 3=3 or more times a week                                       </td></tr>\n",
       "\t<tr><td>5h. Sleep Trouble - Had bad dreams                                                                                                                                                                                                                   </td><td>Alertness                                                                                                                                                                                                                                            </td><td>Sleep (Pittsburgh Sleep Questionnaire)                                                                                                                                                                                                               </td><td>PSQI_BadDream                                                                                                                                                                                                                                        </td><td>PSQI 5.During the past month, how often have you had trouble sleeping because you...  (h) Had bad dreams; 0=Not during the past month, 1=Less than once a week, 2=Once or twice a week, 3=3 or more times a week                                     </td></tr>\n",
       "\t<tr><td>5i. Sleep Trouble - Have pain                                                                                                                                                                                                                        </td><td>Alertness                                                                                                                                                                                                                                            </td><td>Sleep (Pittsburgh Sleep Questionnaire)                                                                                                                                                                                                               </td><td>PSQI_Pain                                                                                                                                                                                                                                            </td><td>PSQI 5.During the past month, how often have you had trouble sleeping because you...  (i) Have pain; 0=Not during the past month, 1=Less than once a week, 2=Once or twice a week, 3=3 or more times a week                                          </td></tr>\n",
       "\t<tr><td>5j. Sleep Trouble - Other                                                                                                                                                                                                                            </td><td>Alertness                                                                                                                                                                                                                                            </td><td>Sleep (Pittsburgh Sleep Questionnaire)                                                                                                                                                                                                               </td><td>PSQI_Other                                                                                                                                                                                                                                           </td><td>PSQI 5.During the past month, how often have you had trouble sleeping because of...  (j) Other reason(s), as described in 5j. pt2 0=Not during the past month, 1=Less than once a week, 2=Once or twice a week, 3=3 or more times a week             </td></tr>\n",
       "\t<tr><td>6. Describe overall sleep quality                                                                                                                                                                                                                    </td><td>Alertness                                                                                                                                                                                                                                            </td><td>Sleep (Pittsburgh Sleep Questionnaire)                                                                                                                                                                                                               </td><td>PSQI_Quality                                                                                                                                                                                                                                         </td><td>PSQI 6.During the past month, how would you rate your sleep quality overall?  0=Very good, 1=Fairly good, 2=Fairly bad, 3=Very bad                                                                                                                   </td></tr>\n",
       "\t<tr><td>7. How often taken sleep medicine                                                                                                                                                                                                                    </td><td>Alertness                                                                                                                                                                                                                                            </td><td>Sleep (Pittsburgh Sleep Questionnaire)                                                                                                                                                                                                               </td><td>PSQI_SleepMeds                                                                                                                                                                                                                                       </td><td>PSQI 7.During the past month, how often have you taken medicine (prescribed or \\\"over the counter\\\") to help you sleep?  0=Not during the past month, 1=Less than once a week, 2=Once or twice a week, 3=3 or more times a week                    </td></tr>\n",
       "\t<tr><td>8. How often trouble staying awake                                                                                                                                                                                                                   </td><td>Alertness                                                                                                                                                                                                                                            </td><td>Sleep (Pittsburgh Sleep Questionnaire)                                                                                                                                                                                                               </td><td>PSQI_DayStayAwake                                                                                                                                                                                                                                    </td><td>PSQI 8.During the past month, how often have you had trouble staying awake while driving, eating meals, or engaging in social activity?  0=Not during the past month, 1=Less than once a week, 2=Once or twice a week, 3=3 or more times a week      </td></tr>\n",
       "\t<tr><td>9. How often trouble keeping up enthusiasm                                                                                                                                                                                                           </td><td>Alertness                                                                                                                                                                                                                                            </td><td>Sleep (Pittsburgh Sleep Questionnaire)                                                                                                                                                                                                               </td><td>PSQI_DayEnthusiasm                                                                                                                                                                                                                                   </td><td>PSQI 9.During the past month, how much of a problem has it been for you to keep up enough enthusiasm to get things done?  0=No problem at all, 1=Only a very slight problem, 2=Somewhat of a problem, 3=A very big problem                           </td></tr>\n",
       "\t<tr><td>10. Have bed partner or roommate                                                                                                                                                                                                                     </td><td>Alertness                                                                                                                                                                                                                                            </td><td>Sleep (Pittsburgh Sleep Questionnaire)                                                                                                                                                                                                               </td><td>PSQI_BedPtnrRmate                                                                                                                                                                                                                                    </td><td>PSQI 10.Do you have a bed partner or roommate?  0=No bed partner or roomate, 1=Partner/roomate in other room, 2=Partner in same room, but not same bed, 3=Partner in same bed                                                                        </td></tr>\n",
       "</tbody>\n",
       "</table>\n"
      ],
      "text/latex": [
       "\\begin{tabular}{r|lllll}\n",
       " fullDisplayName & category & assessment & columnHeader & description\\\\\n",
       "\\hline\n",
       "\t Pittsburgh Sleep Quality Index (PSQI) Completed                                                                                                                                                                                                       & Study Completion                                                                                                                                                                                                                                      & Study Completion: Behavior                                                                                                                                                                                                                            & PSQI\\_Compl                                                                                                                                                                                                                                          & Pittsburgh Sleep Quality Index (PSQI) was completed (True or False)                                                                                                                                                                                  \\\\\n",
       "\t Sleep (Pittsburgh Sleep Questionnaire) Total Score                                                                                                                                                                                                    & Alertness                                                                                                                                                                                                                                             & Sleep (Pittsburgh Sleep Questionnaire)                                                                                                                                                                                                                & PSQI\\_Score                                                                                                                                                                                                                                          & The total score across all items on the Pittsburgh Sleep Quality Index (PSQI) (Buysse et al., 1989).                                                                                                                                                 \\\\\n",
       "\t Sleep (Pittsburgh Sleep Questionnaire) Component 1 Score                                                                                                                                                                                              & Alertness                                                                                                                                                                                                                                             & Sleep (Pittsburgh Sleep Questionnaire)                                                                                                                                                                                                                & PSQI\\_Comp1                                                                                                                                                                                                                                          & The Pittsburgh Sleep Quality Index (PSQI) Component 1 (Subjective sleep quality) score (Buysse et al., 1989).                                                                                                                                        \\\\\n",
       "\t Sleep (Pittsburgh Sleep Questionnaire) Component 2 Score                                                                                                                                                                                              & Alertness                                                                                                                                                                                                                                             & Sleep (Pittsburgh Sleep Questionnaire)                                                                                                                                                                                                                & PSQI\\_Comp2                                                                                                                                                                                                                                          & The Pittsburgh Sleep Quality Index (PSQI) Component 2 (Sleep latency) score (Buysse et al., 1989).                                                                                                                                                   \\\\\n",
       "\t Sleep (Pittsburgh Sleep Questionnaire) Component 3 Score                                                                                                                                                                                              & Alertness                                                                                                                                                                                                                                             & Sleep (Pittsburgh Sleep Questionnaire)                                                                                                                                                                                                                & PSQI\\_Comp3                                                                                                                                                                                                                                          & The Pittsburgh Sleep Quality Index (PSQI) Component 3 (Subjective sleep quality) score (Buysse et al., 1989).                                                                                                                                        \\\\\n",
       "\t Sleep (Pittsburgh Sleep Questionnaire) Component 4 Score                                                                                                                                                                                              & Alertness                                                                                                                                                                                                                                             & Sleep (Pittsburgh Sleep Questionnaire)                                                                                                                                                                                                                & PSQI\\_Comp4                                                                                                                                                                                                                                          & The Pittsburgh Sleep Quality Index (PSQI) Component 4 (Sleep duration) score (Buysse et al., 1989).                                                                                                                                                  \\\\\n",
       "\t Sleep (Pittsburgh Sleep Questionnaire) Component 5 Score                                                                                                                                                                                              & Alertness                                                                                                                                                                                                                                             & Sleep (Pittsburgh Sleep Questionnaire)                                                                                                                                                                                                                & PSQI\\_Comp5                                                                                                                                                                                                                                          & The Pittsburgh Sleep Quality Index (PSQI) Component 5 (Sleep disturbance) score (Buysse et al., 1989).                                                                                                                                               \\\\\n",
       "\t Sleep (Pittsburgh Sleep Questionnaire) Component 6 Score                                                                                                                                                                                              & Alertness                                                                                                                                                                                                                                             & Sleep (Pittsburgh Sleep Questionnaire)                                                                                                                                                                                                                & PSQI\\_Comp6                                                                                                                                                                                                                                          & The Pittsburgh Sleep Quality Index (PSQI) Component 6 (Use of sleep meds) score (Buysse et al., 1989).                                                                                                                                               \\\\\n",
       "\t Sleep (Pittsburgh Sleep Questionnaire) Component 7 Score                                                                                                                                                                                              & Alertness                                                                                                                                                                                                                                             & Sleep (Pittsburgh Sleep Questionnaire)                                                                                                                                                                                                                & PSQI\\_Comp7                                                                                                                                                                                                                                          & The Pittsburgh Sleep Quality Index (PSQI) Component 7 (Daytime dysfunction) score (Buysse et al., 1989).                                                                                                                                             \\\\\n",
       "\t 1. Usual bed time (past month)                                                                                                                                                                                                                        & Alertness                                                                                                                                                                                                                                             & Sleep (Pittsburgh Sleep Questionnaire)                                                                                                                                                                                                                & PSQI\\_BedTime                                                                                                                                                                                                                                        & PSQI 1. During the past month, when have you usually gone to bed at night?  Time in 24h:00min.                                                                                                                                                       \\\\\n",
       "\t 2. Minutes to fall asleep (past month)                                                                                                                                                                                                                  & Alertness                                                                                                                                                                                                                                               & Sleep (Pittsburgh Sleep Questionnaire)                                                                                                                                                                                                                  & PSQI\\_Min2Asleep                                                                                                                                                                                                                                       & PSQI 2. During the past month, how long has it usually taken you to fall asleep each night (\\# of minutes).                                                                                                                                           \\\\\n",
       "\t 3. Time get up in morning (past month)                                                                                                                                                                                                                & Alertness                                                                                                                                                                                                                                             & Sleep (Pittsburgh Sleep Questionnaire)                                                                                                                                                                                                                & PSQI\\_GetUpTime                                                                                                                                                                                                                                      & PSQI 3. During the past month, when have you usually gotten up in the morning? Time in 24h:00min.                                                                                                                                                    \\\\\n",
       "\t 4. Hours of sleep per night (past month)                                                                                                                                                                                                              & Alertness                                                                                                                                                                                                                                             & Sleep (Pittsburgh Sleep Questionnaire)                                                                                                                                                                                                                & PSQI\\_AmtSleep                                                                                                                                                                                                                                       & PSQI 4. During the past month, how many hours of actual sleep did you get at night? (This may be different than the number of hours you spend in bed.)                                                                                               \\\\\n",
       "\t 5a. Sleep Trouble - Can't get to sleep within 30 minutes                                                                                                                                                                                              & Alertness                                                                                                                                                                                                                                             & Sleep (Pittsburgh Sleep Questionnaire)                                                                                                                                                                                                                & PSQI\\_Latency30Min                                                                                                                                                                                                                                   & PSQI 5.During the past month, how often have you had trouble sleeping because you...  (a) Cannot get to sleep within 30 minutes; 0=Not during the past month, 1=Less than once a week, 2=Once or twice a week, 3=3 or more times a week              \\\\\n",
       "\t 5b. Sleep Trouble - Wake up in middle of night or early morning                                                                                                                                                                                       & Alertness                                                                                                                                                                                                                                             & Sleep (Pittsburgh Sleep Questionnaire)                                                                                                                                                                                                                & PSQI\\_WakeUp                                                                                                                                                                                                                                         & PSQI 5.During the past month, how often have you had trouble sleeping because you...  (b) Wake up in the middle of the night or early morning; 0=Not during the past month, 1=Less than once a week, 2=Once or twice a week, 3=3 or more times a week\\\\\n",
       "\t 5c. Sleep Trouble - Get up to use bathroom                                                                                                                                                                                                            & Alertness                                                                                                                                                                                                                                             & Sleep (Pittsburgh Sleep Questionnaire)                                                                                                                                                                                                                & PSQI\\_Bathroom                                                                                                                                                                                                                                       & PSQI 5.During the past month, how often have you had trouble sleeping because you...  (c) Have to get up to use the bathroom; 0=Not during the past month, 1=Less than once a week, 2=Once or twice a week, 3=3 or more times a week                 \\\\\n",
       "\t 5d. Sleep Trouble - Can't breathe comfortably                                                                                                                                                                                                         & Alertness                                                                                                                                                                                                                                             & Sleep (Pittsburgh Sleep Questionnaire)                                                                                                                                                                                                                & PSQI\\_Breathe                                                                                                                                                                                                                                        & PSQI 5.During the past month, how often have you had trouble sleeping because you...  (d) Cannot breathe comfortably; 0=Not during the past month, 1=Less than once a week, 2=Once or twice a week, 3=3 or more times a week                         \\\\\n",
       "\t 5e. Sleep Trouble - Cough or snore loudly                                                                                                                                                                                                             & Alertness                                                                                                                                                                                                                                             & Sleep (Pittsburgh Sleep Questionnaire)                                                                                                                                                                                                                & PSQI\\_Snore                                                                                                                                                                                                                                          & PSQI 5.During the past month, how often have you had trouble sleeping because you...  (e) Cough or snore loudly; 0=Not during the past month, 1=Less than once a week, 2=Once or twice a week, 3=3 or more times a week                              \\\\\n",
       "\t 5f. Sleep Trouble - Feel too cold                                                                                                                                                                                                                     & Alertness                                                                                                                                                                                                                                             & Sleep (Pittsburgh Sleep Questionnaire)                                                                                                                                                                                                                & PSQI\\_TooCold                                                                                                                                                                                                                                        & PSQI 5.During the past month, how often have you had trouble sleeping because you...  (f) Feel too cold; 0=Not during the past month, 1=Less than once a week, 2=Once or twice a week, 3=3 or more times a week                                      \\\\\n",
       "\t 5g. Sleep Trouble - Feel too hot                                                                                                                                                                                                                      & Alertness                                                                                                                                                                                                                                             & Sleep (Pittsburgh Sleep Questionnaire)                                                                                                                                                                                                                & PSQI\\_TooHot                                                                                                                                                                                                                                         & PSQI 5.During the past month, how often have you had trouble sleeping because you...  (g) Feel too hot; 0=Not during the past month, 1=Less than once a week, 2=Once or twice a week, 3=3 or more times a week                                       \\\\\n",
       "\t 5h. Sleep Trouble - Had bad dreams                                                                                                                                                                                                                    & Alertness                                                                                                                                                                                                                                             & Sleep (Pittsburgh Sleep Questionnaire)                                                                                                                                                                                                                & PSQI\\_BadDream                                                                                                                                                                                                                                       & PSQI 5.During the past month, how often have you had trouble sleeping because you...  (h) Had bad dreams; 0=Not during the past month, 1=Less than once a week, 2=Once or twice a week, 3=3 or more times a week                                     \\\\\n",
       "\t 5i. Sleep Trouble - Have pain                                                                                                                                                                                                                         & Alertness                                                                                                                                                                                                                                             & Sleep (Pittsburgh Sleep Questionnaire)                                                                                                                                                                                                                & PSQI\\_Pain                                                                                                                                                                                                                                           & PSQI 5.During the past month, how often have you had trouble sleeping because you...  (i) Have pain; 0=Not during the past month, 1=Less than once a week, 2=Once or twice a week, 3=3 or more times a week                                          \\\\\n",
       "\t 5j. Sleep Trouble - Other                                                                                                                                                                                                                             & Alertness                                                                                                                                                                                                                                             & Sleep (Pittsburgh Sleep Questionnaire)                                                                                                                                                                                                                & PSQI\\_Other                                                                                                                                                                                                                                          & PSQI 5.During the past month, how often have you had trouble sleeping because of...  (j) Other reason(s), as described in 5j. pt2 0=Not during the past month, 1=Less than once a week, 2=Once or twice a week, 3=3 or more times a week             \\\\\n",
       "\t 6. Describe overall sleep quality                                                                                                                                                                                                                     & Alertness                                                                                                                                                                                                                                             & Sleep (Pittsburgh Sleep Questionnaire)                                                                                                                                                                                                                & PSQI\\_Quality                                                                                                                                                                                                                                        & PSQI 6.During the past month, how would you rate your sleep quality overall?  0=Very good, 1=Fairly good, 2=Fairly bad, 3=Very bad                                                                                                                   \\\\\n",
       "\t 7. How often taken sleep medicine                                                                                                                                                                                                                                                   & Alertness                                                                                                                                                                                                                                                                           & Sleep (Pittsburgh Sleep Questionnaire)                                                                                                                                                                                                                                              & PSQI\\_SleepMeds                                                                                                                                                                                                                                                                    & PSQI 7.During the past month, how often have you taken medicine (prescribed or \\textbackslash{}\"over the counter\\textbackslash{}\") to help you sleep?  0=Not during the past month, 1=Less than once a week, 2=Once or twice a week, 3=3 or more times a week                    \\\\\n",
       "\t 8. How often trouble staying awake                                                                                                                                                                                                                    & Alertness                                                                                                                                                                                                                                             & Sleep (Pittsburgh Sleep Questionnaire)                                                                                                                                                                                                                & PSQI\\_DayStayAwake                                                                                                                                                                                                                                   & PSQI 8.During the past month, how often have you had trouble staying awake while driving, eating meals, or engaging in social activity?  0=Not during the past month, 1=Less than once a week, 2=Once or twice a week, 3=3 or more times a week      \\\\\n",
       "\t 9. How often trouble keeping up enthusiasm                                                                                                                                                                                                            & Alertness                                                                                                                                                                                                                                             & Sleep (Pittsburgh Sleep Questionnaire)                                                                                                                                                                                                                & PSQI\\_DayEnthusiasm                                                                                                                                                                                                                                  & PSQI 9.During the past month, how much of a problem has it been for you to keep up enough enthusiasm to get things done?  0=No problem at all, 1=Only a very slight problem, 2=Somewhat of a problem, 3=A very big problem                           \\\\\n",
       "\t 10. Have bed partner or roommate                                                                                                                                                                                                                      & Alertness                                                                                                                                                                                                                                             & Sleep (Pittsburgh Sleep Questionnaire)                                                                                                                                                                                                                & PSQI\\_BedPtnrRmate                                                                                                                                                                                                                                   & PSQI 10.Do you have a bed partner or roommate?  0=No bed partner or roomate, 1=Partner/roomate in other room, 2=Partner in same room, but not same bed, 3=Partner in same bed                                                                        \\\\\n",
       "\\end{tabular}\n"
      ],
      "text/markdown": [
       "\n",
       "| fullDisplayName | category | assessment | columnHeader | description |\n",
       "|---|---|---|---|---|\n",
       "| Pittsburgh Sleep Quality Index (PSQI) Completed                                                                                                                                                                                                       | Study Completion                                                                                                                                                                                                                                      | Study Completion: Behavior                                                                                                                                                                                                                            | PSQI_Compl                                                                                                                                                                                                                                            | Pittsburgh Sleep Quality Index (PSQI) was completed (True or False)                                                                                                                                                                                   |\n",
       "| Sleep (Pittsburgh Sleep Questionnaire) Total Score                                                                                                                                                                                                    | Alertness                                                                                                                                                                                                                                             | Sleep (Pittsburgh Sleep Questionnaire)                                                                                                                                                                                                                | PSQI_Score                                                                                                                                                                                                                                            | The total score across all items on the Pittsburgh Sleep Quality Index (PSQI) (Buysse et al., 1989).                                                                                                                                                  |\n",
       "| Sleep (Pittsburgh Sleep Questionnaire) Component 1 Score                                                                                                                                                                                              | Alertness                                                                                                                                                                                                                                             | Sleep (Pittsburgh Sleep Questionnaire)                                                                                                                                                                                                                | PSQI_Comp1                                                                                                                                                                                                                                            | The Pittsburgh Sleep Quality Index (PSQI) Component 1 (Subjective sleep quality) score (Buysse et al., 1989).                                                                                                                                         |\n",
       "| Sleep (Pittsburgh Sleep Questionnaire) Component 2 Score                                                                                                                                                                                              | Alertness                                                                                                                                                                                                                                             | Sleep (Pittsburgh Sleep Questionnaire)                                                                                                                                                                                                                | PSQI_Comp2                                                                                                                                                                                                                                            | The Pittsburgh Sleep Quality Index (PSQI) Component 2 (Sleep latency) score (Buysse et al., 1989).                                                                                                                                                    |\n",
       "| Sleep (Pittsburgh Sleep Questionnaire) Component 3 Score                                                                                                                                                                                              | Alertness                                                                                                                                                                                                                                             | Sleep (Pittsburgh Sleep Questionnaire)                                                                                                                                                                                                                | PSQI_Comp3                                                                                                                                                                                                                                            | The Pittsburgh Sleep Quality Index (PSQI) Component 3 (Subjective sleep quality) score (Buysse et al., 1989).                                                                                                                                         |\n",
       "| Sleep (Pittsburgh Sleep Questionnaire) Component 4 Score                                                                                                                                                                                              | Alertness                                                                                                                                                                                                                                             | Sleep (Pittsburgh Sleep Questionnaire)                                                                                                                                                                                                                | PSQI_Comp4                                                                                                                                                                                                                                            | The Pittsburgh Sleep Quality Index (PSQI) Component 4 (Sleep duration) score (Buysse et al., 1989).                                                                                                                                                   |\n",
       "| Sleep (Pittsburgh Sleep Questionnaire) Component 5 Score                                                                                                                                                                                              | Alertness                                                                                                                                                                                                                                             | Sleep (Pittsburgh Sleep Questionnaire)                                                                                                                                                                                                                | PSQI_Comp5                                                                                                                                                                                                                                            | The Pittsburgh Sleep Quality Index (PSQI) Component 5 (Sleep disturbance) score (Buysse et al., 1989).                                                                                                                                                |\n",
       "| Sleep (Pittsburgh Sleep Questionnaire) Component 6 Score                                                                                                                                                                                              | Alertness                                                                                                                                                                                                                                             | Sleep (Pittsburgh Sleep Questionnaire)                                                                                                                                                                                                                | PSQI_Comp6                                                                                                                                                                                                                                            | The Pittsburgh Sleep Quality Index (PSQI) Component 6 (Use of sleep meds) score (Buysse et al., 1989).                                                                                                                                                |\n",
       "| Sleep (Pittsburgh Sleep Questionnaire) Component 7 Score                                                                                                                                                                                              | Alertness                                                                                                                                                                                                                                             | Sleep (Pittsburgh Sleep Questionnaire)                                                                                                                                                                                                                | PSQI_Comp7                                                                                                                                                                                                                                            | The Pittsburgh Sleep Quality Index (PSQI) Component 7 (Daytime dysfunction) score (Buysse et al., 1989).                                                                                                                                              |\n",
       "| 1. Usual bed time (past month)                                                                                                                                                                                                                        | Alertness                                                                                                                                                                                                                                             | Sleep (Pittsburgh Sleep Questionnaire)                                                                                                                                                                                                                | PSQI_BedTime                                                                                                                                                                                                                                          | PSQI 1. During the past month, when have you usually gone to bed at night?  Time in 24h:00min.                                                                                                                                                        |\n",
       "| 2. Minutes to fall asleep (past month)                                                                                                                                                                                                                | Alertness                                                                                                                                                                                                                                             | Sleep (Pittsburgh Sleep Questionnaire)                                                                                                                                                                                                                | PSQI_Min2Asleep                                                                                                                                                                                                                                       | PSQI 2. During the past month, how long has it usually taken you to fall asleep each night (# of minutes).                                                                                                                                            |\n",
       "| 3. Time get up in morning (past month)                                                                                                                                                                                                                | Alertness                                                                                                                                                                                                                                             | Sleep (Pittsburgh Sleep Questionnaire)                                                                                                                                                                                                                | PSQI_GetUpTime                                                                                                                                                                                                                                        | PSQI 3. During the past month, when have you usually gotten up in the morning? Time in 24h:00min.                                                                                                                                                     |\n",
       "| 4. Hours of sleep per night (past month)                                                                                                                                                                                                              | Alertness                                                                                                                                                                                                                                             | Sleep (Pittsburgh Sleep Questionnaire)                                                                                                                                                                                                                | PSQI_AmtSleep                                                                                                                                                                                                                                         | PSQI 4. During the past month, how many hours of actual sleep did you get at night? (This may be different than the number of hours you spend in bed.)                                                                                                |\n",
       "| 5a. Sleep Trouble - Can't get to sleep within 30 minutes                                                                                                                                                                                              | Alertness                                                                                                                                                                                                                                             | Sleep (Pittsburgh Sleep Questionnaire)                                                                                                                                                                                                                | PSQI_Latency30Min                                                                                                                                                                                                                                     | PSQI 5.During the past month, how often have you had trouble sleeping because you...  (a) Cannot get to sleep within 30 minutes; 0=Not during the past month, 1=Less than once a week, 2=Once or twice a week, 3=3 or more times a week               |\n",
       "| 5b. Sleep Trouble - Wake up in middle of night or early morning                                                                                                                                                                                       | Alertness                                                                                                                                                                                                                                             | Sleep (Pittsburgh Sleep Questionnaire)                                                                                                                                                                                                                | PSQI_WakeUp                                                                                                                                                                                                                                           | PSQI 5.During the past month, how often have you had trouble sleeping because you...  (b) Wake up in the middle of the night or early morning; 0=Not during the past month, 1=Less than once a week, 2=Once or twice a week, 3=3 or more times a week |\n",
       "| 5c. Sleep Trouble - Get up to use bathroom                                                                                                                                                                                                            | Alertness                                                                                                                                                                                                                                             | Sleep (Pittsburgh Sleep Questionnaire)                                                                                                                                                                                                                | PSQI_Bathroom                                                                                                                                                                                                                                         | PSQI 5.During the past month, how often have you had trouble sleeping because you...  (c) Have to get up to use the bathroom; 0=Not during the past month, 1=Less than once a week, 2=Once or twice a week, 3=3 or more times a week                  |\n",
       "| 5d. Sleep Trouble - Can't breathe comfortably                                                                                                                                                                                                         | Alertness                                                                                                                                                                                                                                             | Sleep (Pittsburgh Sleep Questionnaire)                                                                                                                                                                                                                | PSQI_Breathe                                                                                                                                                                                                                                          | PSQI 5.During the past month, how often have you had trouble sleeping because you...  (d) Cannot breathe comfortably; 0=Not during the past month, 1=Less than once a week, 2=Once or twice a week, 3=3 or more times a week                          |\n",
       "| 5e. Sleep Trouble - Cough or snore loudly                                                                                                                                                                                                             | Alertness                                                                                                                                                                                                                                             | Sleep (Pittsburgh Sleep Questionnaire)                                                                                                                                                                                                                | PSQI_Snore                                                                                                                                                                                                                                            | PSQI 5.During the past month, how often have you had trouble sleeping because you...  (e) Cough or snore loudly; 0=Not during the past month, 1=Less than once a week, 2=Once or twice a week, 3=3 or more times a week                               |\n",
       "| 5f. Sleep Trouble - Feel too cold                                                                                                                                                                                                                     | Alertness                                                                                                                                                                                                                                             | Sleep (Pittsburgh Sleep Questionnaire)                                                                                                                                                                                                                | PSQI_TooCold                                                                                                                                                                                                                                          | PSQI 5.During the past month, how often have you had trouble sleeping because you...  (f) Feel too cold; 0=Not during the past month, 1=Less than once a week, 2=Once or twice a week, 3=3 or more times a week                                       |\n",
       "| 5g. Sleep Trouble - Feel too hot                                                                                                                                                                                                                      | Alertness                                                                                                                                                                                                                                             | Sleep (Pittsburgh Sleep Questionnaire)                                                                                                                                                                                                                | PSQI_TooHot                                                                                                                                                                                                                                           | PSQI 5.During the past month, how often have you had trouble sleeping because you...  (g) Feel too hot; 0=Not during the past month, 1=Less than once a week, 2=Once or twice a week, 3=3 or more times a week                                        |\n",
       "| 5h. Sleep Trouble - Had bad dreams                                                                                                                                                                                                                    | Alertness                                                                                                                                                                                                                                             | Sleep (Pittsburgh Sleep Questionnaire)                                                                                                                                                                                                                | PSQI_BadDream                                                                                                                                                                                                                                         | PSQI 5.During the past month, how often have you had trouble sleeping because you...  (h) Had bad dreams; 0=Not during the past month, 1=Less than once a week, 2=Once or twice a week, 3=3 or more times a week                                      |\n",
       "| 5i. Sleep Trouble - Have pain                                                                                                                                                                                                                         | Alertness                                                                                                                                                                                                                                             | Sleep (Pittsburgh Sleep Questionnaire)                                                                                                                                                                                                                | PSQI_Pain                                                                                                                                                                                                                                             | PSQI 5.During the past month, how often have you had trouble sleeping because you...  (i) Have pain; 0=Not during the past month, 1=Less than once a week, 2=Once or twice a week, 3=3 or more times a week                                           |\n",
       "| 5j. Sleep Trouble - Other                                                                                                                                                                                                                             | Alertness                                                                                                                                                                                                                                             | Sleep (Pittsburgh Sleep Questionnaire)                                                                                                                                                                                                                | PSQI_Other                                                                                                                                                                                                                                            | PSQI 5.During the past month, how often have you had trouble sleeping because of...  (j) Other reason(s), as described in 5j. pt2 0=Not during the past month, 1=Less than once a week, 2=Once or twice a week, 3=3 or more times a week              |\n",
       "| 6. Describe overall sleep quality                                                                                                                                                                                                                     | Alertness                                                                                                                                                                                                                                             | Sleep (Pittsburgh Sleep Questionnaire)                                                                                                                                                                                                                | PSQI_Quality                                                                                                                                                                                                                                          | PSQI 6.During the past month, how would you rate your sleep quality overall?  0=Very good, 1=Fairly good, 2=Fairly bad, 3=Very bad                                                                                                                    |\n",
       "| 7. How often taken sleep medicine                                                                                                                                                                                                                     | Alertness                                                                                                                                                                                                                                             | Sleep (Pittsburgh Sleep Questionnaire)                                                                                                                                                                                                                | PSQI_SleepMeds                                                                                                                                                                                                                                        | PSQI 7.During the past month, how often have you taken medicine (prescribed or \\\"over the counter\\\") to help you sleep?  0=Not during the past month, 1=Less than once a week, 2=Once or twice a week, 3=3 or more times a week                     |\n",
       "| 8. How often trouble staying awake                                                                                                                                                                                                                    | Alertness                                                                                                                                                                                                                                             | Sleep (Pittsburgh Sleep Questionnaire)                                                                                                                                                                                                                | PSQI_DayStayAwake                                                                                                                                                                                                                                     | PSQI 8.During the past month, how often have you had trouble staying awake while driving, eating meals, or engaging in social activity?  0=Not during the past month, 1=Less than once a week, 2=Once or twice a week, 3=3 or more times a week       |\n",
       "| 9. How often trouble keeping up enthusiasm                                                                                                                                                                                                            | Alertness                                                                                                                                                                                                                                             | Sleep (Pittsburgh Sleep Questionnaire)                                                                                                                                                                                                                | PSQI_DayEnthusiasm                                                                                                                                                                                                                                    | PSQI 9.During the past month, how much of a problem has it been for you to keep up enough enthusiasm to get things done?  0=No problem at all, 1=Only a very slight problem, 2=Somewhat of a problem, 3=A very big problem                            |\n",
       "| 10. Have bed partner or roommate                                                                                                                                                                                                                      | Alertness                                                                                                                                                                                                                                             | Sleep (Pittsburgh Sleep Questionnaire)                                                                                                                                                                                                                | PSQI_BedPtnrRmate                                                                                                                                                                                                                                     | PSQI 10.Do you have a bed partner or roommate?  0=No bed partner or roomate, 1=Partner/roomate in other room, 2=Partner in same room, but not same bed, 3=Partner in same bed                                                                         |\n",
       "\n"
      ],
      "text/plain": [
       "   fullDisplayName                                                \n",
       "1  Pittsburgh Sleep Quality Index (PSQI) Completed                \n",
       "2  Sleep (Pittsburgh Sleep Questionnaire) Total Score             \n",
       "3  Sleep (Pittsburgh Sleep Questionnaire) Component 1 Score       \n",
       "4  Sleep (Pittsburgh Sleep Questionnaire) Component 2 Score       \n",
       "5  Sleep (Pittsburgh Sleep Questionnaire) Component 3 Score       \n",
       "6  Sleep (Pittsburgh Sleep Questionnaire) Component 4 Score       \n",
       "7  Sleep (Pittsburgh Sleep Questionnaire) Component 5 Score       \n",
       "8  Sleep (Pittsburgh Sleep Questionnaire) Component 6 Score       \n",
       "9  Sleep (Pittsburgh Sleep Questionnaire) Component 7 Score       \n",
       "10 1. Usual bed time (past month)                                 \n",
       "11 2. Minutes to fall asleep (past month)                         \n",
       "12 3. Time get up in morning (past month)                         \n",
       "13 4. Hours of sleep per night (past month)                       \n",
       "14 5a. Sleep Trouble - Can't get to sleep within 30 minutes       \n",
       "15 5b. Sleep Trouble - Wake up in middle of night or early morning\n",
       "16 5c. Sleep Trouble - Get up to use bathroom                     \n",
       "17 5d. Sleep Trouble - Can't breathe comfortably                  \n",
       "18 5e. Sleep Trouble - Cough or snore loudly                      \n",
       "19 5f. Sleep Trouble - Feel too cold                              \n",
       "20 5g. Sleep Trouble - Feel too hot                               \n",
       "21 5h. Sleep Trouble - Had bad dreams                             \n",
       "22 5i. Sleep Trouble - Have pain                                  \n",
       "23 5j. Sleep Trouble - Other                                      \n",
       "24 6. Describe overall sleep quality                              \n",
       "25 7. How often taken sleep medicine                              \n",
       "26 8. How often trouble staying awake                             \n",
       "27 9. How often trouble keeping up enthusiasm                     \n",
       "28 10. Have bed partner or roommate                               \n",
       "   category         assessment                             columnHeader      \n",
       "1  Study Completion Study Completion: Behavior             PSQI_Compl        \n",
       "2  Alertness        Sleep (Pittsburgh Sleep Questionnaire) PSQI_Score        \n",
       "3  Alertness        Sleep (Pittsburgh Sleep Questionnaire) PSQI_Comp1        \n",
       "4  Alertness        Sleep (Pittsburgh Sleep Questionnaire) PSQI_Comp2        \n",
       "5  Alertness        Sleep (Pittsburgh Sleep Questionnaire) PSQI_Comp3        \n",
       "6  Alertness        Sleep (Pittsburgh Sleep Questionnaire) PSQI_Comp4        \n",
       "7  Alertness        Sleep (Pittsburgh Sleep Questionnaire) PSQI_Comp5        \n",
       "8  Alertness        Sleep (Pittsburgh Sleep Questionnaire) PSQI_Comp6        \n",
       "9  Alertness        Sleep (Pittsburgh Sleep Questionnaire) PSQI_Comp7        \n",
       "10 Alertness        Sleep (Pittsburgh Sleep Questionnaire) PSQI_BedTime      \n",
       "11 Alertness        Sleep (Pittsburgh Sleep Questionnaire) PSQI_Min2Asleep   \n",
       "12 Alertness        Sleep (Pittsburgh Sleep Questionnaire) PSQI_GetUpTime    \n",
       "13 Alertness        Sleep (Pittsburgh Sleep Questionnaire) PSQI_AmtSleep     \n",
       "14 Alertness        Sleep (Pittsburgh Sleep Questionnaire) PSQI_Latency30Min \n",
       "15 Alertness        Sleep (Pittsburgh Sleep Questionnaire) PSQI_WakeUp       \n",
       "16 Alertness        Sleep (Pittsburgh Sleep Questionnaire) PSQI_Bathroom     \n",
       "17 Alertness        Sleep (Pittsburgh Sleep Questionnaire) PSQI_Breathe      \n",
       "18 Alertness        Sleep (Pittsburgh Sleep Questionnaire) PSQI_Snore        \n",
       "19 Alertness        Sleep (Pittsburgh Sleep Questionnaire) PSQI_TooCold      \n",
       "20 Alertness        Sleep (Pittsburgh Sleep Questionnaire) PSQI_TooHot       \n",
       "21 Alertness        Sleep (Pittsburgh Sleep Questionnaire) PSQI_BadDream     \n",
       "22 Alertness        Sleep (Pittsburgh Sleep Questionnaire) PSQI_Pain         \n",
       "23 Alertness        Sleep (Pittsburgh Sleep Questionnaire) PSQI_Other        \n",
       "24 Alertness        Sleep (Pittsburgh Sleep Questionnaire) PSQI_Quality      \n",
       "25 Alertness        Sleep (Pittsburgh Sleep Questionnaire) PSQI_SleepMeds    \n",
       "26 Alertness        Sleep (Pittsburgh Sleep Questionnaire) PSQI_DayStayAwake \n",
       "27 Alertness        Sleep (Pittsburgh Sleep Questionnaire) PSQI_DayEnthusiasm\n",
       "28 Alertness        Sleep (Pittsburgh Sleep Questionnaire) PSQI_BedPtnrRmate \n",
       "   description                                                                                                                                                                                                                                          \n",
       "1  Pittsburgh Sleep Quality Index (PSQI) was completed (True or False)                                                                                                                                                                                  \n",
       "2  The total score across all items on the Pittsburgh Sleep Quality Index (PSQI) (Buysse et al., 1989).                                                                                                                                                 \n",
       "3  The Pittsburgh Sleep Quality Index (PSQI) Component 1 (Subjective sleep quality) score (Buysse et al., 1989).                                                                                                                                        \n",
       "4  The Pittsburgh Sleep Quality Index (PSQI) Component 2 (Sleep latency) score (Buysse et al., 1989).                                                                                                                                                   \n",
       "5  The Pittsburgh Sleep Quality Index (PSQI) Component 3 (Subjective sleep quality) score (Buysse et al., 1989).                                                                                                                                        \n",
       "6  The Pittsburgh Sleep Quality Index (PSQI) Component 4 (Sleep duration) score (Buysse et al., 1989).                                                                                                                                                  \n",
       "7  The Pittsburgh Sleep Quality Index (PSQI) Component 5 (Sleep disturbance) score (Buysse et al., 1989).                                                                                                                                               \n",
       "8  The Pittsburgh Sleep Quality Index (PSQI) Component 6 (Use of sleep meds) score (Buysse et al., 1989).                                                                                                                                               \n",
       "9  The Pittsburgh Sleep Quality Index (PSQI) Component 7 (Daytime dysfunction) score (Buysse et al., 1989).                                                                                                                                             \n",
       "10 PSQI 1. During the past month, when have you usually gone to bed at night?  Time in 24h:00min.                                                                                                                                                       \n",
       "11 PSQI 2. During the past month, how long has it usually taken you to fall asleep each night (# of minutes).                                                                                                                                           \n",
       "12 PSQI 3. During the past month, when have you usually gotten up in the morning? Time in 24h:00min.                                                                                                                                                    \n",
       "13 PSQI 4. During the past month, how many hours of actual sleep did you get at night? (This may be different than the number of hours you spend in bed.)                                                                                               \n",
       "14 PSQI 5.During the past month, how often have you had trouble sleeping because you...  (a) Cannot get to sleep within 30 minutes; 0=Not during the past month, 1=Less than once a week, 2=Once or twice a week, 3=3 or more times a week              \n",
       "15 PSQI 5.During the past month, how often have you had trouble sleeping because you...  (b) Wake up in the middle of the night or early morning; 0=Not during the past month, 1=Less than once a week, 2=Once or twice a week, 3=3 or more times a week\n",
       "16 PSQI 5.During the past month, how often have you had trouble sleeping because you...  (c) Have to get up to use the bathroom; 0=Not during the past month, 1=Less than once a week, 2=Once or twice a week, 3=3 or more times a week                 \n",
       "17 PSQI 5.During the past month, how often have you had trouble sleeping because you...  (d) Cannot breathe comfortably; 0=Not during the past month, 1=Less than once a week, 2=Once or twice a week, 3=3 or more times a week                         \n",
       "18 PSQI 5.During the past month, how often have you had trouble sleeping because you...  (e) Cough or snore loudly; 0=Not during the past month, 1=Less than once a week, 2=Once or twice a week, 3=3 or more times a week                              \n",
       "19 PSQI 5.During the past month, how often have you had trouble sleeping because you...  (f) Feel too cold; 0=Not during the past month, 1=Less than once a week, 2=Once or twice a week, 3=3 or more times a week                                      \n",
       "20 PSQI 5.During the past month, how often have you had trouble sleeping because you...  (g) Feel too hot; 0=Not during the past month, 1=Less than once a week, 2=Once or twice a week, 3=3 or more times a week                                       \n",
       "21 PSQI 5.During the past month, how often have you had trouble sleeping because you...  (h) Had bad dreams; 0=Not during the past month, 1=Less than once a week, 2=Once or twice a week, 3=3 or more times a week                                     \n",
       "22 PSQI 5.During the past month, how often have you had trouble sleeping because you...  (i) Have pain; 0=Not during the past month, 1=Less than once a week, 2=Once or twice a week, 3=3 or more times a week                                          \n",
       "23 PSQI 5.During the past month, how often have you had trouble sleeping because of...  (j) Other reason(s), as described in 5j. pt2 0=Not during the past month, 1=Less than once a week, 2=Once or twice a week, 3=3 or more times a week             \n",
       "24 PSQI 6.During the past month, how would you rate your sleep quality overall?  0=Very good, 1=Fairly good, 2=Fairly bad, 3=Very bad                                                                                                                   \n",
       "25 PSQI 7.During the past month, how often have you taken medicine (prescribed or \\\\\"over the counter\\\\\") to help you sleep?  0=Not during the past month, 1=Less than once a week, 2=Once or twice a week, 3=3 or more times a week                    \n",
       "26 PSQI 8.During the past month, how often have you had trouble staying awake while driving, eating meals, or engaging in social activity?  0=Not during the past month, 1=Less than once a week, 2=Once or twice a week, 3=3 or more times a week      \n",
       "27 PSQI 9.During the past month, how much of a problem has it been for you to keep up enough enthusiasm to get things done?  0=No problem at all, 1=Only a very slight problem, 2=Somewhat of a problem, 3=A very big problem                           \n",
       "28 PSQI 10.Do you have a bed partner or roommate?  0=No bed partner or roomate, 1=Partner/roomate in other room, 2=Partner in same room, but not same bed, 3=Partner in same bed                                                                        "
      ]
     },
     "metadata": {},
     "output_type": "display_data"
    }
   ],
   "source": [
    "filter(data_dict, grepl('PSQI', columnHeader))"
   ]
  },
  {
   "cell_type": "markdown",
   "metadata": {},
   "source": [
    "### Filtering a dataframe"
   ]
  },
  {
   "cell_type": "code",
   "execution_count": 57,
   "metadata": {
    "ExecuteTime": {
     "end_time": "2020-06-18T17:49:00.520439Z",
     "start_time": "2020-06-18T17:49:00.447Z"
    }
   },
   "outputs": [
    {
     "data": {
      "text/html": [
       "<table>\n",
       "<thead><tr><th scope=col>PSQI_Compl</th><th scope=col>PSQI_Score</th><th scope=col>PSQI_Comp1</th><th scope=col>PSQI_Comp2</th><th scope=col>PSQI_Comp3</th><th scope=col>PSQI_Comp4</th><th scope=col>PSQI_Comp5</th><th scope=col>PSQI_Comp6</th><th scope=col>PSQI_Comp7</th><th scope=col>PSQI_BedTime</th><th scope=col>...</th><th scope=col>PSQI_TooHot</th><th scope=col>PSQI_BadDream</th><th scope=col>PSQI_Pain</th><th scope=col>PSQI_Other</th><th scope=col>PSQI_Quality</th><th scope=col>PSQI_SleepMeds</th><th scope=col>PSQI_DayStayAwake</th><th scope=col>PSQI_DayEnthusiasm</th><th scope=col>PSQI_BedPtnrRmate</th><th scope=col>Subject</th></tr></thead>\n",
       "<tbody>\n",
       "\t<tr><td>true    </td><td>8       </td><td>1       </td><td>2       </td><td>2       </td><td>1       </td><td>1       </td><td>0       </td><td>1       </td><td>09:00:00</td><td>...     </td><td>1       </td><td>0       </td><td>0       </td><td>0       </td><td>1       </td><td>0       </td><td>0       </td><td>2       </td><td>0       </td><td>100004  </td></tr>\n",
       "\t<tr><td>true    </td><td>6       </td><td>1       </td><td>1       </td><td>1       </td><td>1       </td><td>1       </td><td>0       </td><td>1       </td><td>22:30:00</td><td>...     </td><td>1       </td><td>0       </td><td>0       </td><td>1       </td><td>1       </td><td>0       </td><td>1       </td><td>1       </td><td>0       </td><td>100206  </td></tr>\n",
       "\t<tr><td>true    </td><td>4       </td><td>1       </td><td>0       </td><td>1       </td><td>0       </td><td>2       </td><td>0       </td><td>0       </td><td>22:00:00</td><td>...     </td><td>1       </td><td>0       </td><td>0       </td><td>3       </td><td>1       </td><td>0       </td><td>0       </td><td>0       </td><td>3       </td><td>100307  </td></tr>\n",
       "\t<tr><td>true    </td><td>4       </td><td>1       </td><td>1       </td><td>0       </td><td>0       </td><td>1       </td><td>0       </td><td>1       </td><td>22:00:00</td><td>...     </td><td>0       </td><td>0       </td><td>0       </td><td>0       </td><td>1       </td><td>0       </td><td>0       </td><td>1       </td><td>3       </td><td>100408  </td></tr>\n",
       "\t<tr><td>true    </td><td>4       </td><td>1       </td><td>1       </td><td>0       </td><td>0       </td><td>1       </td><td>0       </td><td>1       </td><td>21:30:00</td><td>...     </td><td>1       </td><td>0       </td><td>0       </td><td>0       </td><td>1       </td><td>0       </td><td>0       </td><td>1       </td><td>0       </td><td>100610  </td></tr>\n",
       "\t<tr><td>true    </td><td>2       </td><td>1       </td><td>1       </td><td>0       </td><td>0       </td><td>0       </td><td>0       </td><td>0       </td><td>23:00:00</td><td>...     </td><td>0       </td><td>0       </td><td>0       </td><td>0       </td><td>1       </td><td>0       </td><td>0       </td><td>0       </td><td>3       </td><td>101006  </td></tr>\n",
       "</tbody>\n",
       "</table>\n"
      ],
      "text/latex": [
       "\\begin{tabular}{r|lllllllllllllllllllllllllllll}\n",
       " PSQI\\_Compl & PSQI\\_Score & PSQI\\_Comp1 & PSQI\\_Comp2 & PSQI\\_Comp3 & PSQI\\_Comp4 & PSQI\\_Comp5 & PSQI\\_Comp6 & PSQI\\_Comp7 & PSQI\\_BedTime & ... & PSQI\\_TooHot & PSQI\\_BadDream & PSQI\\_Pain & PSQI\\_Other & PSQI\\_Quality & PSQI\\_SleepMeds & PSQI\\_DayStayAwake & PSQI\\_DayEnthusiasm & PSQI\\_BedPtnrRmate & Subject\\\\\n",
       "\\hline\n",
       "\t true     & 8        & 1        & 2        & 2        & 1        & 1        & 0        & 1        & 09:00:00 & ...      & 1        & 0        & 0        & 0        & 1        & 0        & 0        & 2        & 0        & 100004  \\\\\n",
       "\t true     & 6        & 1        & 1        & 1        & 1        & 1        & 0        & 1        & 22:30:00 & ...      & 1        & 0        & 0        & 1        & 1        & 0        & 1        & 1        & 0        & 100206  \\\\\n",
       "\t true     & 4        & 1        & 0        & 1        & 0        & 2        & 0        & 0        & 22:00:00 & ...      & 1        & 0        & 0        & 3        & 1        & 0        & 0        & 0        & 3        & 100307  \\\\\n",
       "\t true     & 4        & 1        & 1        & 0        & 0        & 1        & 0        & 1        & 22:00:00 & ...      & 0        & 0        & 0        & 0        & 1        & 0        & 0        & 1        & 3        & 100408  \\\\\n",
       "\t true     & 4        & 1        & 1        & 0        & 0        & 1        & 0        & 1        & 21:30:00 & ...      & 1        & 0        & 0        & 0        & 1        & 0        & 0        & 1        & 0        & 100610  \\\\\n",
       "\t true     & 2        & 1        & 1        & 0        & 0        & 0        & 0        & 0        & 23:00:00 & ...      & 0        & 0        & 0        & 0        & 1        & 0        & 0        & 0        & 3        & 101006  \\\\\n",
       "\\end{tabular}\n"
      ],
      "text/markdown": [
       "\n",
       "| PSQI_Compl | PSQI_Score | PSQI_Comp1 | PSQI_Comp2 | PSQI_Comp3 | PSQI_Comp4 | PSQI_Comp5 | PSQI_Comp6 | PSQI_Comp7 | PSQI_BedTime | ... | PSQI_TooHot | PSQI_BadDream | PSQI_Pain | PSQI_Other | PSQI_Quality | PSQI_SleepMeds | PSQI_DayStayAwake | PSQI_DayEnthusiasm | PSQI_BedPtnrRmate | Subject |\n",
       "|---|---|---|---|---|---|---|---|---|---|---|---|---|---|---|---|---|---|---|---|---|\n",
       "| true     | 8        | 1        | 2        | 2        | 1        | 1        | 0        | 1        | 09:00:00 | ...      | 1        | 0        | 0        | 0        | 1        | 0        | 0        | 2        | 0        | 100004   |\n",
       "| true     | 6        | 1        | 1        | 1        | 1        | 1        | 0        | 1        | 22:30:00 | ...      | 1        | 0        | 0        | 1        | 1        | 0        | 1        | 1        | 0        | 100206   |\n",
       "| true     | 4        | 1        | 0        | 1        | 0        | 2        | 0        | 0        | 22:00:00 | ...      | 1        | 0        | 0        | 3        | 1        | 0        | 0        | 0        | 3        | 100307   |\n",
       "| true     | 4        | 1        | 1        | 0        | 0        | 1        | 0        | 1        | 22:00:00 | ...      | 0        | 0        | 0        | 0        | 1        | 0        | 0        | 1        | 3        | 100408   |\n",
       "| true     | 4        | 1        | 1        | 0        | 0        | 1        | 0        | 1        | 21:30:00 | ...      | 1        | 0        | 0        | 0        | 1        | 0        | 0        | 1        | 0        | 100610   |\n",
       "| true     | 2        | 1        | 1        | 0        | 0        | 0        | 0        | 0        | 23:00:00 | ...      | 0        | 0        | 0        | 0        | 1        | 0        | 0        | 0        | 3        | 101006   |\n",
       "\n"
      ],
      "text/plain": [
       "  PSQI_Compl PSQI_Score PSQI_Comp1 PSQI_Comp2 PSQI_Comp3 PSQI_Comp4 PSQI_Comp5\n",
       "1 true       8          1          2          2          1          1         \n",
       "2 true       6          1          1          1          1          1         \n",
       "3 true       4          1          0          1          0          2         \n",
       "4 true       4          1          1          0          0          1         \n",
       "5 true       4          1          1          0          0          1         \n",
       "6 true       2          1          1          0          0          0         \n",
       "  PSQI_Comp6 PSQI_Comp7 PSQI_BedTime ... PSQI_TooHot PSQI_BadDream PSQI_Pain\n",
       "1 0          1          09:00:00     ... 1           0             0        \n",
       "2 0          1          22:30:00     ... 1           0             0        \n",
       "3 0          0          22:00:00     ... 1           0             0        \n",
       "4 0          1          22:00:00     ... 0           0             0        \n",
       "5 0          1          21:30:00     ... 1           0             0        \n",
       "6 0          0          23:00:00     ... 0           0             0        \n",
       "  PSQI_Other PSQI_Quality PSQI_SleepMeds PSQI_DayStayAwake PSQI_DayEnthusiasm\n",
       "1 0          1            0              0                 2                 \n",
       "2 1          1            0              1                 1                 \n",
       "3 3          1            0              0                 0                 \n",
       "4 0          1            0              0                 1                 \n",
       "5 0          1            0              0                 1                 \n",
       "6 0          1            0              0                 0                 \n",
       "  PSQI_BedPtnrRmate Subject\n",
       "1 0                 100004 \n",
       "2 0                 100206 \n",
       "3 3                 100307 \n",
       "4 3                 100408 \n",
       "5 0                 100610 \n",
       "6 3                 101006 "
      ]
     },
     "metadata": {},
     "output_type": "display_data"
    },
    {
     "data": {
      "text/html": [
       "1206"
      ],
      "text/latex": [
       "1206"
      ],
      "text/markdown": [
       "1206"
      ],
      "text/plain": [
       "[1] 1206"
      ]
     },
     "metadata": {},
     "output_type": "display_data"
    }
   ],
   "source": [
    "psqi_vars <- filter(data_dict, grepl('PSQI', columnHeader))\n",
    "psqi_vars <- psqi_vars$columnHeader\n",
    "psqi_data <- select(filter(behav_data),psqi_vars)\n",
    "psqi_data$Subject <- behav_data$Subject\n",
    "\n",
    "head(psqi_data)\n",
    "nrow(psqi_data)"
   ]
  },
  {
   "cell_type": "code",
   "execution_count": 30,
   "metadata": {
    "ExecuteTime": {
     "end_time": "2020-06-18T17:12:23.153779Z",
     "start_time": "2020-06-18T17:12:23.106Z"
    }
   },
   "outputs": [
    {
     "name": "stderr",
     "output_type": "stream",
     "text": [
      "Note: Using an external vector in selections is ambiguous.\n",
      "i Use `all_of(add_vars)` instead of `add_vars` to silence this message.\n",
      "i See <https://tidyselect.r-lib.org/reference/faq-external-vector.html>.\n",
      "This message is displayed once per session.\n"
     ]
    },
    {
     "data": {
      "text/html": [
       "<table>\n",
       "<thead><tr><th scope=col>Age</th><th scope=col>AngAffect_Unadj</th></tr></thead>\n",
       "<tbody>\n",
       "\t<tr><td>22-25</td><td>49.3 </td></tr>\n",
       "\t<tr><td>26-30</td><td>54.8 </td></tr>\n",
       "\t<tr><td>26-30</td><td>46.9 </td></tr>\n",
       "\t<tr><td>31-35</td><td>50.6 </td></tr>\n",
       "\t<tr><td>26-30</td><td>47.5 </td></tr>\n",
       "\t<tr><td>31-35</td><td>59.0 </td></tr>\n",
       "</tbody>\n",
       "</table>\n"
      ],
      "text/latex": [
       "\\begin{tabular}{r|ll}\n",
       " Age & AngAffect\\_Unadj\\\\\n",
       "\\hline\n",
       "\t 22-25 & 49.3 \\\\\n",
       "\t 26-30 & 54.8 \\\\\n",
       "\t 26-30 & 46.9 \\\\\n",
       "\t 31-35 & 50.6 \\\\\n",
       "\t 26-30 & 47.5 \\\\\n",
       "\t 31-35 & 59.0 \\\\\n",
       "\\end{tabular}\n"
      ],
      "text/markdown": [
       "\n",
       "| Age | AngAffect_Unadj |\n",
       "|---|---|\n",
       "| 22-25 | 49.3  |\n",
       "| 26-30 | 54.8  |\n",
       "| 26-30 | 46.9  |\n",
       "| 31-35 | 50.6  |\n",
       "| 26-30 | 47.5  |\n",
       "| 31-35 | 59.0  |\n",
       "\n"
      ],
      "text/plain": [
       "  Age   AngAffect_Unadj\n",
       "1 22-25 49.3           \n",
       "2 26-30 54.8           \n",
       "3 26-30 46.9           \n",
       "4 31-35 50.6           \n",
       "5 26-30 47.5           \n",
       "6 31-35 59.0           "
      ]
     },
     "metadata": {},
     "output_type": "display_data"
    }
   ],
   "source": [
    "add_vars <- c('Age','AngAffect_Unadj')\n",
    "add_data <- select(filter(behav_data),add_vars)\n",
    "head(add_data)"
   ]
  },
  {
   "cell_type": "markdown",
   "metadata": {},
   "source": [
    "### Combine dataframes"
   ]
  },
  {
   "cell_type": "code",
   "execution_count": 114,
   "metadata": {
    "ExecuteTime": {
     "end_time": "2020-06-18T18:46:47.751889Z",
     "start_time": "2020-06-18T18:46:47.706Z"
    },
    "scrolled": true
   },
   "outputs": [
    {
     "data": {
      "text/plain": [
       "    Age      AngAffect_Unadj PSQI_Compl    PSQI_Score       PSQI_Comp1    \n",
       " 22-25:247   Min.   :28.60   true:1206   Min.   : 0.000   Min.   :0.0000  \n",
       " 26-30:527   1st Qu.:43.00               1st Qu.: 3.000   1st Qu.:1.0000  \n",
       " 31-35:418   Median :48.40               Median : 4.000   Median :1.0000  \n",
       " 36+  : 14   Mean   :48.03               Mean   : 4.855   Mean   :0.9038  \n",
       "             3rd Qu.:53.10               3rd Qu.: 6.000   3rd Qu.:1.0000  \n",
       "             Max.   :85.40               Max.   :19.000   Max.   :3.0000  \n",
       "             NA's   :1                                                    \n",
       "   PSQI_Comp2       PSQI_Comp3       PSQI_Comp4      PSQI_Comp5   \n",
       " Min.   :0.0000   Min.   :0.0000   Min.   :0.000   Min.   :0.000  \n",
       " 1st Qu.:0.0000   1st Qu.:0.0000   1st Qu.:0.000   1st Qu.:1.000  \n",
       " Median :1.0000   Median :0.0000   Median :0.000   Median :1.000  \n",
       " Mean   :0.9818   Mean   :0.5755   Mean   :0.466   Mean   :1.105  \n",
       " 3rd Qu.:1.0000   3rd Qu.:1.0000   3rd Qu.:1.000   3rd Qu.:1.000  \n",
       " Max.   :3.0000   Max.   :3.0000   Max.   :3.000   Max.   :3.000  \n",
       "                                                                  \n",
       "   PSQI_Comp6       PSQI_Comp7       PSQI_BedTime PSQI_Min2Asleep \n",
       " Min.   :0.0000   Min.   :0.0000   23:00:00:218   Min.   :  0.00  \n",
       " 1st Qu.:0.0000   1st Qu.:0.0000   22:00:00:187   1st Qu.: 10.00  \n",
       " Median :0.0000   Median :1.0000   22:30:00:155   Median : 15.00  \n",
       " Mean   :0.2355   Mean   :0.5871   00:00:00:132   Mean   : 20.38  \n",
       " 3rd Qu.:0.0000   3rd Qu.:1.0000   23:30:00: 84   3rd Qu.: 30.00  \n",
       " Max.   :3.0000   Max.   :3.0000   21:30:00: 56   Max.   :300.00  \n",
       "                                   (Other) :374                   \n",
       "  PSQI_GetUpTime PSQI_AmtSleep    PSQI_Latency30Min  PSQI_WakeUp   \n",
       " 07:00:00:168    Min.   : 2.000   Min.   :0.0000    Min.   :0.000  \n",
       " 06:00:00:167    1st Qu.: 6.000   1st Qu.:0.0000    1st Qu.:0.000  \n",
       " 06:30:00:123    Median : 7.000   Median :1.0000    Median :1.000  \n",
       " 08:00:00:100    Mean   : 6.819   Mean   :0.9842    Mean   :1.323  \n",
       " 05:30:00: 69    3rd Qu.: 7.500   3rd Qu.:2.0000    3rd Qu.:2.000  \n",
       " 07:30:00: 69    Max.   :12.000   Max.   :3.0000    Max.   :3.000  \n",
       " (Other) :510                                                      \n",
       " PSQI_Bathroom     PSQI_Breathe      PSQI_Snore      PSQI_TooCold   \n",
       " Min.   :0.0000   Min.   :0.0000   Min.   :0.0000   Min.   :0.0000  \n",
       " 1st Qu.:0.0000   1st Qu.:0.0000   1st Qu.:0.0000   1st Qu.:0.0000  \n",
       " Median :1.0000   Median :0.0000   Median :0.0000   Median :0.0000  \n",
       " Mean   :0.9917   Mean   :0.1708   Mean   :0.3259   Mean   :0.4005  \n",
       " 3rd Qu.:2.0000   3rd Qu.:0.0000   3rd Qu.:0.0000   3rd Qu.:1.0000  \n",
       " Max.   :3.0000   Max.   :3.0000   Max.   :3.0000   Max.   :3.0000  \n",
       "                                                                    \n",
       "  PSQI_TooHot     PSQI_BadDream      PSQI_Pain        PSQI_Other    \n",
       " Min.   :0.0000   Min.   :0.0000   Min.   :0.0000   Min.   :0.0000  \n",
       " 1st Qu.:0.0000   1st Qu.:0.0000   1st Qu.:0.0000   1st Qu.:0.0000  \n",
       " Median :1.0000   Median :0.0000   Median :0.0000   Median :0.0000  \n",
       " Mean   :0.7902   Mean   :0.3673   Mean   :0.2662   Mean   :0.9511  \n",
       " 3rd Qu.:1.0000   3rd Qu.:1.0000   3rd Qu.:0.0000   3rd Qu.:2.0000  \n",
       " Max.   :3.0000   Max.   :3.0000   Max.   :3.0000   Max.   :3.0000  \n",
       "                                                                    \n",
       "  PSQI_Quality    PSQI_SleepMeds   PSQI_DayStayAwake PSQI_DayEnthusiasm\n",
       " Min.   :0.0000   Min.   :0.0000   Min.   :0.0000    Min.   :0.0000    \n",
       " 1st Qu.:1.0000   1st Qu.:0.0000   1st Qu.:0.0000    1st Qu.:0.0000    \n",
       " Median :1.0000   Median :0.0000   Median :0.0000    Median :0.0000    \n",
       " Mean   :0.9038   Mean   :0.2355   Mean   :0.2488    Mean   :0.5605    \n",
       " 3rd Qu.:1.0000   3rd Qu.:0.0000   3rd Qu.:0.0000    3rd Qu.:1.0000    \n",
       " Max.   :3.0000   Max.   :3.0000   Max.   :3.0000    Max.   :3.0000    \n",
       "                                                                       \n",
       " PSQI_BedPtnrRmate    Subject      \n",
       " Min.   :0.000     Min.   :100004  \n",
       " 1st Qu.:0.000     1st Qu.:154254  \n",
       " Median :3.000     Median :212167  \n",
       " Mean   :1.959     Mean   :374552  \n",
       " 3rd Qu.:3.000     3rd Qu.:586311  \n",
       " Max.   :3.000     Max.   :996782  \n",
       " NA's   :1                         "
      ]
     },
     "metadata": {},
     "output_type": "display_data"
    }
   ],
   "source": [
    "psqi_data <- cbind(add_data, psqi_data)\n",
    "summary(psqi_data)"
   ]
  },
  {
   "cell_type": "markdown",
   "metadata": {},
   "source": [
    "### Run Stats"
   ]
  },
  {
   "cell_type": "code",
   "execution_count": 115,
   "metadata": {
    "ExecuteTime": {
     "end_time": "2020-06-18T18:46:55.214751Z",
     "start_time": "2020-06-18T18:46:55.179Z"
    }
   },
   "outputs": [
    {
     "data": {
      "text/plain": [
       "\n",
       "\tPearson's product-moment correlation\n",
       "\n",
       "data:  relv_data$AngAffect_Unadj and relv_data$PSQI_Bathroom\n",
       "t = 4.137, df = 1203, p-value = 3.763e-05\n",
       "alternative hypothesis: true correlation is not equal to 0\n",
       "95 percent confidence interval:\n",
       " 0.06238156 0.17374635\n",
       "sample estimates:\n",
       "      cor \n",
       "0.1184364 \n"
      ]
     },
     "metadata": {},
     "output_type": "display_data"
    }
   ],
   "source": [
    "corr_results <- cor.test(relv_data$AngAffect_Unadj, relv_data$PSQI_Bathroom)\n",
    "corr_results"
   ]
  },
  {
   "cell_type": "code",
   "execution_count": 116,
   "metadata": {
    "ExecuteTime": {
     "end_time": "2020-06-18T18:46:58.581548Z",
     "start_time": "2020-06-18T18:46:58.546Z"
    }
   },
   "outputs": [
    {
     "name": "stdout",
     "output_type": "stream",
     "text": [
      "[1] \"Having trouble sleeping because of a need to use the bathroom is weakly correlated with angry affect (r = 0.1184, p = 3.76344677497135e-05)\"\n"
     ]
    }
   ],
   "source": [
    "print(paste0(\"Having trouble sleeping because of a need to use the bathroom is weakly correlated with angry affect (r = \", \n",
    "             round(corr_results$estimate, digits = 4),\n",
    "            \", p = \",corr_results$p.value,\")\"))"
   ]
  },
  {
   "cell_type": "markdown",
   "metadata": {},
   "source": [
    "***\n",
    "# HCP Freesurfer Structural Data"
   ]
  },
  {
   "cell_type": "code",
   "execution_count": 1,
   "metadata": {
    "ExecuteTime": {
     "end_time": "2020-06-18T15:05:21.501187Z",
     "start_time": "2020-06-18T15:05:20.488Z"
    }
   },
   "outputs": [
    {
     "data": {
      "text/html": [
       "<table>\n",
       "<thead><tr><th scope=col>Subject</th><th scope=col>Gender</th><th scope=col>Release</th><th scope=col>FS_InterCranial_Vol</th><th scope=col>FS_BrainSeg_Vol</th><th scope=col>FS_BrainSeg_Vol_No_Vent</th><th scope=col>FS_BrainSeg_Vol_No_Vent_Surf</th><th scope=col>FS_LCort_GM_Vol</th><th scope=col>FS_RCort_GM_Vol</th><th scope=col>FS_TotCort_GM_Vol</th><th scope=col>...</th><th scope=col>FS_R_Rostralanteriorcingulate_CurvInd</th><th scope=col>FS_R_Rostralmiddlefrontal_CurvInd</th><th scope=col>FS_R_Superiorfrontal_CurvInd</th><th scope=col>FS_R_Superiorparietal_CurvInd</th><th scope=col>FS_R_Superiortemporal_CurvInd</th><th scope=col>FS_R_Supramarginal_CurvInd</th><th scope=col>FS_R_Frontalpole_CurvInd</th><th scope=col>FS_R_Temporalpole_CurvInd</th><th scope=col>FS_R_Transversetemporal_CurvInd</th><th scope=col>FS_R_Insula_CurvInd</th></tr></thead>\n",
       "<tbody>\n",
       "\t<tr><td>100206 </td><td>M      </td><td>S900   </td><td>1864518</td><td>1406924</td><td>1389007</td><td>1386836</td><td>304488 </td><td>305634 </td><td>610122 </td><td>...    </td><td>5.6    </td><td>34.6   </td><td>40.1   </td><td>23.3   </td><td>15.6   </td><td>11.9   </td><td>2.9    </td><td>3.8    </td><td>2.8    </td><td>37.5   </td></tr>\n",
       "\t<tr><td>100307 </td><td>F      </td><td>Q1     </td><td>1512540</td><td>1109710</td><td>1098854</td><td>1097122</td><td>240030 </td><td>243207 </td><td>483238 </td><td>...    </td><td>3.3    </td><td>29.9   </td><td>48.8   </td><td>21.6   </td><td>18.6   </td><td>15.0   </td><td>2.9    </td><td>5.8    </td><td>2.0    </td><td>30.2   </td></tr>\n",
       "\t<tr><td>100408 </td><td>M      </td><td>Q3     </td><td>1684117</td><td>1280171</td><td>1260943</td><td>1259250</td><td>260695 </td><td>265243 </td><td>525938 </td><td>...    </td><td>3.3    </td><td>25.2   </td><td>27.5   </td><td>15.2   </td><td>13.9   </td><td>12.3   </td><td>1.8    </td><td>7.8    </td><td>1.9    </td><td>25.1   </td></tr>\n",
       "\t<tr><td>100610 </td><td>M      </td><td>S900   </td><td>1816044</td><td>1321362</td><td>1306929</td><td>1304569</td><td>276506 </td><td>278002 </td><td>554508 </td><td>...    </td><td>3.0    </td><td>19.6   </td><td>20.0   </td><td>18.6   </td><td>10.6   </td><td>10.8   </td><td>1.2    </td><td>4.1    </td><td>1.4    </td><td>16.6   </td></tr>\n",
       "\t<tr><td>101006 </td><td>F      </td><td>S500   </td><td>1437868</td><td>1053766</td><td>1038408</td><td>1037793</td><td>203718 </td><td>210539 </td><td>414257 </td><td>...    </td><td>2.9    </td><td>14.7   </td><td>21.3   </td><td>13.2   </td><td> 8.7   </td><td> 9.8   </td><td>1.1    </td><td>3.0    </td><td>1.0    </td><td>18.9   </td></tr>\n",
       "\t<tr><td>101107 </td><td>M      </td><td>S500   </td><td>1512727</td><td>1126655</td><td>1111763</td><td>1109747</td><td>242489 </td><td>248807 </td><td>491296 </td><td>...    </td><td>3.9    </td><td>17.5   </td><td>18.1   </td><td> 9.9   </td><td> 6.7   </td><td> 7.2   </td><td>1.1    </td><td>2.3    </td><td>0.9    </td><td>12.1   </td></tr>\n",
       "</tbody>\n",
       "</table>\n"
      ],
      "text/latex": [
       "\\begin{tabular}{r|llllllllllllllllllllllllllllllllllllllllllllllllllllllllllllllllllllllllllllllllllllllllllllllllllllllllllllllllllllllllllllllllllllllllllllllllllllllllllllllllllllllllllllllllllllllllllllllllllllllllllllllllllllllllllllllllllllllllllllllllllllllllllllllllllllllllllllllllllllllllllllllllllllllllllllllllllllllllllllllllllllllllllllllllllllllllllllllllllllllllllllllllllllllllllllllllllllllllllllllllllllllllllllllllllllllllllllllllllllllllllllllllllllllllllllllllllllllllllllllllllllllllllllllllllllllllllllllllllllllllllllllllllllllllllllllllllllllllllllllllllllllllllllllllllllllllllllllllllllllllllllllllllllllllllllllllllllllllllllllllllllllllllllllllllllllllllllllllllllllllllllllllllllllllllllllllllllllllllllllllllllllllllllllllllllllllllllllllllllllllllllllllllllllllllllllllllllllllllllllllllllllllllllllllllllllllllllllllllllllllllllllllllllllllllllllllllllllllllllllllllllllllllllllllllllllllllllllllllllllllllllllllllllllllll}\n",
       " Subject & Gender & Release & FS\\_InterCranial\\_Vol & FS\\_BrainSeg\\_Vol & FS\\_BrainSeg\\_Vol\\_No\\_Vent & FS\\_BrainSeg\\_Vol\\_No\\_Vent\\_Surf & FS\\_LCort\\_GM\\_Vol & FS\\_RCort\\_GM\\_Vol & FS\\_TotCort\\_GM\\_Vol & ... & FS\\_R\\_Rostralanteriorcingulate\\_CurvInd & FS\\_R\\_Rostralmiddlefrontal\\_CurvInd & FS\\_R\\_Superiorfrontal\\_CurvInd & FS\\_R\\_Superiorparietal\\_CurvInd & FS\\_R\\_Superiortemporal\\_CurvInd & FS\\_R\\_Supramarginal\\_CurvInd & FS\\_R\\_Frontalpole\\_CurvInd & FS\\_R\\_Temporalpole\\_CurvInd & FS\\_R\\_Transversetemporal\\_CurvInd & FS\\_R\\_Insula\\_CurvInd\\\\\n",
       "\\hline\n",
       "\t 100206  & M       & S900    & 1864518 & 1406924 & 1389007 & 1386836 & 304488  & 305634  & 610122  & ...     & 5.6     & 34.6    & 40.1    & 23.3    & 15.6    & 11.9    & 2.9     & 3.8     & 2.8     & 37.5   \\\\\n",
       "\t 100307  & F       & Q1      & 1512540 & 1109710 & 1098854 & 1097122 & 240030  & 243207  & 483238  & ...     & 3.3     & 29.9    & 48.8    & 21.6    & 18.6    & 15.0    & 2.9     & 5.8     & 2.0     & 30.2   \\\\\n",
       "\t 100408  & M       & Q3      & 1684117 & 1280171 & 1260943 & 1259250 & 260695  & 265243  & 525938  & ...     & 3.3     & 25.2    & 27.5    & 15.2    & 13.9    & 12.3    & 1.8     & 7.8     & 1.9     & 25.1   \\\\\n",
       "\t 100610  & M       & S900    & 1816044 & 1321362 & 1306929 & 1304569 & 276506  & 278002  & 554508  & ...     & 3.0     & 19.6    & 20.0    & 18.6    & 10.6    & 10.8    & 1.2     & 4.1     & 1.4     & 16.6   \\\\\n",
       "\t 101006  & F       & S500    & 1437868 & 1053766 & 1038408 & 1037793 & 203718  & 210539  & 414257  & ...     & 2.9     & 14.7    & 21.3    & 13.2    &  8.7    &  9.8    & 1.1     & 3.0     & 1.0     & 18.9   \\\\\n",
       "\t 101107  & M       & S500    & 1512727 & 1126655 & 1111763 & 1109747 & 242489  & 248807  & 491296  & ...     & 3.9     & 17.5    & 18.1    &  9.9    &  6.7    &  7.2    & 1.1     & 2.3     & 0.9     & 12.1   \\\\\n",
       "\\end{tabular}\n"
      ],
      "text/markdown": [
       "\n",
       "| Subject | Gender | Release | FS_InterCranial_Vol | FS_BrainSeg_Vol | FS_BrainSeg_Vol_No_Vent | FS_BrainSeg_Vol_No_Vent_Surf | FS_LCort_GM_Vol | FS_RCort_GM_Vol | FS_TotCort_GM_Vol | ... | FS_R_Rostralanteriorcingulate_CurvInd | FS_R_Rostralmiddlefrontal_CurvInd | FS_R_Superiorfrontal_CurvInd | FS_R_Superiorparietal_CurvInd | FS_R_Superiortemporal_CurvInd | FS_R_Supramarginal_CurvInd | FS_R_Frontalpole_CurvInd | FS_R_Temporalpole_CurvInd | FS_R_Transversetemporal_CurvInd | FS_R_Insula_CurvInd |\n",
       "|---|---|---|---|---|---|---|---|---|---|---|---|---|---|---|---|---|---|---|---|---|\n",
       "| 100206  | M       | S900    | 1864518 | 1406924 | 1389007 | 1386836 | 304488  | 305634  | 610122  | ...     | 5.6     | 34.6    | 40.1    | 23.3    | 15.6    | 11.9    | 2.9     | 3.8     | 2.8     | 37.5    |\n",
       "| 100307  | F       | Q1      | 1512540 | 1109710 | 1098854 | 1097122 | 240030  | 243207  | 483238  | ...     | 3.3     | 29.9    | 48.8    | 21.6    | 18.6    | 15.0    | 2.9     | 5.8     | 2.0     | 30.2    |\n",
       "| 100408  | M       | Q3      | 1684117 | 1280171 | 1260943 | 1259250 | 260695  | 265243  | 525938  | ...     | 3.3     | 25.2    | 27.5    | 15.2    | 13.9    | 12.3    | 1.8     | 7.8     | 1.9     | 25.1    |\n",
       "| 100610  | M       | S900    | 1816044 | 1321362 | 1306929 | 1304569 | 276506  | 278002  | 554508  | ...     | 3.0     | 19.6    | 20.0    | 18.6    | 10.6    | 10.8    | 1.2     | 4.1     | 1.4     | 16.6    |\n",
       "| 101006  | F       | S500    | 1437868 | 1053766 | 1038408 | 1037793 | 203718  | 210539  | 414257  | ...     | 2.9     | 14.7    | 21.3    | 13.2    |  8.7    |  9.8    | 1.1     | 3.0     | 1.0     | 18.9    |\n",
       "| 101107  | M       | S500    | 1512727 | 1126655 | 1111763 | 1109747 | 242489  | 248807  | 491296  | ...     | 3.9     | 17.5    | 18.1    |  9.9    |  6.7    |  7.2    | 1.1     | 2.3     | 0.9     | 12.1    |\n",
       "\n"
      ],
      "text/plain": [
       "  Subject Gender Release FS_InterCranial_Vol FS_BrainSeg_Vol\n",
       "1 100206  M      S900    1864518             1406924        \n",
       "2 100307  F      Q1      1512540             1109710        \n",
       "3 100408  M      Q3      1684117             1280171        \n",
       "4 100610  M      S900    1816044             1321362        \n",
       "5 101006  F      S500    1437868             1053766        \n",
       "6 101107  M      S500    1512727             1126655        \n",
       "  FS_BrainSeg_Vol_No_Vent FS_BrainSeg_Vol_No_Vent_Surf FS_LCort_GM_Vol\n",
       "1 1389007                 1386836                      304488         \n",
       "2 1098854                 1097122                      240030         \n",
       "3 1260943                 1259250                      260695         \n",
       "4 1306929                 1304569                      276506         \n",
       "5 1038408                 1037793                      203718         \n",
       "6 1111763                 1109747                      242489         \n",
       "  FS_RCort_GM_Vol FS_TotCort_GM_Vol ... FS_R_Rostralanteriorcingulate_CurvInd\n",
       "1 305634          610122            ... 5.6                                  \n",
       "2 243207          483238            ... 3.3                                  \n",
       "3 265243          525938            ... 3.3                                  \n",
       "4 278002          554508            ... 3.0                                  \n",
       "5 210539          414257            ... 2.9                                  \n",
       "6 248807          491296            ... 3.9                                  \n",
       "  FS_R_Rostralmiddlefrontal_CurvInd FS_R_Superiorfrontal_CurvInd\n",
       "1 34.6                              40.1                        \n",
       "2 29.9                              48.8                        \n",
       "3 25.2                              27.5                        \n",
       "4 19.6                              20.0                        \n",
       "5 14.7                              21.3                        \n",
       "6 17.5                              18.1                        \n",
       "  FS_R_Superiorparietal_CurvInd FS_R_Superiortemporal_CurvInd\n",
       "1 23.3                          15.6                         \n",
       "2 21.6                          18.6                         \n",
       "3 15.2                          13.9                         \n",
       "4 18.6                          10.6                         \n",
       "5 13.2                           8.7                         \n",
       "6  9.9                           6.7                         \n",
       "  FS_R_Supramarginal_CurvInd FS_R_Frontalpole_CurvInd FS_R_Temporalpole_CurvInd\n",
       "1 11.9                       2.9                      3.8                      \n",
       "2 15.0                       2.9                      5.8                      \n",
       "3 12.3                       1.8                      7.8                      \n",
       "4 10.8                       1.2                      4.1                      \n",
       "5  9.8                       1.1                      3.0                      \n",
       "6  7.2                       1.1                      2.3                      \n",
       "  FS_R_Transversetemporal_CurvInd FS_R_Insula_CurvInd\n",
       "1 2.8                             37.5               \n",
       "2 2.0                             30.2               \n",
       "3 1.9                             25.1               \n",
       "4 1.4                             16.6               \n",
       "5 1.0                             18.9               \n",
       "6 0.9                             12.1               "
      ]
     },
     "metadata": {},
     "output_type": "display_data"
    }
   ],
   "source": [
    "struct_data <- read.csv('/Users/Administrator/Downloads/unrestricted_hcp_freesurfer.csv')\n",
    "\n",
    "head(struct_data)"
   ]
  },
  {
   "cell_type": "markdown",
   "metadata": {},
   "source": [
    "### Filter dataframe"
   ]
  },
  {
   "cell_type": "code",
   "execution_count": 55,
   "metadata": {
    "ExecuteTime": {
     "end_time": "2020-06-18T17:48:12.672131Z",
     "start_time": "2020-06-18T17:48:12.616Z"
    }
   },
   "outputs": [
    {
     "data": {
      "text/html": [
       "<table>\n",
       "<thead><tr><th scope=col>FS_L_Bankssts_Thck</th><th scope=col>FS_L_Caudalanteriorcingulate_Thck</th><th scope=col>FS_L_Caudalmiddlefrontal_Thck</th><th scope=col>FS_L_Cuneus_Thck</th><th scope=col>FS_L_Entorhinal_Thck</th><th scope=col>FS_L_Fusiform_Thck</th><th scope=col>FS_L_Inferiorparietal_Thck</th><th scope=col>FS_L_Inferiortemporal_Thck</th><th scope=col>FS_L_Isthmuscingulate_Thck</th><th scope=col>FS_L_Lateraloccipital_Thck</th><th scope=col>...</th><th scope=col>FS_R_Rostralmiddlefrontal_Thck</th><th scope=col>FS_R_Superiorfrontal_Thck</th><th scope=col>FS_R_Superiorparietal_Thck</th><th scope=col>FS_R_Superiortemporal_Thck</th><th scope=col>FS_R_Supramarginal_Thck</th><th scope=col>FS_R_Frontalpole_Thck</th><th scope=col>FS_R_Temporalpole_Thck</th><th scope=col>FS_R_Transversetemporal_Thck</th><th scope=col>FS_R_Insula_Thck</th><th scope=col>Subject</th></tr></thead>\n",
       "<tbody>\n",
       "\t<tr><td>2.733 </td><td>2.682 </td><td>2.765 </td><td>2.185 </td><td>3.388 </td><td>2.957 </td><td>2.583 </td><td>3.065 </td><td>2.428 </td><td>2.304 </td><td>...   </td><td>2.515 </td><td>2.731 </td><td>2.278 </td><td>3.032 </td><td>2.660 </td><td>2.641 </td><td>3.579 </td><td>3.147 </td><td>3.278 </td><td>100206</td></tr>\n",
       "\t<tr><td>2.713 </td><td>3.253 </td><td>2.795 </td><td>1.957 </td><td>3.389 </td><td>3.062 </td><td>2.637 </td><td>2.968 </td><td>2.533 </td><td>2.259 </td><td>...   </td><td>2.789 </td><td>3.087 </td><td>2.250 </td><td>3.151 </td><td>2.766 </td><td>3.675 </td><td>4.026 </td><td>2.819 </td><td>3.002 </td><td>100307</td></tr>\n",
       "\t<tr><td>2.532 </td><td>2.588 </td><td>2.612 </td><td>2.127 </td><td>3.310 </td><td>2.870 </td><td>2.515 </td><td>2.840 </td><td>2.257 </td><td>2.247 </td><td>...   </td><td>2.502 </td><td>2.760 </td><td>2.282 </td><td>2.846 </td><td>2.554 </td><td>2.840 </td><td>3.102 </td><td>2.532 </td><td>2.947 </td><td>100408</td></tr>\n",
       "\t<tr><td>2.683 </td><td>3.029 </td><td>2.735 </td><td>2.223 </td><td>3.664 </td><td>2.873 </td><td>2.547 </td><td>3.062 </td><td>2.471 </td><td>2.238 </td><td>...   </td><td>2.620 </td><td>3.013 </td><td>2.257 </td><td>2.901 </td><td>2.632 </td><td>2.994 </td><td>3.723 </td><td>2.721 </td><td>3.068 </td><td>100610</td></tr>\n",
       "\t<tr><td>2.632 </td><td>2.657 </td><td>2.839 </td><td>1.977 </td><td>3.236 </td><td>2.841 </td><td>2.522 </td><td>2.846 </td><td>2.300 </td><td>2.231 </td><td>...   </td><td>2.581 </td><td>2.864 </td><td>2.313 </td><td>2.879 </td><td>2.674 </td><td>2.658 </td><td>3.540 </td><td>2.726 </td><td>2.958 </td><td>101006</td></tr>\n",
       "\t<tr><td>2.877 </td><td>2.729 </td><td>2.851 </td><td>2.251 </td><td>3.529 </td><td>3.041 </td><td>2.769 </td><td>3.123 </td><td>2.657 </td><td>2.529 </td><td>...   </td><td>2.727 </td><td>3.038 </td><td>2.502 </td><td>3.151 </td><td>2.895 </td><td>2.976 </td><td>3.956 </td><td>2.649 </td><td>3.346 </td><td>101107</td></tr>\n",
       "</tbody>\n",
       "</table>\n"
      ],
      "text/latex": [
       "\\begin{tabular}{r|lllllllllllllllllllllllllllllllllllllllllllllllllllllllllllllllllllll}\n",
       " FS\\_L\\_Bankssts\\_Thck & FS\\_L\\_Caudalanteriorcingulate\\_Thck & FS\\_L\\_Caudalmiddlefrontal\\_Thck & FS\\_L\\_Cuneus\\_Thck & FS\\_L\\_Entorhinal\\_Thck & FS\\_L\\_Fusiform\\_Thck & FS\\_L\\_Inferiorparietal\\_Thck & FS\\_L\\_Inferiortemporal\\_Thck & FS\\_L\\_Isthmuscingulate\\_Thck & FS\\_L\\_Lateraloccipital\\_Thck & ... & FS\\_R\\_Rostralmiddlefrontal\\_Thck & FS\\_R\\_Superiorfrontal\\_Thck & FS\\_R\\_Superiorparietal\\_Thck & FS\\_R\\_Superiortemporal\\_Thck & FS\\_R\\_Supramarginal\\_Thck & FS\\_R\\_Frontalpole\\_Thck & FS\\_R\\_Temporalpole\\_Thck & FS\\_R\\_Transversetemporal\\_Thck & FS\\_R\\_Insula\\_Thck & Subject\\\\\n",
       "\\hline\n",
       "\t 2.733  & 2.682  & 2.765  & 2.185  & 3.388  & 2.957  & 2.583  & 3.065  & 2.428  & 2.304  & ...    & 2.515  & 2.731  & 2.278  & 3.032  & 2.660  & 2.641  & 3.579  & 3.147  & 3.278  & 100206\\\\\n",
       "\t 2.713  & 3.253  & 2.795  & 1.957  & 3.389  & 3.062  & 2.637  & 2.968  & 2.533  & 2.259  & ...    & 2.789  & 3.087  & 2.250  & 3.151  & 2.766  & 3.675  & 4.026  & 2.819  & 3.002  & 100307\\\\\n",
       "\t 2.532  & 2.588  & 2.612  & 2.127  & 3.310  & 2.870  & 2.515  & 2.840  & 2.257  & 2.247  & ...    & 2.502  & 2.760  & 2.282  & 2.846  & 2.554  & 2.840  & 3.102  & 2.532  & 2.947  & 100408\\\\\n",
       "\t 2.683  & 3.029  & 2.735  & 2.223  & 3.664  & 2.873  & 2.547  & 3.062  & 2.471  & 2.238  & ...    & 2.620  & 3.013  & 2.257  & 2.901  & 2.632  & 2.994  & 3.723  & 2.721  & 3.068  & 100610\\\\\n",
       "\t 2.632  & 2.657  & 2.839  & 1.977  & 3.236  & 2.841  & 2.522  & 2.846  & 2.300  & 2.231  & ...    & 2.581  & 2.864  & 2.313  & 2.879  & 2.674  & 2.658  & 3.540  & 2.726  & 2.958  & 101006\\\\\n",
       "\t 2.877  & 2.729  & 2.851  & 2.251  & 3.529  & 3.041  & 2.769  & 3.123  & 2.657  & 2.529  & ...    & 2.727  & 3.038  & 2.502  & 3.151  & 2.895  & 2.976  & 3.956  & 2.649  & 3.346  & 101107\\\\\n",
       "\\end{tabular}\n"
      ],
      "text/markdown": [
       "\n",
       "| FS_L_Bankssts_Thck | FS_L_Caudalanteriorcingulate_Thck | FS_L_Caudalmiddlefrontal_Thck | FS_L_Cuneus_Thck | FS_L_Entorhinal_Thck | FS_L_Fusiform_Thck | FS_L_Inferiorparietal_Thck | FS_L_Inferiortemporal_Thck | FS_L_Isthmuscingulate_Thck | FS_L_Lateraloccipital_Thck | ... | FS_R_Rostralmiddlefrontal_Thck | FS_R_Superiorfrontal_Thck | FS_R_Superiorparietal_Thck | FS_R_Superiortemporal_Thck | FS_R_Supramarginal_Thck | FS_R_Frontalpole_Thck | FS_R_Temporalpole_Thck | FS_R_Transversetemporal_Thck | FS_R_Insula_Thck | Subject |\n",
       "|---|---|---|---|---|---|---|---|---|---|---|---|---|---|---|---|---|---|---|---|---|\n",
       "| 2.733  | 2.682  | 2.765  | 2.185  | 3.388  | 2.957  | 2.583  | 3.065  | 2.428  | 2.304  | ...    | 2.515  | 2.731  | 2.278  | 3.032  | 2.660  | 2.641  | 3.579  | 3.147  | 3.278  | 100206 |\n",
       "| 2.713  | 3.253  | 2.795  | 1.957  | 3.389  | 3.062  | 2.637  | 2.968  | 2.533  | 2.259  | ...    | 2.789  | 3.087  | 2.250  | 3.151  | 2.766  | 3.675  | 4.026  | 2.819  | 3.002  | 100307 |\n",
       "| 2.532  | 2.588  | 2.612  | 2.127  | 3.310  | 2.870  | 2.515  | 2.840  | 2.257  | 2.247  | ...    | 2.502  | 2.760  | 2.282  | 2.846  | 2.554  | 2.840  | 3.102  | 2.532  | 2.947  | 100408 |\n",
       "| 2.683  | 3.029  | 2.735  | 2.223  | 3.664  | 2.873  | 2.547  | 3.062  | 2.471  | 2.238  | ...    | 2.620  | 3.013  | 2.257  | 2.901  | 2.632  | 2.994  | 3.723  | 2.721  | 3.068  | 100610 |\n",
       "| 2.632  | 2.657  | 2.839  | 1.977  | 3.236  | 2.841  | 2.522  | 2.846  | 2.300  | 2.231  | ...    | 2.581  | 2.864  | 2.313  | 2.879  | 2.674  | 2.658  | 3.540  | 2.726  | 2.958  | 101006 |\n",
       "| 2.877  | 2.729  | 2.851  | 2.251  | 3.529  | 3.041  | 2.769  | 3.123  | 2.657  | 2.529  | ...    | 2.727  | 3.038  | 2.502  | 3.151  | 2.895  | 2.976  | 3.956  | 2.649  | 3.346  | 101107 |\n",
       "\n"
      ],
      "text/plain": [
       "  FS_L_Bankssts_Thck FS_L_Caudalanteriorcingulate_Thck\n",
       "1 2.733              2.682                            \n",
       "2 2.713              3.253                            \n",
       "3 2.532              2.588                            \n",
       "4 2.683              3.029                            \n",
       "5 2.632              2.657                            \n",
       "6 2.877              2.729                            \n",
       "  FS_L_Caudalmiddlefrontal_Thck FS_L_Cuneus_Thck FS_L_Entorhinal_Thck\n",
       "1 2.765                         2.185            3.388               \n",
       "2 2.795                         1.957            3.389               \n",
       "3 2.612                         2.127            3.310               \n",
       "4 2.735                         2.223            3.664               \n",
       "5 2.839                         1.977            3.236               \n",
       "6 2.851                         2.251            3.529               \n",
       "  FS_L_Fusiform_Thck FS_L_Inferiorparietal_Thck FS_L_Inferiortemporal_Thck\n",
       "1 2.957              2.583                      3.065                     \n",
       "2 3.062              2.637                      2.968                     \n",
       "3 2.870              2.515                      2.840                     \n",
       "4 2.873              2.547                      3.062                     \n",
       "5 2.841              2.522                      2.846                     \n",
       "6 3.041              2.769                      3.123                     \n",
       "  FS_L_Isthmuscingulate_Thck FS_L_Lateraloccipital_Thck ...\n",
       "1 2.428                      2.304                      ...\n",
       "2 2.533                      2.259                      ...\n",
       "3 2.257                      2.247                      ...\n",
       "4 2.471                      2.238                      ...\n",
       "5 2.300                      2.231                      ...\n",
       "6 2.657                      2.529                      ...\n",
       "  FS_R_Rostralmiddlefrontal_Thck FS_R_Superiorfrontal_Thck\n",
       "1 2.515                          2.731                    \n",
       "2 2.789                          3.087                    \n",
       "3 2.502                          2.760                    \n",
       "4 2.620                          3.013                    \n",
       "5 2.581                          2.864                    \n",
       "6 2.727                          3.038                    \n",
       "  FS_R_Superiorparietal_Thck FS_R_Superiortemporal_Thck FS_R_Supramarginal_Thck\n",
       "1 2.278                      3.032                      2.660                  \n",
       "2 2.250                      3.151                      2.766                  \n",
       "3 2.282                      2.846                      2.554                  \n",
       "4 2.257                      2.901                      2.632                  \n",
       "5 2.313                      2.879                      2.674                  \n",
       "6 2.502                      3.151                      2.895                  \n",
       "  FS_R_Frontalpole_Thck FS_R_Temporalpole_Thck FS_R_Transversetemporal_Thck\n",
       "1 2.641                 3.579                  3.147                       \n",
       "2 3.675                 4.026                  2.819                       \n",
       "3 2.840                 3.102                  2.532                       \n",
       "4 2.994                 3.723                  2.721                       \n",
       "5 2.658                 3.540                  2.726                       \n",
       "6 2.976                 3.956                  2.649                       \n",
       "  FS_R_Insula_Thck Subject\n",
       "1 3.278            100206 \n",
       "2 3.002            100307 \n",
       "3 2.947            100408 \n",
       "4 3.068            100610 \n",
       "5 2.958            101006 \n",
       "6 3.346            101107 "
      ]
     },
     "metadata": {},
     "output_type": "display_data"
    },
    {
     "data": {
      "text/html": [
       "1113"
      ],
      "text/latex": [
       "1113"
      ],
      "text/markdown": [
       "1113"
      ],
      "text/plain": [
       "[1] 1113"
      ]
     },
     "metadata": {},
     "output_type": "display_data"
    }
   ],
   "source": [
    "thick_data <- select(struct_data, ends_with('Thck'))\n",
    "thick_data$Subject <- struct_data$Subject\n",
    "\n",
    "head(thick_data)\n",
    "nrow(thick_data)"
   ]
  },
  {
   "cell_type": "markdown",
   "metadata": {},
   "source": [
    "### Combine behavioral and neural dataframes"
   ]
  },
  {
   "cell_type": "code",
   "execution_count": 54,
   "metadata": {
    "ExecuteTime": {
     "end_time": "2020-06-18T17:48:02.729451Z",
     "start_time": "2020-06-18T17:48:02.672Z"
    }
   },
   "outputs": [
    {
     "data": {
      "text/html": [
       "<table>\n",
       "<thead><tr><th scope=col>Subject</th><th scope=col>PSQI_Compl</th><th scope=col>PSQI_Score</th><th scope=col>PSQI_Comp1</th><th scope=col>PSQI_Comp2</th><th scope=col>PSQI_Comp3</th><th scope=col>PSQI_Comp4</th><th scope=col>PSQI_Comp5</th><th scope=col>PSQI_Comp6</th><th scope=col>PSQI_Comp7</th><th scope=col>...</th><th scope=col>FS_R_Rostralanteriorcingulate_Thck</th><th scope=col>FS_R_Rostralmiddlefrontal_Thck</th><th scope=col>FS_R_Superiorfrontal_Thck</th><th scope=col>FS_R_Superiorparietal_Thck</th><th scope=col>FS_R_Superiortemporal_Thck</th><th scope=col>FS_R_Supramarginal_Thck</th><th scope=col>FS_R_Frontalpole_Thck</th><th scope=col>FS_R_Temporalpole_Thck</th><th scope=col>FS_R_Transversetemporal_Thck</th><th scope=col>FS_R_Insula_Thck</th></tr></thead>\n",
       "<tbody>\n",
       "\t<tr><td>100206</td><td>true  </td><td>6     </td><td>1     </td><td>1     </td><td>1     </td><td>1     </td><td>1     </td><td>0     </td><td>1     </td><td>...   </td><td>3.115 </td><td>2.515 </td><td>2.731 </td><td>2.278 </td><td>3.032 </td><td>2.660 </td><td>2.641 </td><td>3.579 </td><td>3.147 </td><td>3.278 </td></tr>\n",
       "\t<tr><td>100307</td><td>true  </td><td>4     </td><td>1     </td><td>0     </td><td>1     </td><td>0     </td><td>2     </td><td>0     </td><td>0     </td><td>...   </td><td>3.012 </td><td>2.789 </td><td>3.087 </td><td>2.250 </td><td>3.151 </td><td>2.766 </td><td>3.675 </td><td>4.026 </td><td>2.819 </td><td>3.002 </td></tr>\n",
       "\t<tr><td>100408</td><td>true  </td><td>4     </td><td>1     </td><td>1     </td><td>0     </td><td>0     </td><td>1     </td><td>0     </td><td>1     </td><td>...   </td><td>2.862 </td><td>2.502 </td><td>2.760 </td><td>2.282 </td><td>2.846 </td><td>2.554 </td><td>2.840 </td><td>3.102 </td><td>2.532 </td><td>2.947 </td></tr>\n",
       "\t<tr><td>100610</td><td>true  </td><td>4     </td><td>1     </td><td>1     </td><td>0     </td><td>0     </td><td>1     </td><td>0     </td><td>1     </td><td>...   </td><td>3.336 </td><td>2.620 </td><td>3.013 </td><td>2.257 </td><td>2.901 </td><td>2.632 </td><td>2.994 </td><td>3.723 </td><td>2.721 </td><td>3.068 </td></tr>\n",
       "\t<tr><td>101006</td><td>true  </td><td>2     </td><td>1     </td><td>1     </td><td>0     </td><td>0     </td><td>0     </td><td>0     </td><td>0     </td><td>...   </td><td>2.807 </td><td>2.581 </td><td>2.864 </td><td>2.313 </td><td>2.879 </td><td>2.674 </td><td>2.658 </td><td>3.540 </td><td>2.726 </td><td>2.958 </td></tr>\n",
       "\t<tr><td>101107</td><td>true  </td><td>9     </td><td>1     </td><td>1     </td><td>3     </td><td>3     </td><td>0     </td><td>0     </td><td>1     </td><td>...   </td><td>3.278 </td><td>2.727 </td><td>3.038 </td><td>2.502 </td><td>3.151 </td><td>2.895 </td><td>2.976 </td><td>3.956 </td><td>2.649 </td><td>3.346 </td></tr>\n",
       "</tbody>\n",
       "</table>\n"
      ],
      "text/latex": [
       "\\begin{tabular}{r|lllllllllllllllllllllllllllllllllllllllllllllllllllllllllllllllllllllllllllllllllllllllllllllllll}\n",
       " Subject & PSQI\\_Compl & PSQI\\_Score & PSQI\\_Comp1 & PSQI\\_Comp2 & PSQI\\_Comp3 & PSQI\\_Comp4 & PSQI\\_Comp5 & PSQI\\_Comp6 & PSQI\\_Comp7 & ... & FS\\_R\\_Rostralanteriorcingulate\\_Thck & FS\\_R\\_Rostralmiddlefrontal\\_Thck & FS\\_R\\_Superiorfrontal\\_Thck & FS\\_R\\_Superiorparietal\\_Thck & FS\\_R\\_Superiortemporal\\_Thck & FS\\_R\\_Supramarginal\\_Thck & FS\\_R\\_Frontalpole\\_Thck & FS\\_R\\_Temporalpole\\_Thck & FS\\_R\\_Transversetemporal\\_Thck & FS\\_R\\_Insula\\_Thck\\\\\n",
       "\\hline\n",
       "\t 100206 & true   & 6      & 1      & 1      & 1      & 1      & 1      & 0      & 1      & ...    & 3.115  & 2.515  & 2.731  & 2.278  & 3.032  & 2.660  & 2.641  & 3.579  & 3.147  & 3.278 \\\\\n",
       "\t 100307 & true   & 4      & 1      & 0      & 1      & 0      & 2      & 0      & 0      & ...    & 3.012  & 2.789  & 3.087  & 2.250  & 3.151  & 2.766  & 3.675  & 4.026  & 2.819  & 3.002 \\\\\n",
       "\t 100408 & true   & 4      & 1      & 1      & 0      & 0      & 1      & 0      & 1      & ...    & 2.862  & 2.502  & 2.760  & 2.282  & 2.846  & 2.554  & 2.840  & 3.102  & 2.532  & 2.947 \\\\\n",
       "\t 100610 & true   & 4      & 1      & 1      & 0      & 0      & 1      & 0      & 1      & ...    & 3.336  & 2.620  & 3.013  & 2.257  & 2.901  & 2.632  & 2.994  & 3.723  & 2.721  & 3.068 \\\\\n",
       "\t 101006 & true   & 2      & 1      & 1      & 0      & 0      & 0      & 0      & 0      & ...    & 2.807  & 2.581  & 2.864  & 2.313  & 2.879  & 2.674  & 2.658  & 3.540  & 2.726  & 2.958 \\\\\n",
       "\t 101107 & true   & 9      & 1      & 1      & 3      & 3      & 0      & 0      & 1      & ...    & 3.278  & 2.727  & 3.038  & 2.502  & 3.151  & 2.895  & 2.976  & 3.956  & 2.649  & 3.346 \\\\\n",
       "\\end{tabular}\n"
      ],
      "text/markdown": [
       "\n",
       "| Subject | PSQI_Compl | PSQI_Score | PSQI_Comp1 | PSQI_Comp2 | PSQI_Comp3 | PSQI_Comp4 | PSQI_Comp5 | PSQI_Comp6 | PSQI_Comp7 | ... | FS_R_Rostralanteriorcingulate_Thck | FS_R_Rostralmiddlefrontal_Thck | FS_R_Superiorfrontal_Thck | FS_R_Superiorparietal_Thck | FS_R_Superiortemporal_Thck | FS_R_Supramarginal_Thck | FS_R_Frontalpole_Thck | FS_R_Temporalpole_Thck | FS_R_Transversetemporal_Thck | FS_R_Insula_Thck |\n",
       "|---|---|---|---|---|---|---|---|---|---|---|---|---|---|---|---|---|---|---|---|---|\n",
       "| 100206 | true   | 6      | 1      | 1      | 1      | 1      | 1      | 0      | 1      | ...    | 3.115  | 2.515  | 2.731  | 2.278  | 3.032  | 2.660  | 2.641  | 3.579  | 3.147  | 3.278  |\n",
       "| 100307 | true   | 4      | 1      | 0      | 1      | 0      | 2      | 0      | 0      | ...    | 3.012  | 2.789  | 3.087  | 2.250  | 3.151  | 2.766  | 3.675  | 4.026  | 2.819  | 3.002  |\n",
       "| 100408 | true   | 4      | 1      | 1      | 0      | 0      | 1      | 0      | 1      | ...    | 2.862  | 2.502  | 2.760  | 2.282  | 2.846  | 2.554  | 2.840  | 3.102  | 2.532  | 2.947  |\n",
       "| 100610 | true   | 4      | 1      | 1      | 0      | 0      | 1      | 0      | 1      | ...    | 3.336  | 2.620  | 3.013  | 2.257  | 2.901  | 2.632  | 2.994  | 3.723  | 2.721  | 3.068  |\n",
       "| 101006 | true   | 2      | 1      | 1      | 0      | 0      | 0      | 0      | 0      | ...    | 2.807  | 2.581  | 2.864  | 2.313  | 2.879  | 2.674  | 2.658  | 3.540  | 2.726  | 2.958  |\n",
       "| 101107 | true   | 9      | 1      | 1      | 3      | 3      | 0      | 0      | 1      | ...    | 3.278  | 2.727  | 3.038  | 2.502  | 3.151  | 2.895  | 2.976  | 3.956  | 2.649  | 3.346  |\n",
       "\n"
      ],
      "text/plain": [
       "  Subject PSQI_Compl PSQI_Score PSQI_Comp1 PSQI_Comp2 PSQI_Comp3 PSQI_Comp4\n",
       "1 100206  true       6          1          1          1          1         \n",
       "2 100307  true       4          1          0          1          0         \n",
       "3 100408  true       4          1          1          0          0         \n",
       "4 100610  true       4          1          1          0          0         \n",
       "5 101006  true       2          1          1          0          0         \n",
       "6 101107  true       9          1          1          3          3         \n",
       "  PSQI_Comp5 PSQI_Comp6 PSQI_Comp7 ... FS_R_Rostralanteriorcingulate_Thck\n",
       "1 1          0          1          ... 3.115                             \n",
       "2 2          0          0          ... 3.012                             \n",
       "3 1          0          1          ... 2.862                             \n",
       "4 1          0          1          ... 3.336                             \n",
       "5 0          0          0          ... 2.807                             \n",
       "6 0          0          1          ... 3.278                             \n",
       "  FS_R_Rostralmiddlefrontal_Thck FS_R_Superiorfrontal_Thck\n",
       "1 2.515                          2.731                    \n",
       "2 2.789                          3.087                    \n",
       "3 2.502                          2.760                    \n",
       "4 2.620                          3.013                    \n",
       "5 2.581                          2.864                    \n",
       "6 2.727                          3.038                    \n",
       "  FS_R_Superiorparietal_Thck FS_R_Superiortemporal_Thck FS_R_Supramarginal_Thck\n",
       "1 2.278                      3.032                      2.660                  \n",
       "2 2.250                      3.151                      2.766                  \n",
       "3 2.282                      2.846                      2.554                  \n",
       "4 2.257                      2.901                      2.632                  \n",
       "5 2.313                      2.879                      2.674                  \n",
       "6 2.502                      3.151                      2.895                  \n",
       "  FS_R_Frontalpole_Thck FS_R_Temporalpole_Thck FS_R_Transversetemporal_Thck\n",
       "1 2.641                 3.579                  3.147                       \n",
       "2 3.675                 4.026                  2.819                       \n",
       "3 2.840                 3.102                  2.532                       \n",
       "4 2.994                 3.723                  2.721                       \n",
       "5 2.658                 3.540                  2.726                       \n",
       "6 2.976                 3.956                  2.649                       \n",
       "  FS_R_Insula_Thck\n",
       "1 3.278           \n",
       "2 3.002           \n",
       "3 2.947           \n",
       "4 3.068           \n",
       "5 2.958           \n",
       "6 3.346           "
      ]
     },
     "metadata": {},
     "output_type": "display_data"
    },
    {
     "data": {
      "text/html": [
       "1113"
      ],
      "text/latex": [
       "1113"
      ],
      "text/markdown": [
       "1113"
      ],
      "text/plain": [
       "[1] 1113"
      ]
     },
     "metadata": {},
     "output_type": "display_data"
    }
   ],
   "source": [
    "psqi_thick_data <- merge(psqi_data, thick_data, by='Subject')\n",
    "\n",
    "head(psqi_thick_data)\n",
    "nrow(psqi_thick_data)"
   ]
  },
  {
   "cell_type": "markdown",
   "metadata": {},
   "source": [
    "### Run Stats"
   ]
  },
  {
   "cell_type": "code",
   "execution_count": 53,
   "metadata": {
    "ExecuteTime": {
     "end_time": "2020-06-18T17:47:18.743231Z",
     "start_time": "2020-06-18T17:47:18.712Z"
    }
   },
   "outputs": [
    {
     "data": {
      "text/html": [
       "<ol class=list-inline>\n",
       "\t<li>'FS_L_Bankssts_Thck'</li>\n",
       "\t<li>'FS_L_Caudalanteriorcingulate_Thck'</li>\n",
       "\t<li>'FS_L_Caudalmiddlefrontal_Thck'</li>\n",
       "\t<li>'FS_L_Cuneus_Thck'</li>\n",
       "\t<li>'FS_L_Entorhinal_Thck'</li>\n",
       "\t<li>'FS_L_Fusiform_Thck'</li>\n",
       "\t<li>'FS_L_Inferiorparietal_Thck'</li>\n",
       "\t<li>'FS_L_Inferiortemporal_Thck'</li>\n",
       "\t<li>'FS_L_Isthmuscingulate_Thck'</li>\n",
       "\t<li>'FS_L_Lateraloccipital_Thck'</li>\n",
       "\t<li>'FS_L_Lateralorbitofrontal_Thck'</li>\n",
       "\t<li>'FS_L_Lingual_Thck'</li>\n",
       "\t<li>'FS_L_Medialorbitofrontal_Thck'</li>\n",
       "\t<li>'FS_L_Middletemporal_Thck'</li>\n",
       "\t<li>'FS_L_Parahippocampal_Thck'</li>\n",
       "\t<li>'FS_L_Paracentral_Thck'</li>\n",
       "\t<li>'FS_L_Parsopercularis_Thck'</li>\n",
       "\t<li>'FS_L_Parsorbitalis_Thck'</li>\n",
       "\t<li>'FS_L_Parstriangularis_Thck'</li>\n",
       "\t<li>'FS_L_Pericalcarine_Thck'</li>\n",
       "\t<li>'FS_L_Postcentral_Thck'</li>\n",
       "\t<li>'FS_L_Posteriorcingulate_Thck'</li>\n",
       "\t<li>'FS_L_Precentral_Thck'</li>\n",
       "\t<li>'FS_L_Precuneus_Thck'</li>\n",
       "\t<li>'FS_L_Rostralanteriorcingulate_Thck'</li>\n",
       "\t<li>'FS_L_Rostralmiddlefrontal_Thck'</li>\n",
       "\t<li>'FS_L_Superiorfrontal_Thck'</li>\n",
       "\t<li>'FS_L_Superiorparietal_Thck'</li>\n",
       "\t<li>'FS_L_Superiortemporal_Thck'</li>\n",
       "\t<li>'FS_L_Supramarginal_Thck'</li>\n",
       "\t<li>'FS_L_Frontalpole_Thck'</li>\n",
       "\t<li>'FS_L_Temporalpole_Thck'</li>\n",
       "\t<li>'FS_L_Transversetemporal_Thck'</li>\n",
       "\t<li>'FS_L_Insula_Thck'</li>\n",
       "\t<li>'FS_R_Bankssts_Thck'</li>\n",
       "\t<li>'FS_R_Caudalanteriorcingulate_Thck'</li>\n",
       "\t<li>'FS_R_Caudalmiddlefrontal_Thck'</li>\n",
       "\t<li>'FS_R_Cuneus_Thck'</li>\n",
       "\t<li>'FS_R_Entorhinal_Thck'</li>\n",
       "\t<li>'FS_R_Fusiform_Thck'</li>\n",
       "\t<li>'FS_R_Inferiorparietal_Thck'</li>\n",
       "\t<li>'FS_R_Inferiortemporal_Thck'</li>\n",
       "\t<li>'FS_R_Isthmuscingulate_Thck'</li>\n",
       "\t<li>'FS_R_Lateraloccipital_Thck'</li>\n",
       "\t<li>'FS_R_Lateralorbitofrontal_Thck'</li>\n",
       "\t<li>'FS_R_Lingual_Thck'</li>\n",
       "\t<li>'FS_R_Medialorbitofrontal_Thck'</li>\n",
       "\t<li>'FS_R_Middletemporal_Thck'</li>\n",
       "\t<li>'FS_R_Parahippocampal_Thck'</li>\n",
       "\t<li>'FS_R_Paracentral_Thck'</li>\n",
       "\t<li>'FS_R_Parsopercularis_Thck'</li>\n",
       "\t<li>'FS_R_Parsorbitalis_Thck'</li>\n",
       "\t<li>'FS_R_Parstriangularis_Thck'</li>\n",
       "\t<li>'FS_R_Pericalcarine_Thck'</li>\n",
       "\t<li>'FS_R_Postcentral_Thck'</li>\n",
       "\t<li>'FS_R_Posteriorcingulate_Thck'</li>\n",
       "\t<li>'FS_R_Precentral_Thck'</li>\n",
       "\t<li>'FS_R_Precuneus_Thck'</li>\n",
       "\t<li>'FS_R_Rostralanteriorcingulate_Thck'</li>\n",
       "\t<li>'FS_R_Rostralmiddlefrontal_Thck'</li>\n",
       "\t<li>'FS_R_Superiorfrontal_Thck'</li>\n",
       "\t<li>'FS_R_Superiorparietal_Thck'</li>\n",
       "\t<li>'FS_R_Superiortemporal_Thck'</li>\n",
       "\t<li>'FS_R_Supramarginal_Thck'</li>\n",
       "\t<li>'FS_R_Frontalpole_Thck'</li>\n",
       "\t<li>'FS_R_Temporalpole_Thck'</li>\n",
       "\t<li>'FS_R_Transversetemporal_Thck'</li>\n",
       "\t<li>'FS_R_Insula_Thck'</li>\n",
       "</ol>\n"
      ],
      "text/latex": [
       "\\begin{enumerate*}\n",
       "\\item 'FS\\_L\\_Bankssts\\_Thck'\n",
       "\\item 'FS\\_L\\_Caudalanteriorcingulate\\_Thck'\n",
       "\\item 'FS\\_L\\_Caudalmiddlefrontal\\_Thck'\n",
       "\\item 'FS\\_L\\_Cuneus\\_Thck'\n",
       "\\item 'FS\\_L\\_Entorhinal\\_Thck'\n",
       "\\item 'FS\\_L\\_Fusiform\\_Thck'\n",
       "\\item 'FS\\_L\\_Inferiorparietal\\_Thck'\n",
       "\\item 'FS\\_L\\_Inferiortemporal\\_Thck'\n",
       "\\item 'FS\\_L\\_Isthmuscingulate\\_Thck'\n",
       "\\item 'FS\\_L\\_Lateraloccipital\\_Thck'\n",
       "\\item 'FS\\_L\\_Lateralorbitofrontal\\_Thck'\n",
       "\\item 'FS\\_L\\_Lingual\\_Thck'\n",
       "\\item 'FS\\_L\\_Medialorbitofrontal\\_Thck'\n",
       "\\item 'FS\\_L\\_Middletemporal\\_Thck'\n",
       "\\item 'FS\\_L\\_Parahippocampal\\_Thck'\n",
       "\\item 'FS\\_L\\_Paracentral\\_Thck'\n",
       "\\item 'FS\\_L\\_Parsopercularis\\_Thck'\n",
       "\\item 'FS\\_L\\_Parsorbitalis\\_Thck'\n",
       "\\item 'FS\\_L\\_Parstriangularis\\_Thck'\n",
       "\\item 'FS\\_L\\_Pericalcarine\\_Thck'\n",
       "\\item 'FS\\_L\\_Postcentral\\_Thck'\n",
       "\\item 'FS\\_L\\_Posteriorcingulate\\_Thck'\n",
       "\\item 'FS\\_L\\_Precentral\\_Thck'\n",
       "\\item 'FS\\_L\\_Precuneus\\_Thck'\n",
       "\\item 'FS\\_L\\_Rostralanteriorcingulate\\_Thck'\n",
       "\\item 'FS\\_L\\_Rostralmiddlefrontal\\_Thck'\n",
       "\\item 'FS\\_L\\_Superiorfrontal\\_Thck'\n",
       "\\item 'FS\\_L\\_Superiorparietal\\_Thck'\n",
       "\\item 'FS\\_L\\_Superiortemporal\\_Thck'\n",
       "\\item 'FS\\_L\\_Supramarginal\\_Thck'\n",
       "\\item 'FS\\_L\\_Frontalpole\\_Thck'\n",
       "\\item 'FS\\_L\\_Temporalpole\\_Thck'\n",
       "\\item 'FS\\_L\\_Transversetemporal\\_Thck'\n",
       "\\item 'FS\\_L\\_Insula\\_Thck'\n",
       "\\item 'FS\\_R\\_Bankssts\\_Thck'\n",
       "\\item 'FS\\_R\\_Caudalanteriorcingulate\\_Thck'\n",
       "\\item 'FS\\_R\\_Caudalmiddlefrontal\\_Thck'\n",
       "\\item 'FS\\_R\\_Cuneus\\_Thck'\n",
       "\\item 'FS\\_R\\_Entorhinal\\_Thck'\n",
       "\\item 'FS\\_R\\_Fusiform\\_Thck'\n",
       "\\item 'FS\\_R\\_Inferiorparietal\\_Thck'\n",
       "\\item 'FS\\_R\\_Inferiortemporal\\_Thck'\n",
       "\\item 'FS\\_R\\_Isthmuscingulate\\_Thck'\n",
       "\\item 'FS\\_R\\_Lateraloccipital\\_Thck'\n",
       "\\item 'FS\\_R\\_Lateralorbitofrontal\\_Thck'\n",
       "\\item 'FS\\_R\\_Lingual\\_Thck'\n",
       "\\item 'FS\\_R\\_Medialorbitofrontal\\_Thck'\n",
       "\\item 'FS\\_R\\_Middletemporal\\_Thck'\n",
       "\\item 'FS\\_R\\_Parahippocampal\\_Thck'\n",
       "\\item 'FS\\_R\\_Paracentral\\_Thck'\n",
       "\\item 'FS\\_R\\_Parsopercularis\\_Thck'\n",
       "\\item 'FS\\_R\\_Parsorbitalis\\_Thck'\n",
       "\\item 'FS\\_R\\_Parstriangularis\\_Thck'\n",
       "\\item 'FS\\_R\\_Pericalcarine\\_Thck'\n",
       "\\item 'FS\\_R\\_Postcentral\\_Thck'\n",
       "\\item 'FS\\_R\\_Posteriorcingulate\\_Thck'\n",
       "\\item 'FS\\_R\\_Precentral\\_Thck'\n",
       "\\item 'FS\\_R\\_Precuneus\\_Thck'\n",
       "\\item 'FS\\_R\\_Rostralanteriorcingulate\\_Thck'\n",
       "\\item 'FS\\_R\\_Rostralmiddlefrontal\\_Thck'\n",
       "\\item 'FS\\_R\\_Superiorfrontal\\_Thck'\n",
       "\\item 'FS\\_R\\_Superiorparietal\\_Thck'\n",
       "\\item 'FS\\_R\\_Superiortemporal\\_Thck'\n",
       "\\item 'FS\\_R\\_Supramarginal\\_Thck'\n",
       "\\item 'FS\\_R\\_Frontalpole\\_Thck'\n",
       "\\item 'FS\\_R\\_Temporalpole\\_Thck'\n",
       "\\item 'FS\\_R\\_Transversetemporal\\_Thck'\n",
       "\\item 'FS\\_R\\_Insula\\_Thck'\n",
       "\\end{enumerate*}\n"
      ],
      "text/markdown": [
       "1. 'FS_L_Bankssts_Thck'\n",
       "2. 'FS_L_Caudalanteriorcingulate_Thck'\n",
       "3. 'FS_L_Caudalmiddlefrontal_Thck'\n",
       "4. 'FS_L_Cuneus_Thck'\n",
       "5. 'FS_L_Entorhinal_Thck'\n",
       "6. 'FS_L_Fusiform_Thck'\n",
       "7. 'FS_L_Inferiorparietal_Thck'\n",
       "8. 'FS_L_Inferiortemporal_Thck'\n",
       "9. 'FS_L_Isthmuscingulate_Thck'\n",
       "10. 'FS_L_Lateraloccipital_Thck'\n",
       "11. 'FS_L_Lateralorbitofrontal_Thck'\n",
       "12. 'FS_L_Lingual_Thck'\n",
       "13. 'FS_L_Medialorbitofrontal_Thck'\n",
       "14. 'FS_L_Middletemporal_Thck'\n",
       "15. 'FS_L_Parahippocampal_Thck'\n",
       "16. 'FS_L_Paracentral_Thck'\n",
       "17. 'FS_L_Parsopercularis_Thck'\n",
       "18. 'FS_L_Parsorbitalis_Thck'\n",
       "19. 'FS_L_Parstriangularis_Thck'\n",
       "20. 'FS_L_Pericalcarine_Thck'\n",
       "21. 'FS_L_Postcentral_Thck'\n",
       "22. 'FS_L_Posteriorcingulate_Thck'\n",
       "23. 'FS_L_Precentral_Thck'\n",
       "24. 'FS_L_Precuneus_Thck'\n",
       "25. 'FS_L_Rostralanteriorcingulate_Thck'\n",
       "26. 'FS_L_Rostralmiddlefrontal_Thck'\n",
       "27. 'FS_L_Superiorfrontal_Thck'\n",
       "28. 'FS_L_Superiorparietal_Thck'\n",
       "29. 'FS_L_Superiortemporal_Thck'\n",
       "30. 'FS_L_Supramarginal_Thck'\n",
       "31. 'FS_L_Frontalpole_Thck'\n",
       "32. 'FS_L_Temporalpole_Thck'\n",
       "33. 'FS_L_Transversetemporal_Thck'\n",
       "34. 'FS_L_Insula_Thck'\n",
       "35. 'FS_R_Bankssts_Thck'\n",
       "36. 'FS_R_Caudalanteriorcingulate_Thck'\n",
       "37. 'FS_R_Caudalmiddlefrontal_Thck'\n",
       "38. 'FS_R_Cuneus_Thck'\n",
       "39. 'FS_R_Entorhinal_Thck'\n",
       "40. 'FS_R_Fusiform_Thck'\n",
       "41. 'FS_R_Inferiorparietal_Thck'\n",
       "42. 'FS_R_Inferiortemporal_Thck'\n",
       "43. 'FS_R_Isthmuscingulate_Thck'\n",
       "44. 'FS_R_Lateraloccipital_Thck'\n",
       "45. 'FS_R_Lateralorbitofrontal_Thck'\n",
       "46. 'FS_R_Lingual_Thck'\n",
       "47. 'FS_R_Medialorbitofrontal_Thck'\n",
       "48. 'FS_R_Middletemporal_Thck'\n",
       "49. 'FS_R_Parahippocampal_Thck'\n",
       "50. 'FS_R_Paracentral_Thck'\n",
       "51. 'FS_R_Parsopercularis_Thck'\n",
       "52. 'FS_R_Parsorbitalis_Thck'\n",
       "53. 'FS_R_Parstriangularis_Thck'\n",
       "54. 'FS_R_Pericalcarine_Thck'\n",
       "55. 'FS_R_Postcentral_Thck'\n",
       "56. 'FS_R_Posteriorcingulate_Thck'\n",
       "57. 'FS_R_Precentral_Thck'\n",
       "58. 'FS_R_Precuneus_Thck'\n",
       "59. 'FS_R_Rostralanteriorcingulate_Thck'\n",
       "60. 'FS_R_Rostralmiddlefrontal_Thck'\n",
       "61. 'FS_R_Superiorfrontal_Thck'\n",
       "62. 'FS_R_Superiorparietal_Thck'\n",
       "63. 'FS_R_Superiortemporal_Thck'\n",
       "64. 'FS_R_Supramarginal_Thck'\n",
       "65. 'FS_R_Frontalpole_Thck'\n",
       "66. 'FS_R_Temporalpole_Thck'\n",
       "67. 'FS_R_Transversetemporal_Thck'\n",
       "68. 'FS_R_Insula_Thck'\n",
       "\n",
       "\n"
      ],
      "text/plain": [
       " [1] \"FS_L_Bankssts_Thck\"                 \"FS_L_Caudalanteriorcingulate_Thck\" \n",
       " [3] \"FS_L_Caudalmiddlefrontal_Thck\"      \"FS_L_Cuneus_Thck\"                  \n",
       " [5] \"FS_L_Entorhinal_Thck\"               \"FS_L_Fusiform_Thck\"                \n",
       " [7] \"FS_L_Inferiorparietal_Thck\"         \"FS_L_Inferiortemporal_Thck\"        \n",
       " [9] \"FS_L_Isthmuscingulate_Thck\"         \"FS_L_Lateraloccipital_Thck\"        \n",
       "[11] \"FS_L_Lateralorbitofrontal_Thck\"     \"FS_L_Lingual_Thck\"                 \n",
       "[13] \"FS_L_Medialorbitofrontal_Thck\"      \"FS_L_Middletemporal_Thck\"          \n",
       "[15] \"FS_L_Parahippocampal_Thck\"          \"FS_L_Paracentral_Thck\"             \n",
       "[17] \"FS_L_Parsopercularis_Thck\"          \"FS_L_Parsorbitalis_Thck\"           \n",
       "[19] \"FS_L_Parstriangularis_Thck\"         \"FS_L_Pericalcarine_Thck\"           \n",
       "[21] \"FS_L_Postcentral_Thck\"              \"FS_L_Posteriorcingulate_Thck\"      \n",
       "[23] \"FS_L_Precentral_Thck\"               \"FS_L_Precuneus_Thck\"               \n",
       "[25] \"FS_L_Rostralanteriorcingulate_Thck\" \"FS_L_Rostralmiddlefrontal_Thck\"    \n",
       "[27] \"FS_L_Superiorfrontal_Thck\"          \"FS_L_Superiorparietal_Thck\"        \n",
       "[29] \"FS_L_Superiortemporal_Thck\"         \"FS_L_Supramarginal_Thck\"           \n",
       "[31] \"FS_L_Frontalpole_Thck\"              \"FS_L_Temporalpole_Thck\"            \n",
       "[33] \"FS_L_Transversetemporal_Thck\"       \"FS_L_Insula_Thck\"                  \n",
       "[35] \"FS_R_Bankssts_Thck\"                 \"FS_R_Caudalanteriorcingulate_Thck\" \n",
       "[37] \"FS_R_Caudalmiddlefrontal_Thck\"      \"FS_R_Cuneus_Thck\"                  \n",
       "[39] \"FS_R_Entorhinal_Thck\"               \"FS_R_Fusiform_Thck\"                \n",
       "[41] \"FS_R_Inferiorparietal_Thck\"         \"FS_R_Inferiortemporal_Thck\"        \n",
       "[43] \"FS_R_Isthmuscingulate_Thck\"         \"FS_R_Lateraloccipital_Thck\"        \n",
       "[45] \"FS_R_Lateralorbitofrontal_Thck\"     \"FS_R_Lingual_Thck\"                 \n",
       "[47] \"FS_R_Medialorbitofrontal_Thck\"      \"FS_R_Middletemporal_Thck\"          \n",
       "[49] \"FS_R_Parahippocampal_Thck\"          \"FS_R_Paracentral_Thck\"             \n",
       "[51] \"FS_R_Parsopercularis_Thck\"          \"FS_R_Parsorbitalis_Thck\"           \n",
       "[53] \"FS_R_Parstriangularis_Thck\"         \"FS_R_Pericalcarine_Thck\"           \n",
       "[55] \"FS_R_Postcentral_Thck\"              \"FS_R_Posteriorcingulate_Thck\"      \n",
       "[57] \"FS_R_Precentral_Thck\"               \"FS_R_Precuneus_Thck\"               \n",
       "[59] \"FS_R_Rostralanteriorcingulate_Thck\" \"FS_R_Rostralmiddlefrontal_Thck\"    \n",
       "[61] \"FS_R_Superiorfrontal_Thck\"          \"FS_R_Superiorparietal_Thck\"        \n",
       "[63] \"FS_R_Superiortemporal_Thck\"         \"FS_R_Supramarginal_Thck\"           \n",
       "[65] \"FS_R_Frontalpole_Thck\"              \"FS_R_Temporalpole_Thck\"            \n",
       "[67] \"FS_R_Transversetemporal_Thck\"       \"FS_R_Insula_Thck\"                  "
      ]
     },
     "metadata": {},
     "output_type": "display_data"
    }
   ],
   "source": [
    "colnames(thick_data)[1:68]"
   ]
  },
  {
   "cell_type": "code",
   "execution_count": 101,
   "metadata": {
    "ExecuteTime": {
     "end_time": "2020-06-18T18:33:18.647007Z",
     "start_time": "2020-06-18T18:33:18.533Z"
    }
   },
   "outputs": [
    {
     "data": {
      "text/html": [
       "<table>\n",
       "<thead><tr><th></th><th scope=col>region</th><th scope=col>r</th><th scope=col>p</th></tr></thead>\n",
       "<tbody>\n",
       "\t<tr><th scope=row>cor</th><td>FS_L_Bankssts_Thck               </td><td>-0.08162860                      </td><td>0.006434957                      </td></tr>\n",
       "\t<tr><th scope=row>cor1</th><td>FS_L_Caudalanteriorcingulate_Thck</td><td>-0.02065750                      </td><td>0.491158403                      </td></tr>\n",
       "\t<tr><th scope=row>cor2</th><td>FS_L_Caudalmiddlefrontal_Thck    </td><td>-0.02385389                      </td><td>0.426599399                      </td></tr>\n",
       "\t<tr><th scope=row>cor3</th><td>FS_L_Cuneus_Thck                 </td><td>-0.05221451                      </td><td>0.081649794                      </td></tr>\n",
       "\t<tr><th scope=row>cor4</th><td>FS_L_Entorhinal_Thck             </td><td>-0.01471964                      </td><td>0.623747342                      </td></tr>\n",
       "\t<tr><th scope=row>cor5</th><td>FS_L_Fusiform_Thck               </td><td>-0.05317973                      </td><td>0.076158288                      </td></tr>\n",
       "</tbody>\n",
       "</table>\n"
      ],
      "text/latex": [
       "\\begin{tabular}{r|lll}\n",
       "  & region & r & p\\\\\n",
       "\\hline\n",
       "\tcor & FS\\_L\\_Bankssts\\_Thck                & -0.08162860                             & 0.006434957                            \\\\\n",
       "\tcor1 & FS\\_L\\_Caudalanteriorcingulate\\_Thck & -0.02065750                             & 0.491158403                            \\\\\n",
       "\tcor2 & FS\\_L\\_Caudalmiddlefrontal\\_Thck     & -0.02385389                             & 0.426599399                            \\\\\n",
       "\tcor3 & FS\\_L\\_Cuneus\\_Thck                  & -0.05221451                             & 0.081649794                            \\\\\n",
       "\tcor4 & FS\\_L\\_Entorhinal\\_Thck              & -0.01471964                             & 0.623747342                            \\\\\n",
       "\tcor5 & FS\\_L\\_Fusiform\\_Thck                & -0.05317973                             & 0.076158288                            \\\\\n",
       "\\end{tabular}\n"
      ],
      "text/markdown": [
       "\n",
       "| <!--/--> | region | r | p |\n",
       "|---|---|---|---|\n",
       "| cor | FS_L_Bankssts_Thck                | -0.08162860                       | 0.006434957                       |\n",
       "| cor1 | FS_L_Caudalanteriorcingulate_Thck | -0.02065750                       | 0.491158403                       |\n",
       "| cor2 | FS_L_Caudalmiddlefrontal_Thck     | -0.02385389                       | 0.426599399                       |\n",
       "| cor3 | FS_L_Cuneus_Thck                  | -0.05221451                       | 0.081649794                       |\n",
       "| cor4 | FS_L_Entorhinal_Thck              | -0.01471964                       | 0.623747342                       |\n",
       "| cor5 | FS_L_Fusiform_Thck                | -0.05317973                       | 0.076158288                       |\n",
       "\n"
      ],
      "text/plain": [
       "     region                            r           p          \n",
       "cor  FS_L_Bankssts_Thck                -0.08162860 0.006434957\n",
       "cor1 FS_L_Caudalanteriorcingulate_Thck -0.02065750 0.491158403\n",
       "cor2 FS_L_Caudalmiddlefrontal_Thck     -0.02385389 0.426599399\n",
       "cor3 FS_L_Cuneus_Thck                  -0.05221451 0.081649794\n",
       "cor4 FS_L_Entorhinal_Thck              -0.01471964 0.623747342\n",
       "cor5 FS_L_Fusiform_Thck                -0.05317973 0.076158288"
      ]
     },
     "metadata": {},
     "output_type": "display_data"
    }
   ],
   "source": [
    "corr_results <- data.frame(region=character(0),\n",
    "                          r=numeric(0),\n",
    "                          p=numeric(0))\n",
    "\n",
    "for (roi in colnames(thick_data)[1:68]){\n",
    "    temp_result <- cor.test(psqi_thick_data$PSQI_Bathroom, psqi_thick_data[[roi]])\n",
    "    temp_df <- data.frame(region=roi, r=temp_result$estimate, p=temp_result$p.value)\n",
    "    corr_results <- rbind(corr_results, temp_df)\n",
    "}\n",
    "\n",
    "head(corr_results)"
   ]
  },
  {
   "cell_type": "code",
   "execution_count": 106,
   "metadata": {
    "ExecuteTime": {
     "end_time": "2020-06-18T18:36:28.149219Z",
     "start_time": "2020-06-18T18:36:28.098Z"
    }
   },
   "outputs": [
    {
     "data": {
      "text/html": [
       "<table>\n",
       "<thead><tr><th></th><th scope=col>region</th><th scope=col>r</th><th scope=col>p</th></tr></thead>\n",
       "<tbody>\n",
       "\t<tr><th scope=row>cor</th><td>FS_L_Bankssts_Thck            </td><td>-0.08162860                   </td><td>0.0064349566                  </td></tr>\n",
       "\t<tr><th scope=row>cor9</th><td>FS_L_Lateraloccipital_Thck    </td><td>-0.06113074                   </td><td>0.0414462250                  </td></tr>\n",
       "\t<tr><th scope=row>cor10</th><td>FS_L_Lateralorbitofrontal_Thck</td><td>-0.07554982                   </td><td>0.0116942501                  </td></tr>\n",
       "\t<tr><th scope=row>cor18</th><td>FS_L_Parstriangularis_Thck    </td><td>-0.06399382                   </td><td>0.0327831456                  </td></tr>\n",
       "\t<tr><th scope=row>cor28</th><td>FS_L_Superiortemporal_Thck    </td><td>-0.07267394                   </td><td>0.0153081437                  </td></tr>\n",
       "\t<tr><th scope=row>cor34</th><td>FS_R_Bankssts_Thck            </td><td>-0.09007043                   </td><td>0.0026328733                  </td></tr>\n",
       "\t<tr><th scope=row>cor37</th><td>FS_R_Cuneus_Thck              </td><td>-0.06677933                   </td><td>0.0258903259                  </td></tr>\n",
       "\t<tr><th scope=row>cor38</th><td>FS_R_Entorhinal_Thck          </td><td>-0.07100491                   </td><td>0.0178280455                  </td></tr>\n",
       "\t<tr><th scope=row>cor39</th><td>FS_R_Fusiform_Thck            </td><td>-0.07658352                   </td><td>0.0105933004                  </td></tr>\n",
       "\t<tr><th scope=row>cor40</th><td>FS_R_Inferiorparietal_Thck    </td><td>-0.06222014                   </td><td>0.0379452758                  </td></tr>\n",
       "\t<tr><th scope=row>cor41</th><td>FS_R_Inferiortemporal_Thck    </td><td>-0.10475286                   </td><td>0.0004644977                  </td></tr>\n",
       "\t<tr><th scope=row>cor43</th><td>FS_R_Lateraloccipital_Thck    </td><td>-0.09284754                   </td><td>0.0019302022                  </td></tr>\n",
       "\t<tr><th scope=row>cor44</th><td>FS_R_Lateralorbitofrontal_Thck</td><td>-0.08099766                   </td><td>0.0068588140                  </td></tr>\n",
       "\t<tr><th scope=row>cor51</th><td>FS_R_Parsorbitalis_Thck       </td><td>-0.05927398                   </td><td>0.0480422445                  </td></tr>\n",
       "\t<tr><th scope=row>cor62</th><td>FS_R_Superiortemporal_Thck    </td><td>-0.08666303                   </td><td>0.0038107330                  </td></tr>\n",
       "\t<tr><th scope=row>cor63</th><td>FS_R_Supramarginal_Thck       </td><td>-0.07120410                   </td><td>0.0175093630                  </td></tr>\n",
       "\t<tr><th scope=row>cor65</th><td>FS_R_Temporalpole_Thck        </td><td>-0.09441405                   </td><td>0.0016142714                  </td></tr>\n",
       "\t<tr><th scope=row>cor66</th><td>FS_R_Transversetemporal_Thck  </td><td>-0.09261462                   </td><td>0.0019817448                  </td></tr>\n",
       "\t<tr><th scope=row>cor67</th><td>FS_R_Insula_Thck              </td><td>-0.07441763                   </td><td>0.0130153329                  </td></tr>\n",
       "</tbody>\n",
       "</table>\n"
      ],
      "text/latex": [
       "\\begin{tabular}{r|lll}\n",
       "  & region & r & p\\\\\n",
       "\\hline\n",
       "\tcor & FS\\_L\\_Bankssts\\_Thck             & -0.08162860                          & 0.0064349566                        \\\\\n",
       "\tcor9 & FS\\_L\\_Lateraloccipital\\_Thck     & -0.06113074                          & 0.0414462250                        \\\\\n",
       "\tcor10 & FS\\_L\\_Lateralorbitofrontal\\_Thck & -0.07554982                          & 0.0116942501                        \\\\\n",
       "\tcor18 & FS\\_L\\_Parstriangularis\\_Thck     & -0.06399382                          & 0.0327831456                        \\\\\n",
       "\tcor28 & FS\\_L\\_Superiortemporal\\_Thck     & -0.07267394                          & 0.0153081437                        \\\\\n",
       "\tcor34 & FS\\_R\\_Bankssts\\_Thck             & -0.09007043                          & 0.0026328733                        \\\\\n",
       "\tcor37 & FS\\_R\\_Cuneus\\_Thck               & -0.06677933                          & 0.0258903259                        \\\\\n",
       "\tcor38 & FS\\_R\\_Entorhinal\\_Thck           & -0.07100491                          & 0.0178280455                        \\\\\n",
       "\tcor39 & FS\\_R\\_Fusiform\\_Thck             & -0.07658352                          & 0.0105933004                        \\\\\n",
       "\tcor40 & FS\\_R\\_Inferiorparietal\\_Thck     & -0.06222014                          & 0.0379452758                        \\\\\n",
       "\tcor41 & FS\\_R\\_Inferiortemporal\\_Thck     & -0.10475286                          & 0.0004644977                        \\\\\n",
       "\tcor43 & FS\\_R\\_Lateraloccipital\\_Thck     & -0.09284754                          & 0.0019302022                        \\\\\n",
       "\tcor44 & FS\\_R\\_Lateralorbitofrontal\\_Thck & -0.08099766                          & 0.0068588140                        \\\\\n",
       "\tcor51 & FS\\_R\\_Parsorbitalis\\_Thck        & -0.05927398                          & 0.0480422445                        \\\\\n",
       "\tcor62 & FS\\_R\\_Superiortemporal\\_Thck     & -0.08666303                          & 0.0038107330                        \\\\\n",
       "\tcor63 & FS\\_R\\_Supramarginal\\_Thck        & -0.07120410                          & 0.0175093630                        \\\\\n",
       "\tcor65 & FS\\_R\\_Temporalpole\\_Thck         & -0.09441405                          & 0.0016142714                        \\\\\n",
       "\tcor66 & FS\\_R\\_Transversetemporal\\_Thck   & -0.09261462                          & 0.0019817448                        \\\\\n",
       "\tcor67 & FS\\_R\\_Insula\\_Thck               & -0.07441763                          & 0.0130153329                        \\\\\n",
       "\\end{tabular}\n"
      ],
      "text/markdown": [
       "\n",
       "| <!--/--> | region | r | p |\n",
       "|---|---|---|---|\n",
       "| cor | FS_L_Bankssts_Thck             | -0.08162860                    | 0.0064349566                   |\n",
       "| cor9 | FS_L_Lateraloccipital_Thck     | -0.06113074                    | 0.0414462250                   |\n",
       "| cor10 | FS_L_Lateralorbitofrontal_Thck | -0.07554982                    | 0.0116942501                   |\n",
       "| cor18 | FS_L_Parstriangularis_Thck     | -0.06399382                    | 0.0327831456                   |\n",
       "| cor28 | FS_L_Superiortemporal_Thck     | -0.07267394                    | 0.0153081437                   |\n",
       "| cor34 | FS_R_Bankssts_Thck             | -0.09007043                    | 0.0026328733                   |\n",
       "| cor37 | FS_R_Cuneus_Thck               | -0.06677933                    | 0.0258903259                   |\n",
       "| cor38 | FS_R_Entorhinal_Thck           | -0.07100491                    | 0.0178280455                   |\n",
       "| cor39 | FS_R_Fusiform_Thck             | -0.07658352                    | 0.0105933004                   |\n",
       "| cor40 | FS_R_Inferiorparietal_Thck     | -0.06222014                    | 0.0379452758                   |\n",
       "| cor41 | FS_R_Inferiortemporal_Thck     | -0.10475286                    | 0.0004644977                   |\n",
       "| cor43 | FS_R_Lateraloccipital_Thck     | -0.09284754                    | 0.0019302022                   |\n",
       "| cor44 | FS_R_Lateralorbitofrontal_Thck | -0.08099766                    | 0.0068588140                   |\n",
       "| cor51 | FS_R_Parsorbitalis_Thck        | -0.05927398                    | 0.0480422445                   |\n",
       "| cor62 | FS_R_Superiortemporal_Thck     | -0.08666303                    | 0.0038107330                   |\n",
       "| cor63 | FS_R_Supramarginal_Thck        | -0.07120410                    | 0.0175093630                   |\n",
       "| cor65 | FS_R_Temporalpole_Thck         | -0.09441405                    | 0.0016142714                   |\n",
       "| cor66 | FS_R_Transversetemporal_Thck   | -0.09261462                    | 0.0019817448                   |\n",
       "| cor67 | FS_R_Insula_Thck               | -0.07441763                    | 0.0130153329                   |\n",
       "\n"
      ],
      "text/plain": [
       "      region                         r           p           \n",
       "cor   FS_L_Bankssts_Thck             -0.08162860 0.0064349566\n",
       "cor9  FS_L_Lateraloccipital_Thck     -0.06113074 0.0414462250\n",
       "cor10 FS_L_Lateralorbitofrontal_Thck -0.07554982 0.0116942501\n",
       "cor18 FS_L_Parstriangularis_Thck     -0.06399382 0.0327831456\n",
       "cor28 FS_L_Superiortemporal_Thck     -0.07267394 0.0153081437\n",
       "cor34 FS_R_Bankssts_Thck             -0.09007043 0.0026328733\n",
       "cor37 FS_R_Cuneus_Thck               -0.06677933 0.0258903259\n",
       "cor38 FS_R_Entorhinal_Thck           -0.07100491 0.0178280455\n",
       "cor39 FS_R_Fusiform_Thck             -0.07658352 0.0105933004\n",
       "cor40 FS_R_Inferiorparietal_Thck     -0.06222014 0.0379452758\n",
       "cor41 FS_R_Inferiortemporal_Thck     -0.10475286 0.0004644977\n",
       "cor43 FS_R_Lateraloccipital_Thck     -0.09284754 0.0019302022\n",
       "cor44 FS_R_Lateralorbitofrontal_Thck -0.08099766 0.0068588140\n",
       "cor51 FS_R_Parsorbitalis_Thck        -0.05927398 0.0480422445\n",
       "cor62 FS_R_Superiortemporal_Thck     -0.08666303 0.0038107330\n",
       "cor63 FS_R_Supramarginal_Thck        -0.07120410 0.0175093630\n",
       "cor65 FS_R_Temporalpole_Thck         -0.09441405 0.0016142714\n",
       "cor66 FS_R_Transversetemporal_Thck   -0.09261462 0.0019817448\n",
       "cor67 FS_R_Insula_Thck               -0.07441763 0.0130153329"
      ]
     },
     "metadata": {},
     "output_type": "display_data"
    }
   ],
   "source": [
    "corr_results[corr_results$p < 0.05,]"
   ]
  },
  {
   "cell_type": "code",
   "execution_count": 107,
   "metadata": {
    "ExecuteTime": {
     "end_time": "2020-06-18T18:36:56.694161Z",
     "start_time": "2020-06-18T18:36:56.658Z"
    }
   },
   "outputs": [
    {
     "data": {
      "text/html": [
       "<table>\n",
       "<thead><tr><th></th><th scope=col>region</th><th scope=col>r</th><th scope=col>p</th></tr></thead>\n",
       "<tbody>\n",
       "\t<tr><th scope=row>cor41</th><td>FS_R_Inferiortemporal_Thck</td><td>-0.1047529                </td><td>0.0004644977              </td></tr>\n",
       "</tbody>\n",
       "</table>\n"
      ],
      "text/latex": [
       "\\begin{tabular}{r|lll}\n",
       "  & region & r & p\\\\\n",
       "\\hline\n",
       "\tcor41 & FS\\_R\\_Inferiortemporal\\_Thck & -0.1047529                       & 0.0004644977                    \\\\\n",
       "\\end{tabular}\n"
      ],
      "text/markdown": [
       "\n",
       "| <!--/--> | region | r | p |\n",
       "|---|---|---|---|\n",
       "| cor41 | FS_R_Inferiortemporal_Thck | -0.1047529                 | 0.0004644977               |\n",
       "\n"
      ],
      "text/plain": [
       "      region                     r          p           \n",
       "cor41 FS_R_Inferiortemporal_Thck -0.1047529 0.0004644977"
      ]
     },
     "metadata": {},
     "output_type": "display_data"
    }
   ],
   "source": [
    "bonf_p = 0.05/68\n",
    "\n",
    "corr_results[corr_results$p < bonf_p,]"
   ]
  }
 ],
 "metadata": {
  "kernelspec": {
   "display_name": "R",
   "language": "R",
   "name": "ir"
  },
  "language_info": {
   "codemirror_mode": "r",
   "file_extension": ".r",
   "mimetype": "text/x-r-source",
   "name": "R",
   "pygments_lexer": "r",
   "version": "3.6.1"
  },
  "toc": {
   "base_numbering": 1,
   "nav_menu": {},
   "number_sections": true,
   "sideBar": true,
   "skip_h1_title": false,
   "title_cell": "Table of Contents",
   "title_sidebar": "Contents",
   "toc_cell": true,
   "toc_position": {
    "height": "calc(100% - 180px)",
    "left": "10px",
    "top": "150px",
    "width": "165px"
   },
   "toc_section_display": true,
   "toc_window_display": true
  }
 },
 "nbformat": 4,
 "nbformat_minor": 2
}
